{
 "cells": [
  {
   "cell_type": "code",
   "execution_count": 1,
   "metadata": {},
   "outputs": [],
   "source": [
    "# libraries used\n",
    "import numpy as np\n",
    "import pandas as pd\n",
    "\n",
    "from sklearn.ensemble import RandomForestRegressor\n",
    "from sklearn.ensemble import GradientBoostingRegressor\n",
    "from sklearn.svm import SVR\n",
    "\n",
    "from scipy.stats import randint as sp_randint\n",
    "from scipy.stats import uniform\n",
    "from scipy.stats import loguniform\n",
    "from sklearn.model_selection import RandomizedSearchCV\n",
    "\n",
    "from sklearn.metrics import explained_variance_score\n",
    "from sklearn.metrics import max_error\n",
    "from sklearn.metrics import mean_absolute_error\n",
    "from sklearn.metrics import mean_squared_error\n",
    "\n",
    "# PCA\n",
    "from sklearn.preprocessing import StandardScaler\n",
    "from sklearn.decomposition import PCA\n",
    "from sklearn.pipeline import Pipeline\n",
    "from sklearn.pipeline import make_pipeline\n",
    "\n",
    "import matplotlib.pyplot as plt"
   ]
  },
  {
   "cell_type": "code",
   "execution_count": 2,
   "metadata": {},
   "outputs": [],
   "source": [
    "data = pd.read_csv('reanalysis_merged_3hourMean.csv')\n",
    "testing_data = pd.read_csv('ensembleMean_merged.csv')"
   ]
  },
  {
   "cell_type": "markdown",
   "metadata": {},
   "source": [
    "First of all, we split the data set into training and testing in order to get a higher precision of metrics. \n",
    "\n",
    "The training part includes the electricity data before year 2018 while the testing set includes the electricity data after 2018. "
   ]
  },
  {
   "cell_type": "code",
   "execution_count": 3,
   "metadata": {},
   "outputs": [],
   "source": [
    "# splitting data set into training set and testing set (OUTER)\n",
    "\n",
    "train = data[data['time']<'2018-01-01 00:00:00']                 # trainig set are data from dates before 2018\n",
    "test = testing_data[testing_data['time']>='2018-01-01 00:00:00'] # testing set are data from dates after 2018"
   ]
  },
  {
   "cell_type": "code",
   "execution_count": 4,
   "metadata": {},
   "outputs": [],
   "source": [
    "# splitting the sets into variables and response\n",
    "y_train = train['response'].values\n",
    "x_train = train[[x for x in train.columns if (x != 'response') & (x != 'time')]].values\n",
    "\n",
    "y_test = test['response'].values\n",
    "x_test = test[[x for x in test.columns if (x != 'response') & (x != 'time')]].values"
   ]
  },
  {
   "cell_type": "code",
   "execution_count": 5,
   "metadata": {},
   "outputs": [
    {
     "data": {
      "text/html": [
       "<div>\n",
       "<style scoped>\n",
       "    .dataframe tbody tr th:only-of-type {\n",
       "        vertical-align: middle;\n",
       "    }\n",
       "\n",
       "    .dataframe tbody tr th {\n",
       "        vertical-align: top;\n",
       "    }\n",
       "\n",
       "    .dataframe thead th {\n",
       "        text-align: right;\n",
       "    }\n",
       "</style>\n",
       "<table border=\"1\" class=\"dataframe\">\n",
       "  <thead>\n",
       "    <tr style=\"text-align: right;\">\n",
       "      <th></th>\n",
       "      <th>norma_10_36.0_-5.0</th>\n",
       "      <th>norma_10_36.0_-5.5</th>\n",
       "      <th>norma_10_36.0_-6.0</th>\n",
       "      <th>norma_10_36.0_-6.5</th>\n",
       "      <th>norma_10_36.5_-5.0</th>\n",
       "      <th>norma_10_36.5_-5.5</th>\n",
       "      <th>norma_10_36.5_-6.0</th>\n",
       "      <th>norma_10_36.5_-6.5</th>\n",
       "      <th>norma_10_37.0_-5.0</th>\n",
       "      <th>norma_10_37.0_-5.5</th>\n",
       "      <th>...</th>\n",
       "      <th>v100_36.5_-5.0</th>\n",
       "      <th>v100_36.5_-5.5</th>\n",
       "      <th>v100_36.5_-6.0</th>\n",
       "      <th>v100_36.5_-6.5</th>\n",
       "      <th>v100_37.0_-5.0</th>\n",
       "      <th>v100_37.0_-5.5</th>\n",
       "      <th>v100_37.0_-6.0</th>\n",
       "      <th>v100_37.0_-6.5</th>\n",
       "      <th>response</th>\n",
       "      <th>time</th>\n",
       "    </tr>\n",
       "  </thead>\n",
       "  <tbody>\n",
       "    <tr>\n",
       "      <th>5844</th>\n",
       "      <td>7.842567</td>\n",
       "      <td>6.550414</td>\n",
       "      <td>8.525476</td>\n",
       "      <td>9.255894</td>\n",
       "      <td>3.968029</td>\n",
       "      <td>2.951772</td>\n",
       "      <td>3.973586</td>\n",
       "      <td>6.267064</td>\n",
       "      <td>2.63335</td>\n",
       "      <td>1.817965</td>\n",
       "      <td>...</td>\n",
       "      <td>0.31519</td>\n",
       "      <td>2.679534</td>\n",
       "      <td>2.146031</td>\n",
       "      <td>1.244911</td>\n",
       "      <td>5.317875</td>\n",
       "      <td>2.941709</td>\n",
       "      <td>0.066172</td>\n",
       "      <td>0.022889</td>\n",
       "      <td>1321.554</td>\n",
       "      <td>2017-01-01 00:00:00</td>\n",
       "    </tr>\n",
       "  </tbody>\n",
       "</table>\n",
       "<p>1 rows × 98 columns</p>\n",
       "</div>"
      ],
      "text/plain": [
       "      norma_10_36.0_-5.0  norma_10_36.0_-5.5  norma_10_36.0_-6.0  \\\n",
       "5844            7.842567            6.550414            8.525476   \n",
       "\n",
       "      norma_10_36.0_-6.5  norma_10_36.5_-5.0  norma_10_36.5_-5.5  \\\n",
       "5844            9.255894            3.968029            2.951772   \n",
       "\n",
       "      norma_10_36.5_-6.0  norma_10_36.5_-6.5  norma_10_37.0_-5.0  \\\n",
       "5844            3.973586            6.267064             2.63335   \n",
       "\n",
       "      norma_10_37.0_-5.5  ...  v100_36.5_-5.0  v100_36.5_-5.5  v100_36.5_-6.0  \\\n",
       "5844            1.817965  ...         0.31519        2.679534        2.146031   \n",
       "\n",
       "      v100_36.5_-6.5  v100_37.0_-5.0  v100_37.0_-5.5  v100_37.0_-6.0  \\\n",
       "5844        1.244911        5.317875        2.941709        0.066172   \n",
       "\n",
       "      v100_37.0_-6.5  response                 time  \n",
       "5844        0.022889  1321.554  2017-01-01 00:00:00  \n",
       "\n",
       "[1 rows x 98 columns]"
      ]
     },
     "execution_count": 5,
     "metadata": {},
     "output_type": "execute_result"
    }
   ],
   "source": [
    "train[train['time']=='2017-01-01 00:00:00']"
   ]
  },
  {
   "cell_type": "code",
   "execution_count": 6,
   "metadata": {},
   "outputs": [],
   "source": [
    "# Splitting indeces to create a custom cv \n",
    "\n",
    "train_indices = list(range(0,5844))             # dates before 2017 to train\n",
    "test_indices = list(range(5844, len(train)))    # dates from 2017 to 2018 to validate (INNER)\n",
    "custom_cv = [(train_indices, test_indices)]"
   ]
  },
  {
   "cell_type": "markdown",
   "metadata": {},
   "source": [
    "### Defining Metric Matrix"
   ]
  },
  {
   "cell_type": "markdown",
   "metadata": {},
   "source": [
    "With the intention of visualization of the different results of metrics per model, we create a matrix that displays all the results of each model per each data set that we modify. \n",
    "\n",
    "Also, it is necessary to create a function that automatically does the imputation in the matrix for us. \n",
    "\n",
    "The function made requires 5 arguments: the true reponse (y element) for training set and testing set; the prediction of the response that the different models have made and the name of the model. "
   ]
  },
  {
   "cell_type": "code",
   "execution_count": 7,
   "metadata": {},
   "outputs": [],
   "source": [
    "# creating a metrics matrix in order to visualize the different results\n",
    "df_metricas=pd.DataFrame(columns=['train_R2', 'test_R2', 'train_MAXerror', 'test_MAXerror',\n",
    "                                 'train_mae', 'test_mae', 'train_mse', 'test_mse', \n",
    "                                  'train_rmse', 'test_rmse'], \n",
    "                         index=['RF_all','GB_all','SVM_all',\n",
    "                                'RF_uv','GB_uv','SVM_uv',\n",
    "                                'RF_module','GB_module','SVM_module'])"
   ]
  },
  {
   "cell_type": "code",
   "execution_count": 8,
   "metadata": {},
   "outputs": [],
   "source": [
    "# Metrics for evaluating\n",
    "def metrics(y_train, pred_train, y_test, pred_test, model):\n",
    "    # Varianza explicada\n",
    "    ve_train = explained_variance_score(y_train, pred_train)\n",
    "    ve_test = explained_variance_score(y_test, pred_test)\n",
    "    print('explained variance of training set:',(ve_train))\n",
    "    print('explained variance of testing set:',(ve_test))\n",
    "    df_metricas.loc[model, 'train_R2']=ve_train\n",
    "    df_metricas.loc[model, 'test_R2']=ve_test\n",
    "    # Maximum error\n",
    "    me_train = max_error(pred_train, y_train)\n",
    "    me_test = max_error(pred_test, y_test)\n",
    "    print('maximum error of training set:',(me_train))\n",
    "    print('maximum error of testing set:',(me_test))\n",
    "    df_metricas.loc[model, 'train_MAXerror']=me_train\n",
    "    df_metricas.loc[model, 'test_MAXerror']=me_test\n",
    "    # mean absolute error: datos mal predichos, no al cuadrado, menor peso\n",
    "    mae_train = mean_absolute_error(pred_train, y_train)\n",
    "    mae_test = mean_absolute_error(pred_test, y_test)\n",
    "    print('mae of training set:',(mae_train))\n",
    "    print('mae of testing set:',(mae_test))\n",
    "    df_metricas.loc[model, 'train_mae']=mae_train\n",
    "    df_metricas.loc[model, 'test_mae']=mae_test\n",
    "    # mean squared error: al cuadrado \n",
    "    # raiz de mse\n",
    "    mse_train = mean_squared_error(pred_train, y_train)\n",
    "    mse_test = mean_squared_error(pred_test, y_test)\n",
    "    print('mse of training set:',(mse_train))\n",
    "    print('mse of testing set:',(mse_test))\n",
    "    df_metricas.loc[model, 'train_mse']=mse_train\n",
    "    df_metricas.loc[model, 'test_mse']=mse_test\n",
    "    rmse_train = np.sqrt(mse_train)\n",
    "    rmse_test = np.sqrt(mse_test)\n",
    "    print('rmse of training set:',(rmse_train))\n",
    "    print('rmse of testing set:',(rmse_test))\n",
    "    df_metricas.loc[model, 'train_rmse']=rmse_train\n",
    "    df_metricas.loc[model, 'test_rmse']=rmse_test"
   ]
  },
  {
   "cell_type": "code",
   "execution_count": 9,
   "metadata": {},
   "outputs": [],
   "source": [
    "# Pipelines for RF that includes scaling, dimension reduction and modeling\n",
    "pipe_rf = Pipeline([('scale',StandardScaler()),\n",
    "                    ('dim_red', PCA(random_state=10)),\n",
    "                    ('model',RandomForestRegressor(random_state = 10))\n",
    "                   ])"
   ]
  },
  {
   "cell_type": "code",
   "execution_count": 10,
   "metadata": {},
   "outputs": [],
   "source": [
    "# Pipelines for GB\n",
    "pipe_gb = Pipeline([('scale',StandardScaler()),\n",
    "                    ('dim_red', PCA(random_state=10)),\n",
    "                    ('model',GradientBoostingRegressor(random_state = 10))\n",
    "                   ])"
   ]
  },
  {
   "cell_type": "code",
   "execution_count": 11,
   "metadata": {},
   "outputs": [],
   "source": [
    "# Pipelines for SVM\n",
    "pipe_svm = Pipeline([('scale',StandardScaler()),\n",
    "                    ('dim_red', PCA(random_state=10)),\n",
    "                    ('model',SVR())\n",
    "                   ])"
   ]
  },
  {
   "cell_type": "markdown",
   "metadata": {},
   "source": [
    "### ALL VARIABLES"
   ]
  },
  {
   "cell_type": "markdown",
   "metadata": {},
   "source": [
    "#### 1. Random forest"
   ]
  },
  {
   "cell_type": "markdown",
   "metadata": {},
   "source": [
    "For this pipeline of random forest, we tune 4 different hyperparameters: \n",
    "\n",
    "**hyperparameter of PCA:** \n",
    "- n_components, it indicates the % of variance that the PCA will explain; \n",
    "\n",
    "**hyperparameters of RF:**\n",
    "- max_depth, hype which is the maximum number of levels in each decision tree;\n",
    "- min_samples_leaf which is the minimum number of instances allowed in a leaf node;\n",
    "- n_estimators which is the number of trees in the forests.\n",
    "\n",
    "In this case, number of features will not be tuned as we will have very little variables after using PCA. "
   ]
  },
  {
   "cell_type": "code",
   "execution_count": 12,
   "metadata": {
    "scrolled": true
   },
   "outputs": [],
   "source": [
    "params_rf1 = {'dim_red__n_components': [0.8, 0.9, 0.95, 0.98],\n",
    "              'model__max_depth': sp_randint(3, 6), \n",
    "              'model__min_samples_leaf': sp_randint(5, 15),\n",
    "              'model__n_estimators': sp_randint(200, 300)}\n",
    "                    \n",
    "                    \n",
    "rf_search1 = RandomizedSearchCV(pipe_rf, params_rf1, cv=custom_cv, random_state = 10)\n",
    "rf1 = rf_search1.fit(x_train, y_train).best_estimator_"
   ]
  },
  {
   "cell_type": "code",
   "execution_count": 13,
   "metadata": {},
   "outputs": [
    {
     "data": {
      "text/plain": [
       "Pipeline(memory=None,\n",
       "         steps=[('scale',\n",
       "                 StandardScaler(copy=True, with_mean=True, with_std=True)),\n",
       "                ('dim_red',\n",
       "                 PCA(copy=True, iterated_power='auto', n_components=0.8,\n",
       "                     random_state=10, svd_solver='auto', tol=0.0,\n",
       "                     whiten=False)),\n",
       "                ('model',\n",
       "                 RandomForestRegressor(bootstrap=True, ccp_alpha=0.0,\n",
       "                                       criterion='mse', max_depth=5,\n",
       "                                       max_features='auto', max_leaf_nodes=None,\n",
       "                                       max_samples=None,\n",
       "                                       min_impurity_decrease=0.0,\n",
       "                                       min_impurity_split=None,\n",
       "                                       min_samples_leaf=6, min_samples_split=2,\n",
       "                                       min_weight_fraction_leaf=0.0,\n",
       "                                       n_estimators=251, n_jobs=None,\n",
       "                                       oob_score=False, random_state=10,\n",
       "                                       verbose=0, warm_start=False))],\n",
       "         verbose=False)"
      ]
     },
     "execution_count": 13,
     "metadata": {},
     "output_type": "execute_result"
    }
   ],
   "source": [
    "rf1"
   ]
  },
  {
   "cell_type": "markdown",
   "metadata": {},
   "source": [
    "**The best hyperparameters are as follows:**"
   ]
  },
  {
   "cell_type": "code",
   "execution_count": 14,
   "metadata": {
    "scrolled": true
   },
   "outputs": [
    {
     "data": {
      "text/plain": [
       "{'dim_red__n_components': 0.8,\n",
       " 'model__max_depth': 5,\n",
       " 'model__min_samples_leaf': 6,\n",
       " 'model__n_estimators': 251}"
      ]
     },
     "execution_count": 14,
     "metadata": {},
     "output_type": "execute_result"
    }
   ],
   "source": [
    "rf_search1.best_params_"
   ]
  },
  {
   "cell_type": "code",
   "execution_count": 15,
   "metadata": {},
   "outputs": [],
   "source": [
    "rf1_pred_train = rf1.predict(x_train)\n",
    "rf1_pred_test = rf1.predict(x_test)"
   ]
  },
  {
   "cell_type": "code",
   "execution_count": 16,
   "metadata": {},
   "outputs": [
    {
     "name": "stdout",
     "output_type": "stream",
     "text": [
      "explained variance of training set: 0.9104713775390878\n",
      "explained variance of testing set: 0.8476618261376816\n",
      "maximum error of training set: 1756.1568277022377\n",
      "maximum error of testing set: 2017.7737903755337\n",
      "mae of training set: 222.7280673878399\n",
      "mae of testing set: 255.23583944726568\n",
      "mse of training set: 90921.24692366368\n",
      "mse of testing set: 128683.35687398024\n",
      "rmse of training set: 301.5315023735724\n",
      "rmse of testing set: 358.72462540781925\n"
     ]
    }
   ],
   "source": [
    "metrics(y_train, rf1_pred_train, y_test, rf1_pred_test, 'RF_all')"
   ]
  },
  {
   "cell_type": "markdown",
   "metadata": {},
   "source": [
    "#### 2 Gradient Boosting"
   ]
  },
  {
   "cell_type": "markdown",
   "metadata": {},
   "source": [
    "For gradient boosting, we tune 5 different hyperparameters: \n",
    "\n",
    "**hyperparameter of PCA:** \n",
    "\n",
    "- n_components, it indicates the % of variance that the PCA will explain; \n",
    "\n",
    "\n",
    "**hyperparameters of GB:** \n",
    "- learning_rate determines the weight of each tree added to the global model;\n",
    "- n_estimators which is the number of trees in the forest;\n",
    "- max_depth which is the maximum number of levels in each decision tree;\n",
    "- min_samples_leaf which is the minimum number of instances allowed in a leaf node;"
   ]
  },
  {
   "cell_type": "code",
   "execution_count": 17,
   "metadata": {},
   "outputs": [],
   "source": [
    "params_gb1 = {'dim_red__n_components': [0.8, 0.9, 0.95],\n",
    "              'model__learning_rate': loguniform(0.0001, 0.2),\n",
    "              'model__max_depth': sp_randint(3, 6), \n",
    "              'model__min_samples_leaf': sp_randint(5, 15),\n",
    "              'model__n_estimators': sp_randint(280, 380)}\n",
    "                    \n",
    "                    \n",
    "gb_search1 = RandomizedSearchCV(pipe_gb, params_gb1, cv=custom_cv, random_state = 10)\n",
    "gb1 = gb_search1.fit(x_train, y_train).best_estimator_"
   ]
  },
  {
   "cell_type": "code",
   "execution_count": 18,
   "metadata": {},
   "outputs": [
    {
     "data": {
      "text/plain": [
       "Pipeline(memory=None,\n",
       "         steps=[('scale',\n",
       "                 StandardScaler(copy=True, with_mean=True, with_std=True)),\n",
       "                ('dim_red',\n",
       "                 PCA(copy=True, iterated_power='auto', n_components=0.9,\n",
       "                     random_state=10, svd_solver='auto', tol=0.0,\n",
       "                     whiten=False)),\n",
       "                ('model',\n",
       "                 GradientBoostingRegressor(alpha=0.9, ccp_alpha=0.0,\n",
       "                                           criterion='friedman_mse', init=None,\n",
       "                                           learning_rate=0.024128812708312734,\n",
       "                                           loss='ls', max_depth=5,\n",
       "                                           max_features=None,\n",
       "                                           max_leaf_nodes=None,\n",
       "                                           min_impurity_decrease=0.0,\n",
       "                                           min_impurity_split=None,\n",
       "                                           min_samples_leaf=6,\n",
       "                                           min_samples_split=2,\n",
       "                                           min_weight_fraction_leaf=0.0,\n",
       "                                           n_estimators=331,\n",
       "                                           n_iter_no_change=None,\n",
       "                                           presort='deprecated',\n",
       "                                           random_state=10, subsample=1.0,\n",
       "                                           tol=0.0001, validation_fraction=0.1,\n",
       "                                           verbose=0, warm_start=False))],\n",
       "         verbose=False)"
      ]
     },
     "execution_count": 18,
     "metadata": {},
     "output_type": "execute_result"
    }
   ],
   "source": [
    "gb1"
   ]
  },
  {
   "cell_type": "markdown",
   "metadata": {},
   "source": [
    "**The best hyperparameters are as follows:**"
   ]
  },
  {
   "cell_type": "code",
   "execution_count": 19,
   "metadata": {
    "scrolled": true
   },
   "outputs": [
    {
     "data": {
      "text/plain": [
       "{'dim_red__n_components': 0.9,\n",
       " 'model__learning_rate': 0.024128812708312734,\n",
       " 'model__max_depth': 5,\n",
       " 'model__min_samples_leaf': 6,\n",
       " 'model__n_estimators': 331}"
      ]
     },
     "execution_count": 19,
     "metadata": {},
     "output_type": "execute_result"
    }
   ],
   "source": [
    "gb_search1.best_params_"
   ]
  },
  {
   "cell_type": "code",
   "execution_count": 20,
   "metadata": {},
   "outputs": [],
   "source": [
    "gb1_pred_train = gb1.predict(x_train)\n",
    "gb1_pred_test = gb1.predict(x_test)"
   ]
  },
  {
   "cell_type": "code",
   "execution_count": 21,
   "metadata": {},
   "outputs": [
    {
     "name": "stdout",
     "output_type": "stream",
     "text": [
      "explained variance of training set: 0.95946683209323\n",
      "explained variance of testing set: 0.87427703804635\n",
      "maximum error of training set: 1192.4836536141472\n",
      "maximum error of testing set: 1961.019690070598\n",
      "mae of training set: 143.57702934956686\n",
      "mae of testing set: 221.20557446049267\n",
      "mse of training set: 41163.654303000854\n",
      "mse of testing set: 107175.2168567717\n",
      "rmse of training set: 202.88828034906516\n",
      "rmse of testing set: 327.376261901763\n"
     ]
    }
   ],
   "source": [
    "metrics(y_train, gb1_pred_train, y_test, gb1_pred_test, 'GB_all')"
   ]
  },
  {
   "cell_type": "markdown",
   "metadata": {},
   "source": [
    "#### 1.3 Support Vector Machine"
   ]
  },
  {
   "cell_type": "markdown",
   "metadata": {},
   "source": [
    "For gradient boosting, we tune 4 different hyperparameters: \n",
    "**hyperparameter of PCA:** \n",
    "\n",
    "- n_components, it indicates the % of variance that the PCA will explain; \n",
    "\n",
    "\n",
    "**hyperparameters of SVM:** \n",
    "- C, C parameter adds a penalty for each misclassified data point.\n",
    "- gamma, gamma parameter of RBF controls the distance of influence of a single training point"
   ]
  },
  {
   "cell_type": "code",
   "execution_count": 22,
   "metadata": {},
   "outputs": [],
   "source": [
    "params_svm1 = {'dim_red__n_components': [0.6, 0.7, 0.8, 0.9],\n",
    "              'model__C': loguniform(10e-4, 10e+4),\n",
    "              'model__gamma': loguniform(10e-4, 10e+1),\n",
    "              'model__kernel': ['rbf']}\n",
    "                    \n",
    "                    \n",
    "svm_search1 = RandomizedSearchCV(pipe_svm, params_svm1, cv=custom_cv, random_state = 10)\n",
    "svm1 = svm_search1.fit(x_train, y_train).best_estimator_"
   ]
  },
  {
   "cell_type": "markdown",
   "metadata": {},
   "source": [
    "The best hyperparameters for SVM model are as follows:"
   ]
  },
  {
   "cell_type": "code",
   "execution_count": 23,
   "metadata": {
    "scrolled": true
   },
   "outputs": [
    {
     "data": {
      "text/plain": [
       "Pipeline(memory=None,\n",
       "         steps=[('scale',\n",
       "                 StandardScaler(copy=True, with_mean=True, with_std=True)),\n",
       "                ('dim_red',\n",
       "                 PCA(copy=True, iterated_power='auto', n_components=0.6,\n",
       "                     random_state=10, svd_solver='auto', tol=0.0,\n",
       "                     whiten=False)),\n",
       "                ('model',\n",
       "                 SVR(C=247.21164273611004, cache_size=200, coef0=0.0, degree=3,\n",
       "                     epsilon=0.1, gamma=0.1618698156523957, kernel='rbf',\n",
       "                     max_iter=-1, shrinking=True, tol=0.001, verbose=False))],\n",
       "         verbose=False)"
      ]
     },
     "execution_count": 23,
     "metadata": {},
     "output_type": "execute_result"
    }
   ],
   "source": [
    "svm1"
   ]
  },
  {
   "cell_type": "markdown",
   "metadata": {},
   "source": [
    "**The best hyperparameters are as follows:**"
   ]
  },
  {
   "cell_type": "code",
   "execution_count": 24,
   "metadata": {},
   "outputs": [
    {
     "data": {
      "text/plain": [
       "{'dim_red__n_components': 0.6,\n",
       " 'model__C': 247.21164273611004,\n",
       " 'model__gamma': 0.1618698156523957,\n",
       " 'model__kernel': 'rbf'}"
      ]
     },
     "execution_count": 24,
     "metadata": {},
     "output_type": "execute_result"
    }
   ],
   "source": [
    "svm_search1.best_params_"
   ]
  },
  {
   "cell_type": "code",
   "execution_count": 25,
   "metadata": {},
   "outputs": [],
   "source": [
    "svm1_pred_train = svm1.predict(x_train)\n",
    "svm1_pred_test = svm1.predict(x_test)"
   ]
  },
  {
   "cell_type": "code",
   "execution_count": 26,
   "metadata": {},
   "outputs": [
    {
     "name": "stdout",
     "output_type": "stream",
     "text": [
      "explained variance of training set: 0.9208374071621352\n",
      "explained variance of testing set: 0.8387082079273298\n",
      "maximum error of training set: 1465.087693636809\n",
      "maximum error of testing set: 2046.8767048444527\n",
      "mae of training set: 188.84244974467487\n",
      "mae of testing set: 247.24076731237042\n",
      "mse of training set: 80944.99108086359\n",
      "mse of testing set: 138273.75856463768\n",
      "rmse of training set: 284.5083321817897\n",
      "rmse of testing set: 371.8517965058629\n"
     ]
    }
   ],
   "source": [
    "metrics(y_train, svm1_pred_train, y_test, svm1_pred_test, 'SVM_all')"
   ]
  },
  {
   "cell_type": "markdown",
   "metadata": {},
   "source": [
    "### U, V COMPONENT"
   ]
  },
  {
   "cell_type": "code",
   "execution_count": 27,
   "metadata": {},
   "outputs": [],
   "source": [
    "# create a new data set that does not contain the module variable\n",
    "train_uv = train[train.columns.drop(list(train.filter(regex='norma')))]\n",
    "test_uv = test[test.columns.drop(list(test.filter(regex='norma')))]"
   ]
  },
  {
   "cell_type": "code",
   "execution_count": 28,
   "metadata": {},
   "outputs": [
    {
     "data": {
      "text/plain": [
       "(8764, 74)"
      ]
     },
     "execution_count": 28,
     "metadata": {},
     "output_type": "execute_result"
    }
   ],
   "source": [
    "# checking the shape is correct\n",
    "# 98-24=74, we had 98 variables before INCLUDING TIME AND RESPONSE, \n",
    "# we have 24 variables of module (12 coordinates for uv10 and 12 coordinates for uv100)\n",
    "train_uv.shape "
   ]
  },
  {
   "cell_type": "code",
   "execution_count": 29,
   "metadata": {},
   "outputs": [],
   "source": [
    "# splitting the data set into training set and testing set \n",
    "y_train_uv = train_uv['response'].values\n",
    "x_train_uv = train_uv[[x for x in train_uv.columns if (x != 'response') & (x != 'time')]].values\n",
    "\n",
    "y_test_uv = test_uv['response'].values\n",
    "x_test_uv = test_uv[[x for x in test_uv.columns if (x != 'response') & (x != 'time')]].values"
   ]
  },
  {
   "cell_type": "markdown",
   "metadata": {},
   "source": [
    "#### 1 Random Forest"
   ]
  },
  {
   "cell_type": "code",
   "execution_count": 30,
   "metadata": {},
   "outputs": [],
   "source": [
    "params_rf2 = {'dim_red__n_components': [0.8, 0.9, 0.95, 0.98],\n",
    "              'model__max_depth': sp_randint(3, 5), \n",
    "              'model__min_samples_leaf': sp_randint(5, 15),\n",
    "              'model__n_estimators': sp_randint(200, 300)}\n",
    "                    \n",
    "                    \n",
    "rf_search2 = RandomizedSearchCV(pipe_rf, params_rf2, cv=custom_cv, random_state = 10)\n",
    "rf2 = rf_search2.fit(x_train_uv, y_train_uv).best_estimator_"
   ]
  },
  {
   "cell_type": "code",
   "execution_count": 31,
   "metadata": {
    "scrolled": true
   },
   "outputs": [
    {
     "data": {
      "text/plain": [
       "Pipeline(memory=None,\n",
       "         steps=[('scale',\n",
       "                 StandardScaler(copy=True, with_mean=True, with_std=True)),\n",
       "                ('dim_red',\n",
       "                 PCA(copy=True, iterated_power='auto', n_components=0.98,\n",
       "                     random_state=10, svd_solver='auto', tol=0.0,\n",
       "                     whiten=False)),\n",
       "                ('model',\n",
       "                 RandomForestRegressor(bootstrap=True, ccp_alpha=0.0,\n",
       "                                       criterion='mse', max_depth=4,\n",
       "                                       max_features='auto', max_leaf_nodes=None,\n",
       "                                       max_samples=None,\n",
       "                                       min_impurity_decrease=0.0,\n",
       "                                       min_impurity_split=None,\n",
       "                                       min_samples_leaf=11, min_samples_split=2,\n",
       "                                       min_weight_fraction_leaf=0.0,\n",
       "                                       n_estimators=230, n_jobs=None,\n",
       "                                       oob_score=False, random_state=10,\n",
       "                                       verbose=0, warm_start=False))],\n",
       "         verbose=False)"
      ]
     },
     "execution_count": 31,
     "metadata": {},
     "output_type": "execute_result"
    }
   ],
   "source": [
    "rf2"
   ]
  },
  {
   "cell_type": "markdown",
   "metadata": {},
   "source": [
    "**The best hyperparameters are as follows:**"
   ]
  },
  {
   "cell_type": "code",
   "execution_count": 32,
   "metadata": {
    "scrolled": true
   },
   "outputs": [
    {
     "data": {
      "text/plain": [
       "{'dim_red__n_components': 0.98,\n",
       " 'model__max_depth': 4,\n",
       " 'model__min_samples_leaf': 11,\n",
       " 'model__n_estimators': 230}"
      ]
     },
     "execution_count": 32,
     "metadata": {},
     "output_type": "execute_result"
    }
   ],
   "source": [
    "rf_search2.best_params_"
   ]
  },
  {
   "cell_type": "code",
   "execution_count": 33,
   "metadata": {},
   "outputs": [],
   "source": [
    "rf2_pred_train = rf2.predict(x_train_uv)\n",
    "rf2_pred_test = rf2.predict(x_test_uv)"
   ]
  },
  {
   "cell_type": "code",
   "execution_count": 34,
   "metadata": {},
   "outputs": [
    {
     "name": "stdout",
     "output_type": "stream",
     "text": [
      "explained variance of training set: 0.8377841596772211\n",
      "explained variance of testing set: 0.7609996296978969\n",
      "maximum error of training set: 2483.1822295765046\n",
      "maximum error of testing set: 2154.9466918361372\n",
      "mae of training set: 307.72681892847123\n",
      "mae of testing set: 333.02544508034777\n",
      "mse of training set: 164739.3636590356\n",
      "mse of testing set: 201996.66771315032\n",
      "rmse of training set: 405.8809722800954\n",
      "rmse of testing set: 449.4403939491313\n"
     ]
    }
   ],
   "source": [
    "metrics(y_train_uv, rf2_pred_train, y_test_uv, rf2_pred_test, 'RF_uv')"
   ]
  },
  {
   "cell_type": "markdown",
   "metadata": {},
   "source": [
    "#### 2.2 Gradient Boosting"
   ]
  },
  {
   "cell_type": "code",
   "execution_count": 35,
   "metadata": {},
   "outputs": [],
   "source": [
    "params_gb2 = {'dim_red__n_components': [0.8, 0.9, 0.95],\n",
    "              'model__learning_rate': loguniform(0.0001, 0.2),\n",
    "              'model__max_depth': sp_randint(3, 5), \n",
    "              'model__min_samples_leaf': sp_randint(10, 20),\n",
    "              'model__n_estimators': sp_randint(280, 380)}\n",
    "                    \n",
    "                    \n",
    "gb_search2 = RandomizedSearchCV(pipe_gb, params_gb2, cv=custom_cv, random_state = 10)\n",
    "gb2 = gb_search2.fit(x_train_uv, y_train_uv).best_estimator_"
   ]
  },
  {
   "cell_type": "code",
   "execution_count": 36,
   "metadata": {
    "scrolled": true
   },
   "outputs": [
    {
     "data": {
      "text/plain": [
       "Pipeline(memory=None,\n",
       "         steps=[('scale',\n",
       "                 StandardScaler(copy=True, with_mean=True, with_std=True)),\n",
       "                ('dim_red',\n",
       "                 PCA(copy=True, iterated_power='auto', n_components=0.95,\n",
       "                     random_state=10, svd_solver='auto', tol=0.0,\n",
       "                     whiten=False)),\n",
       "                ('model',\n",
       "                 GradientBoostingRegressor(alpha=0.9, ccp_alpha=0.0,\n",
       "                                           criterion='friedman_mse', init=None,\n",
       "                                           learning_rate=0.0533239458470804,\n",
       "                                           loss='ls', max_depth=4,\n",
       "                                           max_features=None,\n",
       "                                           max_leaf_nodes=None,\n",
       "                                           min_impurity_decrease=0.0,\n",
       "                                           min_impurity_split=None,\n",
       "                                           min_samples_leaf=19,\n",
       "                                           min_samples_split=2,\n",
       "                                           min_weight_fraction_leaf=0.0,\n",
       "                                           n_estimators=316,\n",
       "                                           n_iter_no_change=None,\n",
       "                                           presort='deprecated',\n",
       "                                           random_state=10, subsample=1.0,\n",
       "                                           tol=0.0001, validation_fraction=0.1,\n",
       "                                           verbose=0, warm_start=False))],\n",
       "         verbose=False)"
      ]
     },
     "execution_count": 36,
     "metadata": {},
     "output_type": "execute_result"
    }
   ],
   "source": [
    "gb2"
   ]
  },
  {
   "cell_type": "markdown",
   "metadata": {},
   "source": [
    "**The best hyperparameters are as follows:**"
   ]
  },
  {
   "cell_type": "code",
   "execution_count": 37,
   "metadata": {},
   "outputs": [
    {
     "data": {
      "text/plain": [
       "{'dim_red__n_components': 0.95,\n",
       " 'model__learning_rate': 0.0533239458470804,\n",
       " 'model__max_depth': 4,\n",
       " 'model__min_samples_leaf': 19,\n",
       " 'model__n_estimators': 316}"
      ]
     },
     "execution_count": 37,
     "metadata": {},
     "output_type": "execute_result"
    }
   ],
   "source": [
    "gb_search2.best_params_"
   ]
  },
  {
   "cell_type": "code",
   "execution_count": 38,
   "metadata": {},
   "outputs": [],
   "source": [
    "gb2_pred_train = gb2.predict(x_train_uv)\n",
    "gb2_pred_test = gb2.predict(x_test_uv)"
   ]
  },
  {
   "cell_type": "code",
   "execution_count": 39,
   "metadata": {},
   "outputs": [
    {
     "name": "stdout",
     "output_type": "stream",
     "text": [
      "explained variance of training set: 0.9499195845223787\n",
      "explained variance of testing set: 0.8553924420598805\n",
      "maximum error of training set: 1249.1137196896536\n",
      "maximum error of testing set: 2205.238063098348\n",
      "mae of training set: 162.63261901615385\n",
      "mae of testing set: 243.45919801440326\n",
      "mse of training set: 50859.40765382765\n",
      "mse of testing set: 122180.77430335108\n",
      "rmse of training set: 225.5203043050174\n",
      "rmse of testing set: 349.54366580350313\n"
     ]
    }
   ],
   "source": [
    "metrics(y_train_uv, gb2_pred_train, y_test_uv, gb2_pred_test, 'GB_uv')"
   ]
  },
  {
   "cell_type": "markdown",
   "metadata": {},
   "source": [
    "#### 2.3Support Vector Machines"
   ]
  },
  {
   "cell_type": "code",
   "execution_count": 40,
   "metadata": {},
   "outputs": [],
   "source": [
    "params_svm2 = {'dim_red__n_components': [0.6, 0.7, 0.8, 0.9],\n",
    "              'model__C': loguniform(10e-4, 10e+4),\n",
    "              'model__gamma': loguniform(10e-4, 10e+1),\n",
    "              'model__kernel': ['rbf']}\n",
    "                    \n",
    "                    \n",
    "svm_search2 = RandomizedSearchCV(pipe_svm, params_svm2, cv=custom_cv, random_state = 10)\n",
    "svm2 = svm_search2.fit(x_train_uv, y_train_uv).best_estimator_"
   ]
  },
  {
   "cell_type": "code",
   "execution_count": 41,
   "metadata": {
    "scrolled": true
   },
   "outputs": [
    {
     "data": {
      "text/plain": [
       "Pipeline(memory=None,\n",
       "         steps=[('scale',\n",
       "                 StandardScaler(copy=True, with_mean=True, with_std=True)),\n",
       "                ('dim_red',\n",
       "                 PCA(copy=True, iterated_power='auto', n_components=0.7,\n",
       "                     random_state=10, svd_solver='auto', tol=0.0,\n",
       "                     whiten=False)),\n",
       "                ('model',\n",
       "                 SVR(C=978.2076622592449, cache_size=200, coef0=0.0, degree=3,\n",
       "                     epsilon=0.1, gamma=0.31083868392602, kernel='rbf',\n",
       "                     max_iter=-1, shrinking=True, tol=0.001, verbose=False))],\n",
       "         verbose=False)"
      ]
     },
     "execution_count": 41,
     "metadata": {},
     "output_type": "execute_result"
    }
   ],
   "source": [
    "svm2"
   ]
  },
  {
   "cell_type": "markdown",
   "metadata": {},
   "source": [
    "**The best hyperparameters are as follows:**"
   ]
  },
  {
   "cell_type": "code",
   "execution_count": 42,
   "metadata": {},
   "outputs": [
    {
     "data": {
      "text/plain": [
       "{'dim_red__n_components': 0.7,\n",
       " 'model__C': 978.2076622592449,\n",
       " 'model__gamma': 0.31083868392602,\n",
       " 'model__kernel': 'rbf'}"
      ]
     },
     "execution_count": 42,
     "metadata": {},
     "output_type": "execute_result"
    }
   ],
   "source": [
    "svm_search2.best_params_"
   ]
  },
  {
   "cell_type": "code",
   "execution_count": 43,
   "metadata": {},
   "outputs": [],
   "source": [
    "svm2_pred_train = svm2.predict(x_train_uv)\n",
    "svm2_pred_test = svm2.predict(x_test_uv)"
   ]
  },
  {
   "cell_type": "code",
   "execution_count": 44,
   "metadata": {},
   "outputs": [
    {
     "name": "stdout",
     "output_type": "stream",
     "text": [
      "explained variance of training set: 0.9189203379149282\n",
      "explained variance of testing set: 0.7909503060822936\n",
      "maximum error of training set: 1754.3337855509917\n",
      "maximum error of testing set: 2330.0720210940403\n",
      "mae of training set: 175.79477714381048\n",
      "mae of testing set: 288.1248882340978\n",
      "mse of training set: 82645.84122277192\n",
      "mse of testing set: 176830.09996119174\n",
      "rmse of training set: 287.4818972088015\n",
      "rmse of testing set: 420.5117120380736\n"
     ]
    }
   ],
   "source": [
    "metrics(y_train_uv, svm2_pred_train, y_test_uv, svm2_pred_test, 'SVM_uv')"
   ]
  },
  {
   "cell_type": "code",
   "execution_count": null,
   "metadata": {},
   "outputs": [],
   "source": [
    "df_metricas"
   ]
  },
  {
   "cell_type": "markdown",
   "metadata": {},
   "source": [
    "### 3. ONLY MODULE"
   ]
  },
  {
   "cell_type": "markdown",
   "metadata": {},
   "source": [
    "Finally, we train the models using only the modules instead of u,v components. Now we will only have 48 predictors (48 variables of u,v components: 12 coordinates for u,v 10 and 100)."
   ]
  },
  {
   "cell_type": "code",
   "execution_count": 45,
   "metadata": {},
   "outputs": [],
   "source": [
    "# creating data set that does not contain u,v components\n",
    "train_module = train[train.columns.drop(list(train.filter(regex='u100')))]\n",
    "train_module = train_module[train_module.columns.drop(list(train_module.filter(regex='v100')))]\n",
    "train_module = train_module[train_module.columns.drop(list(train_module.filter(regex='u10')))]\n",
    "train_module = train_module[train_module.columns.drop(list(train_module.filter(regex='v10')))]"
   ]
  },
  {
   "cell_type": "code",
   "execution_count": 46,
   "metadata": {},
   "outputs": [],
   "source": [
    "test_module = test[test.columns.drop(list(test.filter(regex='u100')))]\n",
    "test_module = test_module[test_module.columns.drop(list(test_module.filter(regex='v100')))]\n",
    "test_module = test_module[test_module.columns.drop(list(test_module.filter(regex='u10')))]\n",
    "test_module = test_module[test_module.columns.drop(list(test_module.filter(regex='v10')))]"
   ]
  },
  {
   "cell_type": "code",
   "execution_count": 47,
   "metadata": {},
   "outputs": [],
   "source": [
    "# splitting the data set into training set and testing set \n",
    "y_train_module = train_module['response'].values\n",
    "x_train_module = train_module[[x for x in train_module.columns if (x != 'response') & (x != 'time')]].values\n",
    "\n",
    "y_test_module = test_module['response'].values\n",
    "x_test_module = test_module[[x for x in test_module.columns if (x != 'response') & (x != 'time')]].values"
   ]
  },
  {
   "cell_type": "markdown",
   "metadata": {},
   "source": [
    "#### 3.1 Random Forest"
   ]
  },
  {
   "cell_type": "code",
   "execution_count": 48,
   "metadata": {},
   "outputs": [],
   "source": [
    "params_rf3 = {'dim_red__n_components': [0.8, 0.9, 0.95, 0.98],\n",
    "              'model__max_depth': sp_randint(3, 5), \n",
    "              'model__min_samples_leaf': sp_randint(5, 15),\n",
    "              'model__n_estimators': sp_randint(200, 300)}\n",
    "                    \n",
    "                    \n",
    "rf_search3 = RandomizedSearchCV(pipe_rf, params_rf3, cv=custom_cv, random_state = 10)\n",
    "rf3 = rf_search3.fit(x_train_module, y_train_module).best_estimator_"
   ]
  },
  {
   "cell_type": "code",
   "execution_count": 49,
   "metadata": {
    "scrolled": true
   },
   "outputs": [
    {
     "data": {
      "text/plain": [
       "Pipeline(memory=None,\n",
       "         steps=[('scale',\n",
       "                 StandardScaler(copy=True, with_mean=True, with_std=True)),\n",
       "                ('dim_red',\n",
       "                 PCA(copy=True, iterated_power='auto', n_components=0.95,\n",
       "                     random_state=10, svd_solver='auto', tol=0.0,\n",
       "                     whiten=False)),\n",
       "                ('model',\n",
       "                 RandomForestRegressor(bootstrap=True, ccp_alpha=0.0,\n",
       "                                       criterion='mse', max_depth=4,\n",
       "                                       max_features='auto', max_leaf_nodes=None,\n",
       "                                       max_samples=None,\n",
       "                                       min_impurity_decrease=0.0,\n",
       "                                       min_impurity_split=None,\n",
       "                                       min_samples_leaf=6, min_samples_split=2,\n",
       "                                       min_weight_fraction_leaf=0.0,\n",
       "                                       n_estimators=231, n_jobs=None,\n",
       "                                       oob_score=False, random_state=10,\n",
       "                                       verbose=0, warm_start=False))],\n",
       "         verbose=False)"
      ]
     },
     "execution_count": 49,
     "metadata": {},
     "output_type": "execute_result"
    }
   ],
   "source": [
    "rf3"
   ]
  },
  {
   "cell_type": "markdown",
   "metadata": {},
   "source": [
    "**The best hyperparameters are as follows:**"
   ]
  },
  {
   "cell_type": "code",
   "execution_count": 50,
   "metadata": {},
   "outputs": [
    {
     "data": {
      "text/plain": [
       "{'dim_red__n_components': 0.95,\n",
       " 'model__max_depth': 4,\n",
       " 'model__min_samples_leaf': 6,\n",
       " 'model__n_estimators': 231}"
      ]
     },
     "execution_count": 50,
     "metadata": {},
     "output_type": "execute_result"
    }
   ],
   "source": [
    "rf_search3.best_params_"
   ]
  },
  {
   "cell_type": "code",
   "execution_count": 51,
   "metadata": {},
   "outputs": [],
   "source": [
    "rf3_pred_train = rf3.predict(x_train_module)\n",
    "rf3_pred_test = rf3.predict(x_test_module)"
   ]
  },
  {
   "cell_type": "markdown",
   "metadata": {},
   "source": [
    "Training by random forest using module instead of u v components, we got the following conclusions:\n",
    "- The explained variance of testing set of almost 85%; the rooted mean square error is 351, it has the worst results among all. It is a better idea to train the model using all the variables related to the u,v components. "
   ]
  },
  {
   "cell_type": "code",
   "execution_count": 52,
   "metadata": {},
   "outputs": [
    {
     "name": "stdout",
     "output_type": "stream",
     "text": [
      "explained variance of training set: 0.8092276433719736\n",
      "explained variance of testing set: 0.7272527841887821\n",
      "maximum error of training set: 2164.625392201214\n",
      "maximum error of testing set: 1917.0460803338617\n",
      "mae of training set: 331.34969152981824\n",
      "mae of testing set: 358.82618084188675\n",
      "mse of training set: 193740.1284413124\n",
      "mse of testing set: 235598.39648917998\n",
      "rmse of training set: 440.1592080614836\n",
      "rmse of testing set: 485.384792189846\n"
     ]
    }
   ],
   "source": [
    "metrics(y_train_module, rf3_pred_train, y_test_module, rf3_pred_test, 'RF_module')"
   ]
  },
  {
   "cell_type": "markdown",
   "metadata": {},
   "source": [
    "#### 3.2 Gradient Boosting"
   ]
  },
  {
   "cell_type": "code",
   "execution_count": 53,
   "metadata": {},
   "outputs": [],
   "source": [
    "params_gb3 = {'dim_red__n_components': [0.8, 0.9, 0.95],\n",
    "              'model__learning_rate': loguniform(0.0001, 0.2),\n",
    "              'model__max_depth': sp_randint(3, 5), \n",
    "              'model__min_samples_leaf': sp_randint(18, 35),\n",
    "              'model__n_estimators': sp_randint(280, 380)}\n",
    "                    \n",
    "                    \n",
    "gb_search3 = RandomizedSearchCV(pipe_gb, params_gb3, cv=custom_cv, random_state = 10)\n",
    "gb3 = gb_search3.fit(x_train_module, y_train_module).best_estimator_"
   ]
  },
  {
   "cell_type": "code",
   "execution_count": 54,
   "metadata": {
    "scrolled": false
   },
   "outputs": [
    {
     "data": {
      "text/plain": [
       "Pipeline(memory=None,\n",
       "         steps=[('scale',\n",
       "                 StandardScaler(copy=True, with_mean=True, with_std=True)),\n",
       "                ('dim_red',\n",
       "                 PCA(copy=True, iterated_power='auto', n_components=0.9,\n",
       "                     random_state=10, svd_solver='auto', tol=0.0,\n",
       "                     whiten=False)),\n",
       "                ('model',\n",
       "                 GradientBoostingRegressor(alpha=0.9, ccp_alpha=0.0,\n",
       "                                           criterion='friedman_mse', init=None,\n",
       "                                           learning_rate=0.024128812708312734,\n",
       "                                           loss='ls', max_depth=3,\n",
       "                                           max_features=None,\n",
       "                                           max_leaf_nodes=None,\n",
       "                                           min_impurity_decrease=0.0,\n",
       "                                           min_impurity_split=None,\n",
       "                                           min_samples_leaf=31,\n",
       "                                           min_samples_split=2,\n",
       "                                           min_weight_fraction_leaf=0.0,\n",
       "                                           n_estimators=349,\n",
       "                                           n_iter_no_change=None,\n",
       "                                           presort='deprecated',\n",
       "                                           random_state=10, subsample=1.0,\n",
       "                                           tol=0.0001, validation_fraction=0.1,\n",
       "                                           verbose=0, warm_start=False))],\n",
       "         verbose=False)"
      ]
     },
     "execution_count": 54,
     "metadata": {},
     "output_type": "execute_result"
    }
   ],
   "source": [
    "gb3"
   ]
  },
  {
   "cell_type": "markdown",
   "metadata": {},
   "source": [
    "**The best hyperparameters are as follows:**"
   ]
  },
  {
   "cell_type": "code",
   "execution_count": 55,
   "metadata": {},
   "outputs": [
    {
     "data": {
      "text/plain": [
       "{'dim_red__n_components': 0.9,\n",
       " 'model__learning_rate': 0.024128812708312734,\n",
       " 'model__max_depth': 3,\n",
       " 'model__min_samples_leaf': 31,\n",
       " 'model__n_estimators': 349}"
      ]
     },
     "execution_count": 55,
     "metadata": {},
     "output_type": "execute_result"
    }
   ],
   "source": [
    "gb_search3.best_params_"
   ]
  },
  {
   "cell_type": "code",
   "execution_count": 56,
   "metadata": {},
   "outputs": [],
   "source": [
    "gb3_pred_train = gb3.predict(x_train_module)\n",
    "gb3_pred_test = gb3.predict(x_test_module)"
   ]
  },
  {
   "cell_type": "code",
   "execution_count": 57,
   "metadata": {},
   "outputs": [
    {
     "name": "stdout",
     "output_type": "stream",
     "text": [
      "explained variance of training set: 0.8999002418744704\n",
      "explained variance of testing set: 0.765695063312202\n",
      "maximum error of training set: 1640.221349615915\n",
      "maximum error of testing set: 1892.2709771810146\n",
      "mae of training set: 225.1394107007756\n",
      "mae of testing set: 334.3547909736698\n",
      "mse of training set: 101656.79250066917\n",
      "mse of testing set: 204266.70184332487\n",
      "rmse of training set: 318.83662352475943\n",
      "rmse of testing set: 451.95873909387444\n"
     ]
    }
   ],
   "source": [
    "metrics(y_train_module, gb3_pred_train, y_test_module, gb3_pred_test, 'GB_module')"
   ]
  },
  {
   "cell_type": "markdown",
   "metadata": {},
   "source": [
    "#### 3.3 Support Vector Machine"
   ]
  },
  {
   "cell_type": "code",
   "execution_count": 58,
   "metadata": {},
   "outputs": [],
   "source": [
    "params_svm3 = {'dim_red__n_components': [0.6, 0.7, 0.8, 0.9],\n",
    "              'model__C': loguniform(10e-4, 10e+4),\n",
    "              'model__gamma': loguniform(10e-4, 10e+1),\n",
    "              'model__kernel': ['rbf']}\n",
    "                    \n",
    "                    \n",
    "svm_search3 = RandomizedSearchCV(pipe_svm, params_svm3, cv=custom_cv, random_state = 10)\n",
    "svm3 = svm_search3.fit(x_train_module, y_train_module).best_estimator_"
   ]
  },
  {
   "cell_type": "code",
   "execution_count": 59,
   "metadata": {},
   "outputs": [
    {
     "data": {
      "text/plain": [
       "Pipeline(memory=None,\n",
       "         steps=[('scale',\n",
       "                 StandardScaler(copy=True, with_mean=True, with_std=True)),\n",
       "                ('dim_red',\n",
       "                 PCA(copy=True, iterated_power='auto', n_components=0.7,\n",
       "                     random_state=10, svd_solver='auto', tol=0.0,\n",
       "                     whiten=False)),\n",
       "                ('model',\n",
       "                 SVR(C=978.2076622592449, cache_size=200, coef0=0.0, degree=3,\n",
       "                     epsilon=0.1, gamma=0.31083868392602, kernel='rbf',\n",
       "                     max_iter=-1, shrinking=True, tol=0.001, verbose=False))],\n",
       "         verbose=False)"
      ]
     },
     "execution_count": 59,
     "metadata": {},
     "output_type": "execute_result"
    }
   ],
   "source": [
    "svm3"
   ]
  },
  {
   "cell_type": "markdown",
   "metadata": {},
   "source": [
    "**The best hyperparameters are as follows:**"
   ]
  },
  {
   "cell_type": "code",
   "execution_count": 60,
   "metadata": {},
   "outputs": [
    {
     "data": {
      "text/plain": [
       "{'dim_red__n_components': 0.7,\n",
       " 'model__C': 978.2076622592449,\n",
       " 'model__gamma': 0.31083868392602,\n",
       " 'model__kernel': 'rbf'}"
      ]
     },
     "execution_count": 60,
     "metadata": {},
     "output_type": "execute_result"
    }
   ],
   "source": [
    "svm_search3.best_params_"
   ]
  },
  {
   "cell_type": "code",
   "execution_count": 61,
   "metadata": {},
   "outputs": [],
   "source": [
    "svm3_pred_train = svm3.predict(x_train_module)\n",
    "svm3_pred_test = svm3.predict(x_test_module)"
   ]
  },
  {
   "cell_type": "code",
   "execution_count": 62,
   "metadata": {},
   "outputs": [
    {
     "name": "stdout",
     "output_type": "stream",
     "text": [
      "explained variance of training set: 0.8235443266093694\n",
      "explained variance of testing set: 0.6246817244511064\n",
      "maximum error of training set: 2568.4617846601013\n",
      "maximum error of testing set: 2281.3668067310696\n",
      "mae of training set: 261.3048908430908\n",
      "mae of testing set: 376.94795092091175\n",
      "mse of training set: 181530.74775782533\n",
      "mse of testing set: 318759.33732913854\n",
      "rmse of training set: 426.0642530861106\n",
      "rmse of testing set: 564.5877587489288\n"
     ]
    }
   ],
   "source": [
    "metrics(y_train_module, svm3_pred_train, y_test_module, svm3_pred_test, 'SVM_module')"
   ]
  },
  {
   "cell_type": "code",
   "execution_count": 63,
   "metadata": {},
   "outputs": [
    {
     "data": {
      "text/html": [
       "<div>\n",
       "<style scoped>\n",
       "    .dataframe tbody tr th:only-of-type {\n",
       "        vertical-align: middle;\n",
       "    }\n",
       "\n",
       "    .dataframe tbody tr th {\n",
       "        vertical-align: top;\n",
       "    }\n",
       "\n",
       "    .dataframe thead th {\n",
       "        text-align: right;\n",
       "    }\n",
       "</style>\n",
       "<table border=\"1\" class=\"dataframe\">\n",
       "  <thead>\n",
       "    <tr style=\"text-align: right;\">\n",
       "      <th></th>\n",
       "      <th>train_R2</th>\n",
       "      <th>test_R2</th>\n",
       "      <th>train_MAXerror</th>\n",
       "      <th>test_MAXerror</th>\n",
       "      <th>train_mae</th>\n",
       "      <th>test_mae</th>\n",
       "      <th>train_mse</th>\n",
       "      <th>test_mse</th>\n",
       "      <th>train_rmse</th>\n",
       "      <th>test_rmse</th>\n",
       "    </tr>\n",
       "  </thead>\n",
       "  <tbody>\n",
       "    <tr>\n",
       "      <th>RF_all</th>\n",
       "      <td>0.910471</td>\n",
       "      <td>0.847662</td>\n",
       "      <td>1756.16</td>\n",
       "      <td>2017.77</td>\n",
       "      <td>222.728</td>\n",
       "      <td>255.236</td>\n",
       "      <td>90921.2</td>\n",
       "      <td>128683</td>\n",
       "      <td>301.532</td>\n",
       "      <td>358.725</td>\n",
       "    </tr>\n",
       "    <tr>\n",
       "      <th>GB_all</th>\n",
       "      <td>0.959467</td>\n",
       "      <td>0.874277</td>\n",
       "      <td>1192.48</td>\n",
       "      <td>1961.02</td>\n",
       "      <td>143.577</td>\n",
       "      <td>221.206</td>\n",
       "      <td>41163.7</td>\n",
       "      <td>107175</td>\n",
       "      <td>202.888</td>\n",
       "      <td>327.376</td>\n",
       "    </tr>\n",
       "    <tr>\n",
       "      <th>SVM_all</th>\n",
       "      <td>0.920837</td>\n",
       "      <td>0.838708</td>\n",
       "      <td>1465.09</td>\n",
       "      <td>2046.88</td>\n",
       "      <td>188.842</td>\n",
       "      <td>247.241</td>\n",
       "      <td>80945</td>\n",
       "      <td>138274</td>\n",
       "      <td>284.508</td>\n",
       "      <td>371.852</td>\n",
       "    </tr>\n",
       "    <tr>\n",
       "      <th>RF_uv</th>\n",
       "      <td>0.837784</td>\n",
       "      <td>0.761</td>\n",
       "      <td>2483.18</td>\n",
       "      <td>2154.95</td>\n",
       "      <td>307.727</td>\n",
       "      <td>333.025</td>\n",
       "      <td>164739</td>\n",
       "      <td>201997</td>\n",
       "      <td>405.881</td>\n",
       "      <td>449.44</td>\n",
       "    </tr>\n",
       "    <tr>\n",
       "      <th>GB_uv</th>\n",
       "      <td>0.94992</td>\n",
       "      <td>0.855392</td>\n",
       "      <td>1249.11</td>\n",
       "      <td>2205.24</td>\n",
       "      <td>162.633</td>\n",
       "      <td>243.459</td>\n",
       "      <td>50859.4</td>\n",
       "      <td>122181</td>\n",
       "      <td>225.52</td>\n",
       "      <td>349.544</td>\n",
       "    </tr>\n",
       "    <tr>\n",
       "      <th>SVM_uv</th>\n",
       "      <td>0.91892</td>\n",
       "      <td>0.79095</td>\n",
       "      <td>1754.33</td>\n",
       "      <td>2330.07</td>\n",
       "      <td>175.795</td>\n",
       "      <td>288.125</td>\n",
       "      <td>82645.8</td>\n",
       "      <td>176830</td>\n",
       "      <td>287.482</td>\n",
       "      <td>420.512</td>\n",
       "    </tr>\n",
       "    <tr>\n",
       "      <th>RF_module</th>\n",
       "      <td>0.809228</td>\n",
       "      <td>0.727253</td>\n",
       "      <td>2164.63</td>\n",
       "      <td>1917.05</td>\n",
       "      <td>331.35</td>\n",
       "      <td>358.826</td>\n",
       "      <td>193740</td>\n",
       "      <td>235598</td>\n",
       "      <td>440.159</td>\n",
       "      <td>485.385</td>\n",
       "    </tr>\n",
       "    <tr>\n",
       "      <th>GB_module</th>\n",
       "      <td>0.8999</td>\n",
       "      <td>0.765695</td>\n",
       "      <td>1640.22</td>\n",
       "      <td>1892.27</td>\n",
       "      <td>225.139</td>\n",
       "      <td>334.355</td>\n",
       "      <td>101657</td>\n",
       "      <td>204267</td>\n",
       "      <td>318.837</td>\n",
       "      <td>451.959</td>\n",
       "    </tr>\n",
       "    <tr>\n",
       "      <th>SVM_module</th>\n",
       "      <td>0.823544</td>\n",
       "      <td>0.624682</td>\n",
       "      <td>2568.46</td>\n",
       "      <td>2281.37</td>\n",
       "      <td>261.305</td>\n",
       "      <td>376.948</td>\n",
       "      <td>181531</td>\n",
       "      <td>318759</td>\n",
       "      <td>426.064</td>\n",
       "      <td>564.588</td>\n",
       "    </tr>\n",
       "  </tbody>\n",
       "</table>\n",
       "</div>"
      ],
      "text/plain": [
       "            train_R2   test_R2 train_MAXerror test_MAXerror train_mae  \\\n",
       "RF_all      0.910471  0.847662        1756.16       2017.77   222.728   \n",
       "GB_all      0.959467  0.874277        1192.48       1961.02   143.577   \n",
       "SVM_all     0.920837  0.838708        1465.09       2046.88   188.842   \n",
       "RF_uv       0.837784     0.761        2483.18       2154.95   307.727   \n",
       "GB_uv        0.94992  0.855392        1249.11       2205.24   162.633   \n",
       "SVM_uv       0.91892   0.79095        1754.33       2330.07   175.795   \n",
       "RF_module   0.809228  0.727253        2164.63       1917.05    331.35   \n",
       "GB_module     0.8999  0.765695        1640.22       1892.27   225.139   \n",
       "SVM_module  0.823544  0.624682        2568.46       2281.37   261.305   \n",
       "\n",
       "           test_mae train_mse test_mse train_rmse test_rmse  \n",
       "RF_all      255.236   90921.2   128683    301.532   358.725  \n",
       "GB_all      221.206   41163.7   107175    202.888   327.376  \n",
       "SVM_all     247.241     80945   138274    284.508   371.852  \n",
       "RF_uv       333.025    164739   201997    405.881    449.44  \n",
       "GB_uv       243.459   50859.4   122181     225.52   349.544  \n",
       "SVM_uv      288.125   82645.8   176830    287.482   420.512  \n",
       "RF_module   358.826    193740   235598    440.159   485.385  \n",
       "GB_module   334.355    101657   204267    318.837   451.959  \n",
       "SVM_module  376.948    181531   318759    426.064   564.588  "
      ]
     },
     "execution_count": 63,
     "metadata": {},
     "output_type": "execute_result"
    }
   ],
   "source": [
    "df_metricas # gradient boosting with all the variables"
   ]
  },
  {
   "cell_type": "markdown",
   "metadata": {},
   "source": [
    "###################################"
   ]
  },
  {
   "cell_type": "markdown",
   "metadata": {},
   "source": [
    "PCA Analysis"
   ]
  },
  {
   "cell_type": "markdown",
   "metadata": {},
   "source": [
    "###################################"
   ]
  },
  {
   "cell_type": "markdown",
   "metadata": {},
   "source": [
    "We will analyze the components of 95% explained variance which are 8 of them, as we have obtained the best results using gradient boosting with them.  "
   ]
  },
  {
   "cell_type": "code",
   "execution_count": 64,
   "metadata": {},
   "outputs": [],
   "source": [
    "# importing the merged dataset\n",
    "data = pd.read_csv('reanalysis_merged_3hourMean.csv')\n",
    "\n",
    "# splitting data set into training set and testing set (OUTER)\n",
    "\n",
    "train = data[data['time']<'2018-01-01 00:00:00'] # trainig set are data from dates before 2018\n",
    "test = data[data['time']>='2018-01-01 00:00:00'] # testing set are data from dates after 2018\n",
    "\n",
    "# splitting the sets into variables and response "
   ]
  },
  {
   "cell_type": "code",
   "execution_count": 74,
   "metadata": {},
   "outputs": [],
   "source": [
    "y_train = train['response']\n",
    "x_train = train[[x for x in train.columns if (x != 'response') & (x != 'time')]]\n",
    "\n",
    "y_test = test['response']\n",
    "x_test = test[[x for x in test.columns if (x != 'response') & (x != 'time')]]"
   ]
  },
  {
   "cell_type": "code",
   "execution_count": 75,
   "metadata": {},
   "outputs": [],
   "source": [
    "pca_pipe = make_pipeline(StandardScaler(), \n",
    "                         PCA(random_state = 10, n_components = 0.9)).fit(x_train)\n",
    "model_pca = pca_pipe.named_steps['pca']"
   ]
  },
  {
   "cell_type": "code",
   "execution_count": 76,
   "metadata": {},
   "outputs": [
    {
     "data": {
      "text/plain": [
       "PCA(copy=True, iterated_power='auto', n_components=0.9, random_state=10,\n",
       "    svd_solver='auto', tol=0.0, whiten=False)"
      ]
     },
     "execution_count": 76,
     "metadata": {},
     "output_type": "execute_result"
    }
   ],
   "source": [
    "model_pca"
   ]
  },
  {
   "cell_type": "code",
   "execution_count": 78,
   "metadata": {
    "scrolled": true
   },
   "outputs": [
    {
     "data": {
      "text/html": [
       "<div>\n",
       "<style scoped>\n",
       "    .dataframe tbody tr th:only-of-type {\n",
       "        vertical-align: middle;\n",
       "    }\n",
       "\n",
       "    .dataframe tbody tr th {\n",
       "        vertical-align: top;\n",
       "    }\n",
       "\n",
       "    .dataframe thead th {\n",
       "        text-align: right;\n",
       "    }\n",
       "</style>\n",
       "<table border=\"1\" class=\"dataframe\">\n",
       "  <thead>\n",
       "    <tr style=\"text-align: right;\">\n",
       "      <th></th>\n",
       "      <th>norma_10_36.0_-5.0</th>\n",
       "      <th>norma_10_36.0_-5.5</th>\n",
       "      <th>norma_10_36.0_-6.0</th>\n",
       "      <th>norma_10_36.0_-6.5</th>\n",
       "      <th>norma_10_36.5_-5.0</th>\n",
       "      <th>norma_10_36.5_-5.5</th>\n",
       "      <th>norma_10_36.5_-6.0</th>\n",
       "      <th>norma_10_36.5_-6.5</th>\n",
       "      <th>norma_10_37.0_-5.0</th>\n",
       "      <th>norma_10_37.0_-5.5</th>\n",
       "      <th>...</th>\n",
       "      <th>v100_36.0_-6.0</th>\n",
       "      <th>v100_36.0_-6.5</th>\n",
       "      <th>v100_36.5_-5.0</th>\n",
       "      <th>v100_36.5_-5.5</th>\n",
       "      <th>v100_36.5_-6.0</th>\n",
       "      <th>v100_36.5_-6.5</th>\n",
       "      <th>v100_37.0_-5.0</th>\n",
       "      <th>v100_37.0_-5.5</th>\n",
       "      <th>v100_37.0_-6.0</th>\n",
       "      <th>v100_37.0_-6.5</th>\n",
       "    </tr>\n",
       "  </thead>\n",
       "  <tbody>\n",
       "    <tr>\n",
       "      <th>PC1</th>\n",
       "      <td>0.025183</td>\n",
       "      <td>0.100090</td>\n",
       "      <td>0.137612</td>\n",
       "      <td>0.124263</td>\n",
       "      <td>0.031478</td>\n",
       "      <td>0.101418</td>\n",
       "      <td>0.116599</td>\n",
       "      <td>0.061898</td>\n",
       "      <td>0.069700</td>\n",
       "      <td>0.023553</td>\n",
       "      <td>...</td>\n",
       "      <td>0.055389</td>\n",
       "      <td>0.077446</td>\n",
       "      <td>0.005139</td>\n",
       "      <td>0.132255</td>\n",
       "      <td>0.106487</td>\n",
       "      <td>0.103913</td>\n",
       "      <td>0.154670</td>\n",
       "      <td>0.082866</td>\n",
       "      <td>0.028931</td>\n",
       "      <td>0.056549</td>\n",
       "    </tr>\n",
       "    <tr>\n",
       "      <th>PC2</th>\n",
       "      <td>0.007165</td>\n",
       "      <td>0.033760</td>\n",
       "      <td>0.036517</td>\n",
       "      <td>0.015458</td>\n",
       "      <td>0.043467</td>\n",
       "      <td>0.057999</td>\n",
       "      <td>0.071928</td>\n",
       "      <td>0.051292</td>\n",
       "      <td>0.070552</td>\n",
       "      <td>0.097313</td>\n",
       "      <td>...</td>\n",
       "      <td>0.118496</td>\n",
       "      <td>0.111955</td>\n",
       "      <td>0.136062</td>\n",
       "      <td>0.108308</td>\n",
       "      <td>0.135976</td>\n",
       "      <td>0.124881</td>\n",
       "      <td>0.074592</td>\n",
       "      <td>0.129373</td>\n",
       "      <td>0.157246</td>\n",
       "      <td>0.142949</td>\n",
       "    </tr>\n",
       "    <tr>\n",
       "      <th>PC3</th>\n",
       "      <td>0.198540</td>\n",
       "      <td>0.157096</td>\n",
       "      <td>0.121353</td>\n",
       "      <td>0.151213</td>\n",
       "      <td>0.198928</td>\n",
       "      <td>0.149021</td>\n",
       "      <td>0.151933</td>\n",
       "      <td>0.199445</td>\n",
       "      <td>0.170800</td>\n",
       "      <td>0.179403</td>\n",
       "      <td>...</td>\n",
       "      <td>-0.008499</td>\n",
       "      <td>-0.013333</td>\n",
       "      <td>-0.030772</td>\n",
       "      <td>-0.043101</td>\n",
       "      <td>-0.027753</td>\n",
       "      <td>-0.031416</td>\n",
       "      <td>-0.011741</td>\n",
       "      <td>0.026430</td>\n",
       "      <td>-0.021264</td>\n",
       "      <td>-0.036813</td>\n",
       "    </tr>\n",
       "    <tr>\n",
       "      <th>PC4</th>\n",
       "      <td>0.067699</td>\n",
       "      <td>0.086323</td>\n",
       "      <td>0.078940</td>\n",
       "      <td>0.082799</td>\n",
       "      <td>0.065750</td>\n",
       "      <td>0.096719</td>\n",
       "      <td>0.067668</td>\n",
       "      <td>0.054969</td>\n",
       "      <td>0.088629</td>\n",
       "      <td>0.026019</td>\n",
       "      <td>...</td>\n",
       "      <td>-0.205073</td>\n",
       "      <td>-0.199906</td>\n",
       "      <td>-0.112577</td>\n",
       "      <td>-0.114032</td>\n",
       "      <td>-0.140513</td>\n",
       "      <td>-0.141642</td>\n",
       "      <td>-0.071077</td>\n",
       "      <td>-0.142301</td>\n",
       "      <td>-0.146915</td>\n",
       "      <td>-0.125108</td>\n",
       "    </tr>\n",
       "    <tr>\n",
       "      <th>PC5</th>\n",
       "      <td>-0.031926</td>\n",
       "      <td>-0.061999</td>\n",
       "      <td>-0.032616</td>\n",
       "      <td>-0.000225</td>\n",
       "      <td>-0.062429</td>\n",
       "      <td>-0.068960</td>\n",
       "      <td>-0.034111</td>\n",
       "      <td>0.005022</td>\n",
       "      <td>-0.068894</td>\n",
       "      <td>-0.050493</td>\n",
       "      <td>...</td>\n",
       "      <td>-0.012035</td>\n",
       "      <td>-0.023389</td>\n",
       "      <td>-0.087031</td>\n",
       "      <td>-0.025819</td>\n",
       "      <td>-0.043177</td>\n",
       "      <td>-0.048687</td>\n",
       "      <td>-0.002650</td>\n",
       "      <td>-0.022642</td>\n",
       "      <td>-0.048173</td>\n",
       "      <td>-0.069961</td>\n",
       "    </tr>\n",
       "    <tr>\n",
       "      <th>PC6</th>\n",
       "      <td>0.028403</td>\n",
       "      <td>0.023861</td>\n",
       "      <td>-0.015596</td>\n",
       "      <td>0.009402</td>\n",
       "      <td>0.025323</td>\n",
       "      <td>0.019301</td>\n",
       "      <td>0.007045</td>\n",
       "      <td>0.058588</td>\n",
       "      <td>-0.027046</td>\n",
       "      <td>0.029343</td>\n",
       "      <td>...</td>\n",
       "      <td>0.080554</td>\n",
       "      <td>-0.042708</td>\n",
       "      <td>0.213260</td>\n",
       "      <td>0.027669</td>\n",
       "      <td>-0.078429</td>\n",
       "      <td>-0.130471</td>\n",
       "      <td>-0.099502</td>\n",
       "      <td>-0.163244</td>\n",
       "      <td>-0.190372</td>\n",
       "      <td>-0.176055</td>\n",
       "    </tr>\n",
       "    <tr>\n",
       "      <th>PC7</th>\n",
       "      <td>-0.275768</td>\n",
       "      <td>-0.233597</td>\n",
       "      <td>-0.084014</td>\n",
       "      <td>-0.027341</td>\n",
       "      <td>-0.129266</td>\n",
       "      <td>-0.032555</td>\n",
       "      <td>0.056323</td>\n",
       "      <td>0.111617</td>\n",
       "      <td>0.016262</td>\n",
       "      <td>0.238330</td>\n",
       "      <td>...</td>\n",
       "      <td>-0.102789</td>\n",
       "      <td>-0.042511</td>\n",
       "      <td>0.071623</td>\n",
       "      <td>0.021923</td>\n",
       "      <td>-0.035607</td>\n",
       "      <td>0.020968</td>\n",
       "      <td>-0.046738</td>\n",
       "      <td>-0.051570</td>\n",
       "      <td>0.032532</td>\n",
       "      <td>0.108399</td>\n",
       "    </tr>\n",
       "    <tr>\n",
       "      <th>PC8</th>\n",
       "      <td>0.072470</td>\n",
       "      <td>-0.063583</td>\n",
       "      <td>-0.137822</td>\n",
       "      <td>-0.055496</td>\n",
       "      <td>-0.021734</td>\n",
       "      <td>-0.105260</td>\n",
       "      <td>-0.023501</td>\n",
       "      <td>0.080361</td>\n",
       "      <td>-0.039188</td>\n",
       "      <td>0.022814</td>\n",
       "      <td>...</td>\n",
       "      <td>0.129337</td>\n",
       "      <td>0.066483</td>\n",
       "      <td>-0.309776</td>\n",
       "      <td>-0.123961</td>\n",
       "      <td>-0.001029</td>\n",
       "      <td>-0.020658</td>\n",
       "      <td>0.000425</td>\n",
       "      <td>0.140374</td>\n",
       "      <td>0.066622</td>\n",
       "      <td>-0.057954</td>\n",
       "    </tr>\n",
       "  </tbody>\n",
       "</table>\n",
       "<p>8 rows × 96 columns</p>\n",
       "</div>"
      ],
      "text/plain": [
       "     norma_10_36.0_-5.0  norma_10_36.0_-5.5  norma_10_36.0_-6.0  \\\n",
       "PC1            0.025183            0.100090            0.137612   \n",
       "PC2            0.007165            0.033760            0.036517   \n",
       "PC3            0.198540            0.157096            0.121353   \n",
       "PC4            0.067699            0.086323            0.078940   \n",
       "PC5           -0.031926           -0.061999           -0.032616   \n",
       "PC6            0.028403            0.023861           -0.015596   \n",
       "PC7           -0.275768           -0.233597           -0.084014   \n",
       "PC8            0.072470           -0.063583           -0.137822   \n",
       "\n",
       "     norma_10_36.0_-6.5  norma_10_36.5_-5.0  norma_10_36.5_-5.5  \\\n",
       "PC1            0.124263            0.031478            0.101418   \n",
       "PC2            0.015458            0.043467            0.057999   \n",
       "PC3            0.151213            0.198928            0.149021   \n",
       "PC4            0.082799            0.065750            0.096719   \n",
       "PC5           -0.000225           -0.062429           -0.068960   \n",
       "PC6            0.009402            0.025323            0.019301   \n",
       "PC7           -0.027341           -0.129266           -0.032555   \n",
       "PC8           -0.055496           -0.021734           -0.105260   \n",
       "\n",
       "     norma_10_36.5_-6.0  norma_10_36.5_-6.5  norma_10_37.0_-5.0  \\\n",
       "PC1            0.116599            0.061898            0.069700   \n",
       "PC2            0.071928            0.051292            0.070552   \n",
       "PC3            0.151933            0.199445            0.170800   \n",
       "PC4            0.067668            0.054969            0.088629   \n",
       "PC5           -0.034111            0.005022           -0.068894   \n",
       "PC6            0.007045            0.058588           -0.027046   \n",
       "PC7            0.056323            0.111617            0.016262   \n",
       "PC8           -0.023501            0.080361           -0.039188   \n",
       "\n",
       "     norma_10_37.0_-5.5  ...  v100_36.0_-6.0  v100_36.0_-6.5  v100_36.5_-5.0  \\\n",
       "PC1            0.023553  ...        0.055389        0.077446        0.005139   \n",
       "PC2            0.097313  ...        0.118496        0.111955        0.136062   \n",
       "PC3            0.179403  ...       -0.008499       -0.013333       -0.030772   \n",
       "PC4            0.026019  ...       -0.205073       -0.199906       -0.112577   \n",
       "PC5           -0.050493  ...       -0.012035       -0.023389       -0.087031   \n",
       "PC6            0.029343  ...        0.080554       -0.042708        0.213260   \n",
       "PC7            0.238330  ...       -0.102789       -0.042511        0.071623   \n",
       "PC8            0.022814  ...        0.129337        0.066483       -0.309776   \n",
       "\n",
       "     v100_36.5_-5.5  v100_36.5_-6.0  v100_36.5_-6.5  v100_37.0_-5.0  \\\n",
       "PC1        0.132255        0.106487        0.103913        0.154670   \n",
       "PC2        0.108308        0.135976        0.124881        0.074592   \n",
       "PC3       -0.043101       -0.027753       -0.031416       -0.011741   \n",
       "PC4       -0.114032       -0.140513       -0.141642       -0.071077   \n",
       "PC5       -0.025819       -0.043177       -0.048687       -0.002650   \n",
       "PC6        0.027669       -0.078429       -0.130471       -0.099502   \n",
       "PC7        0.021923       -0.035607        0.020968       -0.046738   \n",
       "PC8       -0.123961       -0.001029       -0.020658        0.000425   \n",
       "\n",
       "     v100_37.0_-5.5  v100_37.0_-6.0  v100_37.0_-6.5  \n",
       "PC1        0.082866        0.028931        0.056549  \n",
       "PC2        0.129373        0.157246        0.142949  \n",
       "PC3        0.026430       -0.021264       -0.036813  \n",
       "PC4       -0.142301       -0.146915       -0.125108  \n",
       "PC5       -0.022642       -0.048173       -0.069961  \n",
       "PC6       -0.163244       -0.190372       -0.176055  \n",
       "PC7       -0.051570        0.032532        0.108399  \n",
       "PC8        0.140374        0.066622       -0.057954  \n",
       "\n",
       "[8 rows x 96 columns]"
      ]
     },
     "execution_count": 78,
     "metadata": {},
     "output_type": "execute_result"
    }
   ],
   "source": [
    "pd.DataFrame(data = model_pca.components_,\n",
    "            columns = x_train.columns,\n",
    "            index = ['PC1','PC2','PC3','PC4','PC5','PC6','PC7','PC8'])"
   ]
  },
  {
   "cell_type": "code",
   "execution_count": 80,
   "metadata": {},
   "outputs": [
    {
     "data": {
      "image/png": "[encoded data removed]",
      "text/plain": [
       "<Figure size 432x288 with 2 Axes>"
      ]
     },
     "metadata": {
      "needs_background": "light"
     },
     "output_type": "display_data"
    }
   ],
   "source": [
    "# Heatmap components\n",
    "fig, ax = plt.subplots(nrows=1, ncols=1)\n",
    "components = model_pca.components_\n",
    "plt.imshow(components.T, cmap='viridis', aspect='auto')\n",
    "plt.yticks(range(len(x_train.columns)), x_train.columns)\n",
    "plt.xticks(range(8), np.arange(model_pca.n_components_) + 1)\n",
    "plt.grid(False)\n",
    "plt.colorbar();"
   ]
  },
  {
   "cell_type": "code",
   "execution_count": 81,
   "metadata": {},
   "outputs": [
    {
     "data": {
      "text/plain": [
       "array([0.29021031, 0.22187282, 0.15649911, 0.1047037 , 0.06600657,\n",
       "       0.03027213, 0.02743054, 0.01909296])"
      ]
     },
     "execution_count": 81,
     "metadata": {},
     "output_type": "execute_result"
    }
   ],
   "source": [
    "model_pca.explained_variance_ratio_"
   ]
  },
  {
   "cell_type": "code",
   "execution_count": 82,
   "metadata": {},
   "outputs": [
    {
     "data": {
      "image/png": "[encoded data removed]",
      "text/plain": [
       "<Figure size 432x288 with 1 Axes>"
      ]
     },
     "metadata": {
      "needs_background": "light"
     },
     "output_type": "display_data"
    }
   ],
   "source": [
    "# graph of explained variance per each principal component\n",
    "fig, ax = plt.subplots(nrows=1, ncols=1)\n",
    "ax.bar(\n",
    "    x      = np.arange(model_pca.n_components_) + 1,\n",
    "    height = model_pca.explained_variance_ratio_\n",
    ")\n",
    "\n",
    "for x, y in zip(np.arange(8) + 1, model_pca.explained_variance_ratio_):\n",
    "    label = round(y, 2)\n",
    "    ax.annotate(\n",
    "        label,\n",
    "        (x,y),\n",
    "        textcoords=\"offset points\",\n",
    "        xytext=(0,10),\n",
    "        ha='center'\n",
    "    )\n",
    "\n",
    "ax.set_xticks(np.arange(model_pca.n_components_) + 1)\n",
    "ax.set_ylim(0, 1)\n",
    "ax.set_title('Percentage of Variance Explained by each Component')\n",
    "ax.set_xlabel('Principal Component')\n",
    "ax.set_ylabel('Per. Variance Explained');"
   ]
  },
  {
   "cell_type": "code",
   "execution_count": 83,
   "metadata": {},
   "outputs": [
    {
     "data": {
      "image/png": "[encoded data removed]",
      "text/plain": [
       "<Figure size 432x288 with 1 Axes>"
      ]
     },
     "metadata": {
      "needs_background": "light"
     },
     "output_type": "display_data"
    }
   ],
   "source": [
    "# graph of cumulative explained variance\n",
    "prop_varianza_acum = model_pca.explained_variance_ratio_.cumsum()\n",
    "\n",
    "fig, ax = plt.subplots(nrows=1, ncols=1)\n",
    "ax.plot(\n",
    "    np.arange(8) + 1,\n",
    "    prop_varianza_acum,\n",
    "    marker = 'o'\n",
    ")\n",
    "\n",
    "for x, y in zip(np.arange(8) + 1, prop_varianza_acum):\n",
    "    label = round(y, 2)\n",
    "    ax.annotate(\n",
    "        label,\n",
    "        (x,y),\n",
    "        textcoords=\"offset points\",\n",
    "        xytext=(0,10),\n",
    "        ha='center'\n",
    "    )\n",
    "\n",
    "ax.set_ylim(0, 1.1)\n",
    "ax.set_xticks(np.arange(model_pca.n_components_) + 1)\n",
    "ax.set_title('Porcentaje de varianza explicada acumulada')\n",
    "ax.set_xlabel('Componente principal')\n",
    "ax.set_ylabel('Por. varianza acumulada');\n"
   ]
  }
 ],
 "metadata": {
  "kernelspec": {
   "display_name": "Python 3",
   "language": "python",
   "name": "python3"
  },
  "language_info": {
   "codemirror_mode": {
    "name": "ipython",
    "version": 3
   },
   "file_extension": ".py",
   "mimetype": "text/x-python",
   "name": "python",
   "nbconvert_exporter": "python",
   "pygments_lexer": "ipython3",
   "version": "3.7.6"
  }
 },
 "nbformat": 4,
 "nbformat_minor": 4
}
