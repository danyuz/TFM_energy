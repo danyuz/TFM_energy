{
 "cells": [
  {
   "cell_type": "code",
   "execution_count": 1,
   "metadata": {},
   "outputs": [],
   "source": [
    "# libraries used\n",
    "import numpy as np\n",
    "import pandas as pd\n",
    "\n",
    "from sklearn.ensemble import RandomForestRegressor\n",
    "from sklearn.ensemble import GradientBoostingRegressor\n",
    "from sklearn.svm import SVR\n",
    "\n",
    "from scipy.stats import randint as sp_randint\n",
    "from scipy.stats import uniform\n",
    "from scipy.stats import loguniform\n",
    "from sklearn.model_selection import RandomizedSearchCV\n",
    "\n",
    "from sklearn.metrics import explained_variance_score\n",
    "from sklearn.metrics import max_error\n",
    "from sklearn.metrics import mean_absolute_error\n",
    "from sklearn.metrics import mean_squared_error\n",
    "\n",
    "# PLS\n",
    "from sklearn.cross_decomposition import PLSRegression\n",
    "from sklearn.pipeline import Pipeline\n",
    "from sklearn.pipeline import make_pipeline\n",
    "\n",
    "from sklearn.model_selection import cross_val_predict\n",
    "from sklearn.metrics import mean_squared_error, r2_score, mean_absolute_error\n",
    "import matplotlib.pyplot as plt"
   ]
  },
  {
   "cell_type": "code",
   "execution_count": 2,
   "metadata": {},
   "outputs": [],
   "source": [
    "# importing the merged dataset which we will only use the data from 2015-2017\n",
    "data = pd.read_csv('reanalysis_merged_3hourMean.csv')\n",
    "\n",
    "# importing the testing data set which we will only use the data from 2018\n",
    "testing_data = pd.read_csv('ensembleMean_merged.csv')"
   ]
  },
  {
   "cell_type": "markdown",
   "metadata": {},
   "source": [
    "First of all, we split the data set into training and testing in order to get a higher precision of metrics. \n",
    "\n",
    "The training part includes the electricity data before year 2018 while the testing set includes the electricity data after 2018. "
   ]
  },
  {
   "cell_type": "code",
   "execution_count": 3,
   "metadata": {},
   "outputs": [],
   "source": [
    "# splitting data set into training set and testing set (OUTER)\n",
    "\n",
    "train = data[data['time']<'2018-01-01 00:00:00']                    # trainig set are data from dates before 2018\n",
    "test = testing_data[testing_data['time']>='2018-01-01 00:00:00']    # testing set are data from dates after 2018"
   ]
  },
  {
   "cell_type": "code",
   "execution_count": 4,
   "metadata": {},
   "outputs": [],
   "source": [
    "# splitting the sets into variables and response\n",
    "y_train = train['response'].values\n",
    "x_train = train[[x for x in train.columns if (x != 'response') & (x != 'time')]].values\n",
    "\n",
    "y_test = test['response'].values\n",
    "x_test = test[[x for x in test.columns if (x != 'response') & (x != 'time')]].values"
   ]
  },
  {
   "cell_type": "code",
   "execution_count": 5,
   "metadata": {},
   "outputs": [],
   "source": [
    "# Splitting indeces to create a custom cv \n",
    "\n",
    "train_indices = list(range(0,5844))             # dates before 2017 to train\n",
    "test_indices = list(range(5844, len(train)))    # dates from 2017 to 2018 to validate (INNER)\n",
    "custom_cv = [(train_indices, test_indices)]"
   ]
  },
  {
   "cell_type": "markdown",
   "metadata": {},
   "source": [
    "Creating some functions in order to facilitate the modeling afterwards"
   ]
  },
  {
   "cell_type": "code",
   "execution_count": 6,
   "metadata": {},
   "outputs": [],
   "source": [
    "# 1. Random forest\n",
    "def optimize_rf(x_train, y_train, params_rf):\n",
    "    rf=RandomForestRegressor(random_state = 10)\n",
    "    rf_search = RandomizedSearchCV(rf, params_rf, cv=custom_cv, n_iter = 30)\n",
    "    rf_search.fit(x_train, y_train)\n",
    "    return rf_search.best_estimator_"
   ]
  },
  {
   "cell_type": "code",
   "execution_count": 7,
   "metadata": {},
   "outputs": [],
   "source": [
    "# 2. Gradient boosting\n",
    "def optimize_gb(x_train, y_train, params_gb):\n",
    "    gb=GradientBoostingRegressor(random_state = 10)\n",
    "    gb_search = RandomizedSearchCV(gb, params_gb, cv=custom_cv, n_iter = 30)\n",
    "    gb_search.fit(x_train, y_train)\n",
    "    return gb_search.best_estimator_"
   ]
  },
  {
   "cell_type": "code",
   "execution_count": 8,
   "metadata": {},
   "outputs": [],
   "source": [
    "# 3. SVM\n",
    "def optimize_svm(x_train, y_train, params_svm):   \n",
    "    svm = SVR()\n",
    "    svm_search = RandomizedSearchCV(svm, params_svm, cv=custom_cv, n_iter = 30)\n",
    "    svm_search.fit(x_train, y_train)\n",
    "    return svm_search.best_estimator_"
   ]
  },
  {
   "cell_type": "markdown",
   "metadata": {},
   "source": [
    "### Defining Metric Matrix"
   ]
  },
  {
   "cell_type": "markdown",
   "metadata": {},
   "source": [
    "With the intention of visualization of the different results of metrics per model, we create a matrix that displays all the results of each model per each data set that we modify. \n",
    "\n",
    "Also, it is necessary to create a function that automatically does the imputation in the matrix for us. \n",
    "\n",
    "The function made requires 5 arguments: the true reponse (y element) for training set and testing set; the prediction of the response that the different models have made and the name of the model. "
   ]
  },
  {
   "cell_type": "code",
   "execution_count": 9,
   "metadata": {},
   "outputs": [],
   "source": [
    "# creating a metrics matrix in order to visualize the different results\n",
    "df_metricas=pd.DataFrame(columns=['train_R2', 'test_R2', 'train_MAXerror', 'test_MAXerror',\n",
    "                                 'train_mae', 'test_mae', 'train_mse', 'test_mse', \n",
    "                                  'train_rmse', 'test_rmse'], \n",
    "                         index=['RF_1','GB_1','SVM_1',  # 1 means 15 components of pls\n",
    "                                'RF_2','GB_2','SVM_2',  # 2 means 20 components of pls\n",
    "                                'RF_3','GB_3','SVM_3']) # 3 means 25 components of pls"
   ]
  },
  {
   "cell_type": "code",
   "execution_count": 10,
   "metadata": {},
   "outputs": [],
   "source": [
    "# Metrics for evaluating\n",
    "def metrics(y_train, pred_train, y_test, pred_test, model):\n",
    "    # Varianza explicada\n",
    "    ve_train = explained_variance_score(y_train, pred_train)\n",
    "    ve_test = explained_variance_score(y_test, pred_test)\n",
    "    print('explained variance of training set:',(ve_train))\n",
    "    print('explained variance of testing set:',(ve_test))\n",
    "    df_metricas.loc[model, 'train_R2']=ve_train\n",
    "    df_metricas.loc[model, 'test_R2']=ve_test\n",
    "    # Maximum error\n",
    "    me_train = max_error(pred_train, y_train)\n",
    "    me_test = max_error(pred_test, y_test)\n",
    "    print('maximum error of training set:',(me_train))\n",
    "    print('maximum error of testing set:',(me_test))\n",
    "    df_metricas.loc[model, 'train_MAXerror']=me_train\n",
    "    df_metricas.loc[model, 'test_MAXerror']=me_test\n",
    "    # mean absolute error: datos mal predichos, no al cuadrado, menor peso\n",
    "    mae_train = mean_absolute_error(pred_train, y_train)\n",
    "    mae_test = mean_absolute_error(pred_test, y_test)\n",
    "    print('mae of training set:',(mae_train))\n",
    "    print('mae of testing set:',(mae_test))\n",
    "    df_metricas.loc[model, 'train_mae']=mae_train\n",
    "    df_metricas.loc[model, 'test_mae']=mae_test\n",
    "    # mean squared error: al cuadrado \n",
    "    # raiz de mse\n",
    "    mse_train = mean_squared_error(pred_train, y_train)\n",
    "    mse_test = mean_squared_error(pred_test, y_test)\n",
    "    print('mse of training set:',(mse_train))\n",
    "    print('mse of testing set:',(mse_test))\n",
    "    df_metricas.loc[model, 'train_mse']=mse_train\n",
    "    df_metricas.loc[model, 'test_mse']=mse_test\n",
    "    rmse_train = np.sqrt(mse_train)\n",
    "    rmse_test = np.sqrt(mse_test)\n",
    "    print('rmse of training set:',(rmse_train))\n",
    "    print('rmse of testing set:',(rmse_test))\n",
    "    df_metricas.loc[model, 'train_rmse']=rmse_train\n",
    "    df_metricas.loc[model, 'test_rmse']=rmse_test"
   ]
  },
  {
   "cell_type": "markdown",
   "metadata": {},
   "source": [
    "### ALL VARIABLES"
   ]
  },
  {
   "cell_type": "code",
   "execution_count": 11,
   "metadata": {},
   "outputs": [],
   "source": [
    "def optimise_pls_cv(X, y, n_comp):\n",
    "    # Define PLS object\n",
    "    pls = PLSRegression(n_components=n_comp)\n",
    "\n",
    "    # Cross-validation\n",
    "    y_cv = cross_val_predict(pls, X, y, cv=10)\n",
    "\n",
    "    # Calculate scores\n",
    "    r2 = r2_score(y, y_cv)\n",
    "    mse = mean_squared_error(y, y_cv)\n",
    "    rpd = y.std()/np.sqrt(mse)\n",
    "    mae = mean_absolute_error(y, y_cv)\n",
    "\n",
    "    return (y_cv, r2, mse, rpd, mae)"
   ]
  },
  {
   "cell_type": "code",
   "execution_count": 12,
   "metadata": {
    "scrolled": false
   },
   "outputs": [],
   "source": [
    "# test with 30 components\n",
    "r2s = []\n",
    "mses = []\n",
    "rpds = []\n",
    "maes = []\n",
    "\n",
    "xticks = np.arange(1, 30)\n",
    "for n_comp in xticks:\n",
    "    y_cv, r2, mse, rpd, mae = optimise_pls_cv(x_train, y_train, n_comp)\n",
    "    r2s.append(r2)\n",
    "    mses.append(mse)\n",
    "    rpds.append(rpd)\n",
    "    maes.append(mae)"
   ]
  },
  {
   "cell_type": "code",
   "execution_count": 13,
   "metadata": {},
   "outputs": [],
   "source": [
    "# Plot the metrics\n",
    "def plot_metrics(vals, ylabel, objective):\n",
    "    with plt.style.context('ggplot'):\n",
    "        plt.plot(xticks, np.array(vals), '-v', color='blue', mfc='blue')\n",
    "        if objective=='min':\n",
    "            idx = np.argmin(vals)\n",
    "        else:\n",
    "            idx = np.argmax(vals)\n",
    "        plt.plot(xticks[idx], np.array(vals)[idx], 'P', ms=10, mfc='red')\n",
    "\n",
    "        plt.xlabel('Number of PLS components')\n",
    "        plt.xticks = xticks\n",
    "        plt.ylabel(ylabel)\n",
    "        plt.title('PLS')\n",
    "\n",
    "    plt.show()"
   ]
  },
  {
   "cell_type": "code",
   "execution_count": 14,
   "metadata": {},
   "outputs": [
    {
     "data": {
      "image/png": "[encoded data removed]",
      "text/plain": [
       "<Figure size 432x288 with 1 Axes>"
      ]
     },
     "metadata": {},
     "output_type": "display_data"
    }
   ],
   "source": [
    "plot_metrics(mses, 'MSE', 'min')"
   ]
  },
  {
   "cell_type": "code",
   "execution_count": 15,
   "metadata": {},
   "outputs": [
    {
     "data": {
      "image/png": "[encoded data removed]",
      "text/plain": [
       "<Figure size 432x288 with 1 Axes>"
      ]
     },
     "metadata": {},
     "output_type": "display_data"
    }
   ],
   "source": [
    "plot_metrics(rpds, 'RPD', 'max')"
   ]
  },
  {
   "cell_type": "code",
   "execution_count": 16,
   "metadata": {},
   "outputs": [
    {
     "data": {
      "image/png": "[encoded data removed]",
      "text/plain": [
       "<Figure size 432x288 with 1 Axes>"
      ]
     },
     "metadata": {},
     "output_type": "display_data"
    }
   ],
   "source": [
    "plot_metrics(r2s, 'R2', 'max')"
   ]
  },
  {
   "cell_type": "code",
   "execution_count": 17,
   "metadata": {},
   "outputs": [
    {
     "data": {
      "image/png": "[encoded data removed]",
      "text/plain": [
       "<Figure size 432x288 with 1 Axes>"
      ]
     },
     "metadata": {},
     "output_type": "display_data"
    }
   ],
   "source": [
    "plot_metrics(maes, 'MAE', 'min')"
   ]
  },
  {
   "cell_type": "code",
   "execution_count": 18,
   "metadata": {},
   "outputs": [],
   "source": [
    "pls1 = PLSRegression(n_components=15).fit(x_train, y_train)\n",
    "x_train_1 = pls1.transform(x_train)\n",
    "x_test_1 = pls1.transform(x_test)"
   ]
  },
  {
   "cell_type": "code",
   "execution_count": 19,
   "metadata": {},
   "outputs": [],
   "source": [
    "pls2 = PLSRegression(n_components=20).fit(x_train, y_train)\n",
    "x_train_2 = pls2.transform(x_train)\n",
    "x_test_2 = pls2.transform(x_test)"
   ]
  },
  {
   "cell_type": "code",
   "execution_count": 20,
   "metadata": {},
   "outputs": [],
   "source": [
    "pls3 = PLSRegression(n_components=25).fit(x_train, y_train)\n",
    "x_train_3 = pls3.transform(x_train)\n",
    "x_test_3 = pls3.transform(x_test)"
   ]
  },
  {
   "cell_type": "markdown",
   "metadata": {},
   "source": [
    "#### 1. Random forest"
   ]
  },
  {
   "cell_type": "code",
   "execution_count": 21,
   "metadata": {},
   "outputs": [
    {
     "data": {
      "text/plain": [
       "RandomForestRegressor(bootstrap=True, ccp_alpha=0.0, criterion='mse',\n",
       "                      max_depth=4, max_features='auto', max_leaf_nodes=None,\n",
       "                      max_samples=None, min_impurity_decrease=0.0,\n",
       "                      min_impurity_split=None, min_samples_leaf=22,\n",
       "                      min_samples_split=2, min_weight_fraction_leaf=0.0,\n",
       "                      n_estimators=200, n_jobs=None, oob_score=False,\n",
       "                      random_state=10, verbose=0, warm_start=False)"
      ]
     },
     "execution_count": 21,
     "metadata": {},
     "output_type": "execute_result"
    }
   ],
   "source": [
    "params_rf1 = {'max_depth': sp_randint(2, 5), \n",
    "             'min_samples_leaf': sp_randint(10, 25),\n",
    "             'n_estimators': sp_randint(150, 280)}\n",
    "\n",
    "rf1 = optimize_rf(x_train_1, y_train, params_rf1)\n",
    "rf1"
   ]
  },
  {
   "cell_type": "code",
   "execution_count": 22,
   "metadata": {},
   "outputs": [
    {
     "name": "stdout",
     "output_type": "stream",
     "text": [
      "explained variance of training set: 0.9124107999146517\n",
      "explained variance of testing set: 0.8466730026116649\n",
      "maximum error of training set: 1840.512462060749\n",
      "maximum error of testing set: 1961.0143709095769\n",
      "mae of training set: 218.39842540873278\n",
      "mae of testing set: 255.71831693817475\n",
      "mse of training set: 88951.63494750134\n",
      "mse of testing set: 130929.50372318404\n",
      "rmse of training set: 298.2476067758153\n",
      "rmse of testing set: 361.84182141259464\n"
     ]
    }
   ],
   "source": [
    "rf1_pred_train = rf1.predict(x_train_1)\n",
    "rf1_pred_test = rf1.predict(x_test_1)\n",
    "\n",
    "metrics(y_train, rf1_pred_train, y_test, rf1_pred_test, 'RF_1')"
   ]
  },
  {
   "cell_type": "code",
   "execution_count": 23,
   "metadata": {},
   "outputs": [
    {
     "data": {
      "text/plain": [
       "RandomForestRegressor(bootstrap=True, ccp_alpha=0.0, criterion='mse',\n",
       "                      max_depth=4, max_features='auto', max_leaf_nodes=None,\n",
       "                      max_samples=None, min_impurity_decrease=0.0,\n",
       "                      min_impurity_split=None, min_samples_leaf=23,\n",
       "                      min_samples_split=2, min_weight_fraction_leaf=0.0,\n",
       "                      n_estimators=150, n_jobs=None, oob_score=False,\n",
       "                      random_state=10, verbose=0, warm_start=False)"
      ]
     },
     "execution_count": 23,
     "metadata": {},
     "output_type": "execute_result"
    }
   ],
   "source": [
    "params_rf2 = {'max_depth': sp_randint(2, 5), \n",
    "             'min_samples_leaf': sp_randint(10, 25),\n",
    "             'n_estimators': sp_randint(150, 280)}\n",
    "\n",
    "rf2 = optimize_rf(x_train_2, y_train, params_rf2)\n",
    "rf2"
   ]
  },
  {
   "cell_type": "code",
   "execution_count": 24,
   "metadata": {},
   "outputs": [
    {
     "name": "stdout",
     "output_type": "stream",
     "text": [
      "explained variance of training set: 0.9125348521823633\n",
      "explained variance of testing set: 0.8440494644229433\n",
      "maximum error of training set: 1833.9311255121875\n",
      "maximum error of testing set: 1961.693988131647\n",
      "mae of training set: 218.40059869064876\n",
      "mae of testing set: 258.6645205196483\n",
      "mse of training set: 88825.72454571848\n",
      "mse of testing set: 133493.74384909315\n",
      "rmse of training set: 298.0364483510674\n",
      "rmse of testing set: 365.3679567902653\n"
     ]
    }
   ],
   "source": [
    "rf2_pred_train = rf2.predict(x_train_2)\n",
    "rf2_pred_test = rf2.predict(x_test_2)\n",
    "\n",
    "metrics(y_train, rf2_pred_train, y_test, rf2_pred_test, 'RF_2')"
   ]
  },
  {
   "cell_type": "code",
   "execution_count": 25,
   "metadata": {},
   "outputs": [
    {
     "data": {
      "text/plain": [
       "RandomForestRegressor(bootstrap=True, ccp_alpha=0.0, criterion='mse',\n",
       "                      max_depth=4, max_features='auto', max_leaf_nodes=None,\n",
       "                      max_samples=None, min_impurity_decrease=0.0,\n",
       "                      min_impurity_split=None, min_samples_leaf=24,\n",
       "                      min_samples_split=2, min_weight_fraction_leaf=0.0,\n",
       "                      n_estimators=239, n_jobs=None, oob_score=False,\n",
       "                      random_state=10, verbose=0, warm_start=False)"
      ]
     },
     "execution_count": 25,
     "metadata": {},
     "output_type": "execute_result"
    }
   ],
   "source": [
    "params_rf3 = {'max_depth': sp_randint(2, 5), \n",
    "             'min_samples_leaf': sp_randint(10, 25),\n",
    "             'n_estimators': sp_randint(150, 280)}\n",
    "\n",
    "rf3 = optimize_rf(x_train_3, y_train, params_rf3)\n",
    "rf3"
   ]
  },
  {
   "cell_type": "code",
   "execution_count": 26,
   "metadata": {},
   "outputs": [
    {
     "name": "stdout",
     "output_type": "stream",
     "text": [
      "explained variance of training set: 0.9123752715399075\n",
      "explained variance of testing set: 0.8442212745624498\n",
      "maximum error of training set: 1803.6067266967393\n",
      "maximum error of testing set: 1956.4393200844574\n",
      "mae of training set: 218.46680291652004\n",
      "mae of testing set: 258.6853651719124\n",
      "mse of training set: 88987.75490175767\n",
      "mse of testing set: 133361.33548423043\n",
      "rmse of training set: 298.308154266285\n",
      "rmse of testing set: 365.18671318139496\n"
     ]
    }
   ],
   "source": [
    "rf3_pred_train = rf3.predict(x_train_3)\n",
    "rf3_pred_test = rf3.predict(x_test_3)\n",
    "\n",
    "metrics(y_train, rf3_pred_train, y_test, rf3_pred_test, 'RF_3')"
   ]
  },
  {
   "cell_type": "markdown",
   "metadata": {},
   "source": [
    "#### 2 Gradient Boosting"
   ]
  },
  {
   "cell_type": "code",
   "execution_count": 27,
   "metadata": {},
   "outputs": [
    {
     "data": {
      "text/plain": [
       "GradientBoostingRegressor(alpha=0.9, ccp_alpha=0.0, criterion='friedman_mse',\n",
       "                          init=None, learning_rate=0.030884847167526434,\n",
       "                          loss='ls', max_depth=4, max_features=None,\n",
       "                          max_leaf_nodes=None, min_impurity_decrease=0.0,\n",
       "                          min_impurity_split=None, min_samples_leaf=14,\n",
       "                          min_samples_split=2, min_weight_fraction_leaf=0.0,\n",
       "                          n_estimators=261, n_iter_no_change=None,\n",
       "                          presort='deprecated', random_state=10, subsample=1.0,\n",
       "                          tol=0.0001, validation_fraction=0.1, verbose=0,\n",
       "                          warm_start=False)"
      ]
     },
     "execution_count": 27,
     "metadata": {},
     "output_type": "execute_result"
    }
   ],
   "source": [
    "params_gb1 = {'learning_rate': loguniform(0.0001, 0.3),\n",
    "             'max_depth': sp_randint(2, 5), \n",
    "             'min_samples_leaf': sp_randint(10, 25),\n",
    "             'n_estimators': sp_randint(180, 280)}\n",
    "\n",
    "gb1 = optimize_gb(x_train_1, y_train, params_gb1)\n",
    "gb1"
   ]
  },
  {
   "cell_type": "code",
   "execution_count": 28,
   "metadata": {},
   "outputs": [
    {
     "name": "stdout",
     "output_type": "stream",
     "text": [
      "explained variance of training set: 0.9592877379662096\n",
      "explained variance of testing set: 0.8403218358440869\n",
      "maximum error of training set: 1172.5975256693953\n",
      "maximum error of testing set: 1867.7389211922768\n",
      "mae of training set: 144.0519201228898\n",
      "mae of testing set: 249.97414415626446\n",
      "mse of training set: 41345.53420810283\n",
      "mse of testing set: 138874.782828423\n",
      "rmse of training set: 203.3360130623762\n",
      "rmse of testing set: 372.65907050335295\n"
     ]
    }
   ],
   "source": [
    "gb1_pred_train = gb1.predict(x_train_1)\n",
    "gb1_pred_test = gb1.predict(x_test_1)\n",
    "\n",
    "metrics(y_train, gb1_pred_train, y_test, gb1_pred_test, 'GB_1')"
   ]
  },
  {
   "cell_type": "code",
   "execution_count": 29,
   "metadata": {},
   "outputs": [
    {
     "data": {
      "text/plain": [
       "GradientBoostingRegressor(alpha=0.9, ccp_alpha=0.0, criterion='friedman_mse',\n",
       "                          init=None, learning_rate=0.13186151117144698,\n",
       "                          loss='ls', max_depth=4, max_features=None,\n",
       "                          max_leaf_nodes=None, min_impurity_decrease=0.0,\n",
       "                          min_impurity_split=None, min_samples_leaf=22,\n",
       "                          min_samples_split=2, min_weight_fraction_leaf=0.0,\n",
       "                          n_estimators=180, n_iter_no_change=None,\n",
       "                          presort='deprecated', random_state=10, subsample=1.0,\n",
       "                          tol=0.0001, validation_fraction=0.1, verbose=0,\n",
       "                          warm_start=False)"
      ]
     },
     "execution_count": 29,
     "metadata": {},
     "output_type": "execute_result"
    }
   ],
   "source": [
    "params_gb2 = {'learning_rate': loguniform(0.0001, 0.3),\n",
    "             'max_depth': sp_randint(2, 5), \n",
    "             'min_samples_leaf': sp_randint(10, 25),\n",
    "             'n_estimators': sp_randint(180, 280)}\n",
    "\n",
    "gb2 = optimize_gb(x_train_2, y_train, params_gb2)\n",
    "gb2"
   ]
  },
  {
   "cell_type": "code",
   "execution_count": 30,
   "metadata": {},
   "outputs": [
    {
     "name": "stdout",
     "output_type": "stream",
     "text": [
      "explained variance of training set: 0.9708421225650257\n",
      "explained variance of testing set: 0.8208933480252026\n",
      "maximum error of training set: 1129.514298306026\n",
      "maximum error of testing set: 1860.1049797305295\n",
      "mae of training set: 121.82960011461665\n",
      "mae of testing set: 271.59449658202874\n",
      "mse of training set: 29611.423160983275\n",
      "mse of testing set: 154448.67254587778\n",
      "rmse of training set: 172.07970002584057\n",
      "rmse of testing set: 392.99958339148117\n"
     ]
    }
   ],
   "source": [
    "gb2_pred_train = gb2.predict(x_train_2)\n",
    "gb2_pred_test = gb2.predict(x_test_2)\n",
    "\n",
    "metrics(y_train, gb2_pred_train, y_test, gb2_pred_test, 'GB_2')"
   ]
  },
  {
   "cell_type": "code",
   "execution_count": 31,
   "metadata": {},
   "outputs": [
    {
     "data": {
      "text/plain": [
       "GradientBoostingRegressor(alpha=0.9, ccp_alpha=0.0, criterion='friedman_mse',\n",
       "                          init=None, learning_rate=0.17250643065590868,\n",
       "                          loss='ls', max_depth=4, max_features=None,\n",
       "                          max_leaf_nodes=None, min_impurity_decrease=0.0,\n",
       "                          min_impurity_split=None, min_samples_leaf=24,\n",
       "                          min_samples_split=2, min_weight_fraction_leaf=0.0,\n",
       "                          n_estimators=216, n_iter_no_change=None,\n",
       "                          presort='deprecated', random_state=10, subsample=1.0,\n",
       "                          tol=0.0001, validation_fraction=0.1, verbose=0,\n",
       "                          warm_start=False)"
      ]
     },
     "execution_count": 31,
     "metadata": {},
     "output_type": "execute_result"
    }
   ],
   "source": [
    "params_gb3 = {'learning_rate': loguniform(0.0001, 0.3),\n",
    "              'max_depth': sp_randint(2, 5), \n",
    "              'min_samples_leaf': sp_randint(10, 25),\n",
    "              'n_estimators': sp_randint(180, 280)}\n",
    "\n",
    "gb3 = optimize_gb(x_train_3, y_train, params_gb3)\n",
    "gb3"
   ]
  },
  {
   "cell_type": "code",
   "execution_count": 32,
   "metadata": {
    "scrolled": true
   },
   "outputs": [
    {
     "name": "stdout",
     "output_type": "stream",
     "text": [
      "explained variance of training set: 0.9780696884705649\n",
      "explained variance of testing set: 0.7947494824172459\n",
      "maximum error of training set: 1076.0280229389846\n",
      "maximum error of testing set: 2122.5451109400046\n",
      "mae of training set: 106.19489903704176\n",
      "mae of testing set: 323.78180101572786\n",
      "mse of training set: 22271.43372141918\n",
      "mse of testing set: 219377.71126577118\n",
      "rmse of training set: 149.23616760497163\n",
      "rmse of testing set: 468.3777442041532\n"
     ]
    }
   ],
   "source": [
    "gb3_pred_train = gb3.predict(x_train_3)\n",
    "gb3_pred_test = gb3.predict(x_test_3)\n",
    "\n",
    "metrics(y_train, gb3_pred_train, y_test, gb3_pred_test, 'GB_3')"
   ]
  },
  {
   "cell_type": "markdown",
   "metadata": {},
   "source": [
    "#### 1.3 Support Vector Machine"
   ]
  },
  {
   "cell_type": "code",
   "execution_count": 33,
   "metadata": {
    "scrolled": true
   },
   "outputs": [
    {
     "data": {
      "text/plain": [
       "SVR(C=11150.729362025286, cache_size=200, coef0=0.0, degree=3, epsilon=0.1,\n",
       "    gamma=0.007194019940348339, kernel='rbf', max_iter=-1, shrinking=True,\n",
       "    tol=0.001, verbose=False)"
      ]
     },
     "execution_count": 33,
     "metadata": {},
     "output_type": "execute_result"
    }
   ],
   "source": [
    "params_svm1 = {'C': loguniform(10e-4, 10e+4),\n",
    "               'gamma': loguniform(10e-4, 10e+1),\n",
    "               'kernel': ['rbf']}\n",
    "\n",
    "svm1 = optimize_svm(x_train_1, y_train, params_svm1)\n",
    "svm1"
   ]
  },
  {
   "cell_type": "code",
   "execution_count": 34,
   "metadata": {},
   "outputs": [
    {
     "name": "stdout",
     "output_type": "stream",
     "text": [
      "explained variance of training set: 0.9651521994856314\n",
      "explained variance of testing set: 0.6960122671877065\n",
      "maximum error of training set: 1244.7156072611313\n",
      "maximum error of testing set: 2205.359863245887\n",
      "mae of training set: 120.09099499484775\n",
      "mae of testing set: 349.7075331038701\n",
      "mse of training set: 35431.239466478735\n",
      "mse of testing set: 256879.90543587736\n",
      "rmse of training set: 188.23187686063892\n",
      "rmse of testing set: 506.83321264088187\n"
     ]
    }
   ],
   "source": [
    "svm1_pred_train = svm1.predict(x_train_1)\n",
    "svm1_pred_test = svm1.predict(x_test_1)\n",
    "\n",
    "metrics(y_train, svm1_pred_train, y_test, svm1_pred_test, 'SVM_1')"
   ]
  },
  {
   "cell_type": "code",
   "execution_count": 35,
   "metadata": {},
   "outputs": [
    {
     "data": {
      "text/plain": [
       "SVR(C=3364.6188250331543, cache_size=200, coef0=0.0, degree=3, epsilon=0.1,\n",
       "    gamma=0.005227914011003575, kernel='rbf', max_iter=-1, shrinking=True,\n",
       "    tol=0.001, verbose=False)"
      ]
     },
     "execution_count": 35,
     "metadata": {},
     "output_type": "execute_result"
    }
   ],
   "source": [
    "params_svm2 = {'C': loguniform(10e-4, 10e+4),\n",
    "               'gamma': loguniform(10e-4, 10e+1),\n",
    "               'kernel': ['rbf']}\n",
    "\n",
    "svm2 = optimize_svm(x_train_2, y_train, params_svm2)\n",
    "svm2"
   ]
  },
  {
   "cell_type": "code",
   "execution_count": 36,
   "metadata": {},
   "outputs": [
    {
     "name": "stdout",
     "output_type": "stream",
     "text": [
      "explained variance of training set: 0.960999546499243\n",
      "explained variance of testing set: 0.7076517771793965\n",
      "maximum error of training set: 1386.6514314200454\n",
      "maximum error of testing set: 2262.2869220677367\n",
      "mae of training set: 130.77553937582167\n",
      "mae of testing set: 354.7890741345751\n",
      "mse of training set: 39633.074200231866\n",
      "mse of testing set: 264108.3202556677\n",
      "rmse of training set: 199.08057213156653\n",
      "rmse of testing set: 513.9147013422245\n"
     ]
    }
   ],
   "source": [
    "svm2_pred_train = svm2.predict(x_train_2)\n",
    "svm2_pred_test = svm2.predict(x_test_2)\n",
    "\n",
    "metrics(y_train, svm2_pred_train, y_test, svm2_pred_test, 'SVM_2')"
   ]
  },
  {
   "cell_type": "code",
   "execution_count": 37,
   "metadata": {},
   "outputs": [
    {
     "data": {
      "text/plain": [
       "SVR(C=4014.021813522242, cache_size=200, coef0=0.0, degree=3, epsilon=0.1,\n",
       "    gamma=0.0023502296618087047, kernel='rbf', max_iter=-1, shrinking=True,\n",
       "    tol=0.001, verbose=False)"
      ]
     },
     "execution_count": 37,
     "metadata": {},
     "output_type": "execute_result"
    }
   ],
   "source": [
    "params_svm3 = {'C': loguniform(10e-4, 10e+4),\n",
    "               'gamma': loguniform(10e-4, 10e+1),\n",
    "               'kernel': ['rbf']}\n",
    "\n",
    "svm3 = optimize_svm(x_train_3, y_train, params_svm3)\n",
    "svm3"
   ]
  },
  {
   "cell_type": "code",
   "execution_count": 38,
   "metadata": {},
   "outputs": [
    {
     "name": "stdout",
     "output_type": "stream",
     "text": [
      "explained variance of training set: 0.9571582422001869\n",
      "explained variance of testing set: 0.7589689481563675\n",
      "maximum error of training set: 1358.474711530398\n",
      "maximum error of testing set: 2356.9979096192437\n",
      "mae of training set: 139.7432147491891\n",
      "mae of testing set: 356.0955197047384\n",
      "mse of training set: 43555.981497176654\n",
      "mse of testing set: 277089.83781459613\n",
      "rmse of training set: 208.7006983629347\n",
      "rmse of testing set: 526.3932349627948\n"
     ]
    }
   ],
   "source": [
    "svm3_pred_train = svm3.predict(x_train_3)\n",
    "svm3_pred_test = svm3.predict(x_test_3)\n",
    "\n",
    "metrics(y_train, svm3_pred_train, y_test, svm3_pred_test, 'SVM_3')"
   ]
  },
  {
   "cell_type": "code",
   "execution_count": 39,
   "metadata": {
    "scrolled": false
   },
   "outputs": [
    {
     "data": {
      "text/html": [
       "<div>\n",
       "<style scoped>\n",
       "    .dataframe tbody tr th:only-of-type {\n",
       "        vertical-align: middle;\n",
       "    }\n",
       "\n",
       "    .dataframe tbody tr th {\n",
       "        vertical-align: top;\n",
       "    }\n",
       "\n",
       "    .dataframe thead th {\n",
       "        text-align: right;\n",
       "    }\n",
       "</style>\n",
       "<table border=\"1\" class=\"dataframe\">\n",
       "  <thead>\n",
       "    <tr style=\"text-align: right;\">\n",
       "      <th></th>\n",
       "      <th>train_R2</th>\n",
       "      <th>test_R2</th>\n",
       "      <th>train_MAXerror</th>\n",
       "      <th>test_MAXerror</th>\n",
       "      <th>train_mae</th>\n",
       "      <th>test_mae</th>\n",
       "      <th>train_mse</th>\n",
       "      <th>test_mse</th>\n",
       "      <th>train_rmse</th>\n",
       "      <th>test_rmse</th>\n",
       "    </tr>\n",
       "  </thead>\n",
       "  <tbody>\n",
       "    <tr>\n",
       "      <th>RF_1</th>\n",
       "      <td>0.912411</td>\n",
       "      <td>0.846673</td>\n",
       "      <td>1840.51</td>\n",
       "      <td>1961.01</td>\n",
       "      <td>218.398</td>\n",
       "      <td>255.718</td>\n",
       "      <td>88951.6</td>\n",
       "      <td>130930</td>\n",
       "      <td>298.248</td>\n",
       "      <td>361.842</td>\n",
       "    </tr>\n",
       "    <tr>\n",
       "      <th>GB_1</th>\n",
       "      <td>0.959288</td>\n",
       "      <td>0.840322</td>\n",
       "      <td>1172.6</td>\n",
       "      <td>1867.74</td>\n",
       "      <td>144.052</td>\n",
       "      <td>249.974</td>\n",
       "      <td>41345.5</td>\n",
       "      <td>138875</td>\n",
       "      <td>203.336</td>\n",
       "      <td>372.659</td>\n",
       "    </tr>\n",
       "    <tr>\n",
       "      <th>SVM_1</th>\n",
       "      <td>0.965152</td>\n",
       "      <td>0.696012</td>\n",
       "      <td>1244.72</td>\n",
       "      <td>2205.36</td>\n",
       "      <td>120.091</td>\n",
       "      <td>349.708</td>\n",
       "      <td>35431.2</td>\n",
       "      <td>256880</td>\n",
       "      <td>188.232</td>\n",
       "      <td>506.833</td>\n",
       "    </tr>\n",
       "    <tr>\n",
       "      <th>RF_2</th>\n",
       "      <td>0.912535</td>\n",
       "      <td>0.844049</td>\n",
       "      <td>1833.93</td>\n",
       "      <td>1961.69</td>\n",
       "      <td>218.401</td>\n",
       "      <td>258.665</td>\n",
       "      <td>88825.7</td>\n",
       "      <td>133494</td>\n",
       "      <td>298.036</td>\n",
       "      <td>365.368</td>\n",
       "    </tr>\n",
       "    <tr>\n",
       "      <th>GB_2</th>\n",
       "      <td>0.970842</td>\n",
       "      <td>0.820893</td>\n",
       "      <td>1129.51</td>\n",
       "      <td>1860.1</td>\n",
       "      <td>121.83</td>\n",
       "      <td>271.594</td>\n",
       "      <td>29611.4</td>\n",
       "      <td>154449</td>\n",
       "      <td>172.08</td>\n",
       "      <td>393</td>\n",
       "    </tr>\n",
       "    <tr>\n",
       "      <th>SVM_2</th>\n",
       "      <td>0.961</td>\n",
       "      <td>0.707652</td>\n",
       "      <td>1386.65</td>\n",
       "      <td>2262.29</td>\n",
       "      <td>130.776</td>\n",
       "      <td>354.789</td>\n",
       "      <td>39633.1</td>\n",
       "      <td>264108</td>\n",
       "      <td>199.081</td>\n",
       "      <td>513.915</td>\n",
       "    </tr>\n",
       "    <tr>\n",
       "      <th>RF_3</th>\n",
       "      <td>0.912375</td>\n",
       "      <td>0.844221</td>\n",
       "      <td>1803.61</td>\n",
       "      <td>1956.44</td>\n",
       "      <td>218.467</td>\n",
       "      <td>258.685</td>\n",
       "      <td>88987.8</td>\n",
       "      <td>133361</td>\n",
       "      <td>298.308</td>\n",
       "      <td>365.187</td>\n",
       "    </tr>\n",
       "    <tr>\n",
       "      <th>GB_3</th>\n",
       "      <td>0.97807</td>\n",
       "      <td>0.794749</td>\n",
       "      <td>1076.03</td>\n",
       "      <td>2122.55</td>\n",
       "      <td>106.195</td>\n",
       "      <td>323.782</td>\n",
       "      <td>22271.4</td>\n",
       "      <td>219378</td>\n",
       "      <td>149.236</td>\n",
       "      <td>468.378</td>\n",
       "    </tr>\n",
       "    <tr>\n",
       "      <th>SVM_3</th>\n",
       "      <td>0.957158</td>\n",
       "      <td>0.758969</td>\n",
       "      <td>1358.47</td>\n",
       "      <td>2357</td>\n",
       "      <td>139.743</td>\n",
       "      <td>356.096</td>\n",
       "      <td>43556</td>\n",
       "      <td>277090</td>\n",
       "      <td>208.701</td>\n",
       "      <td>526.393</td>\n",
       "    </tr>\n",
       "  </tbody>\n",
       "</table>\n",
       "</div>"
      ],
      "text/plain": [
       "       train_R2   test_R2 train_MAXerror test_MAXerror train_mae test_mae  \\\n",
       "RF_1   0.912411  0.846673        1840.51       1961.01   218.398  255.718   \n",
       "GB_1   0.959288  0.840322         1172.6       1867.74   144.052  249.974   \n",
       "SVM_1  0.965152  0.696012        1244.72       2205.36   120.091  349.708   \n",
       "RF_2   0.912535  0.844049        1833.93       1961.69   218.401  258.665   \n",
       "GB_2   0.970842  0.820893        1129.51        1860.1    121.83  271.594   \n",
       "SVM_2     0.961  0.707652        1386.65       2262.29   130.776  354.789   \n",
       "RF_3   0.912375  0.844221        1803.61       1956.44   218.467  258.685   \n",
       "GB_3    0.97807  0.794749        1076.03       2122.55   106.195  323.782   \n",
       "SVM_3  0.957158  0.758969        1358.47          2357   139.743  356.096   \n",
       "\n",
       "      train_mse test_mse train_rmse test_rmse  \n",
       "RF_1    88951.6   130930    298.248   361.842  \n",
       "GB_1    41345.5   138875    203.336   372.659  \n",
       "SVM_1   35431.2   256880    188.232   506.833  \n",
       "RF_2    88825.7   133494    298.036   365.368  \n",
       "GB_2    29611.4   154449     172.08       393  \n",
       "SVM_2   39633.1   264108    199.081   513.915  \n",
       "RF_3    88987.8   133361    298.308   365.187  \n",
       "GB_3    22271.4   219378    149.236   468.378  \n",
       "SVM_3     43556   277090    208.701   526.393  "
      ]
     },
     "execution_count": 39,
     "metadata": {},
     "output_type": "execute_result"
    }
   ],
   "source": [
    "df_metricas"
   ]
  }
 ],
 "metadata": {
  "kernelspec": {
   "display_name": "Python 3",
   "language": "python",
   "name": "python3"
  },
  "language_info": {
   "codemirror_mode": {
    "name": "ipython",
    "version": 3
   },
   "file_extension": ".py",
   "mimetype": "text/x-python",
   "name": "python",
   "nbconvert_exporter": "python",
   "pygments_lexer": "ipython3",
   "version": "3.7.6"
  }
 },
 "nbformat": 4,
 "nbformat_minor": 4
}
