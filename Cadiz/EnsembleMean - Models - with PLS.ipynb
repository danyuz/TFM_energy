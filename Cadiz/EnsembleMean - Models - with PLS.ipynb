{
 "cells": [
  {
   "cell_type": "code",
   "execution_count": 1,
   "metadata": {},
   "outputs": [],
   "source": [
    "# libraries used\n",
    "import numpy as np\n",
    "import pandas as pd\n",
    "\n",
    "# from sklearn.model_selection import train_test_split  ??\n",
    "from sklearn.ensemble import RandomForestRegressor\n",
    "from sklearn.ensemble import GradientBoostingRegressor\n",
    "from sklearn.svm import SVR\n",
    "\n",
    "from scipy.stats import randint as sp_randint\n",
    "from scipy.stats import uniform\n",
    "from scipy.stats import loguniform\n",
    "from sklearn.model_selection import RandomizedSearchCV\n",
    "\n",
    "from sklearn.metrics import explained_variance_score\n",
    "from sklearn.metrics import max_error\n",
    "from sklearn.metrics import mean_absolute_error\n",
    "from sklearn.metrics import mean_squared_error\n",
    "\n",
    "# PLS\n",
    "from sklearn.cross_decomposition import PLSRegression\n",
    "from sklearn.pipeline import Pipeline\n",
    "from sklearn.pipeline import make_pipeline\n",
    "\n",
    "from sklearn.model_selection import cross_val_predict\n",
    "from sklearn.metrics import mean_squared_error, r2_score, mean_absolute_error\n",
    "import matplotlib.pyplot as plt"
   ]
  },
  {
   "cell_type": "code",
   "execution_count": 2,
   "metadata": {},
   "outputs": [],
   "source": [
    "# importing the merged dataset\n",
    "data = pd.read_csv('ensembleMean_merged.csv')"
   ]
  },
  {
   "cell_type": "markdown",
   "metadata": {},
   "source": [
    "First of all, we split the data set into training and testing in order to get a higher precision of metrics. \n",
    "\n",
    "The training part includes the electricity data before year 2018 while the testing set includes the electricity data after 2018. "
   ]
  },
  {
   "cell_type": "code",
   "execution_count": 3,
   "metadata": {},
   "outputs": [],
   "source": [
    "# splitting data set into training set and testing set (OUTER)\n",
    "\n",
    "train = data[data['time']<'2018-01-01 00:00:00'] # trainig set are data from dates before 2018\n",
    "test = data[data['time']>='2018-01-01 00:00:00'] # testing set are data from dates after 2018"
   ]
  },
  {
   "cell_type": "code",
   "execution_count": 4,
   "metadata": {},
   "outputs": [],
   "source": [
    "# splitting the sets into variables and response\n",
    "y_train = train['response'].values\n",
    "x_train = train[[x for x in train.columns if (x != 'response') & (x != 'time')]].values\n",
    "\n",
    "y_test = test['response'].values\n",
    "x_test = test[[x for x in test.columns if (x != 'response') & (x != 'time')]].values"
   ]
  },
  {
   "cell_type": "code",
   "execution_count": 5,
   "metadata": {},
   "outputs": [],
   "source": [
    "# Splitting indeces to create a custom cv \n",
    "\n",
    "train_indices = list(range(0,5844))             # dates before 2017 to train\n",
    "test_indices = list(range(5844, len(train)))    # dates from 2017 to 2018 to validate (INNER)\n",
    "custom_cv = [(train_indices, test_indices)]"
   ]
  },
  {
   "cell_type": "markdown",
   "metadata": {},
   "source": [
    "Creating functions in order to facilitate the procedures afterwards"
   ]
  },
  {
   "cell_type": "code",
   "execution_count": 6,
   "metadata": {},
   "outputs": [],
   "source": [
    "# 1. Random forest\n",
    "def optimize_rf(x_train, y_train, params_rf):\n",
    "    rf=RandomForestRegressor(random_state = 10)\n",
    "    rf_search = RandomizedSearchCV(rf, params_rf, cv=custom_cv, n_iter = 30)\n",
    "    rf_search.fit(x_train, y_train)\n",
    "    return rf_search.best_estimator_"
   ]
  },
  {
   "cell_type": "code",
   "execution_count": 7,
   "metadata": {},
   "outputs": [],
   "source": [
    "# 2. Gradient boosting\n",
    "def optimize_gb(x_train, y_train, params_gb):\n",
    "    gb=GradientBoostingRegressor(random_state = 10)\n",
    "    gb_search = RandomizedSearchCV(gb, params_gb, cv=custom_cv, n_iter = 30)\n",
    "    gb_search.fit(x_train, y_train)\n",
    "    return gb_search.best_estimator_"
   ]
  },
  {
   "cell_type": "code",
   "execution_count": 8,
   "metadata": {},
   "outputs": [],
   "source": [
    "# 3. SVM\n",
    "def optimize_svm(x_train, y_train, params_svm):   \n",
    "    svm = SVR()\n",
    "    svm_search = RandomizedSearchCV(svm, params_svm, cv=custom_cv, n_iter = 30)\n",
    "    svm_search.fit(x_train, y_train)\n",
    "    return svm_search.best_estimator_"
   ]
  },
  {
   "cell_type": "markdown",
   "metadata": {},
   "source": [
    "### Defining Metric Matrix"
   ]
  },
  {
   "cell_type": "markdown",
   "metadata": {},
   "source": [
    "With the intention of visualization of the different results of metrics per model, we create a matrix that displays all the results of each model per each data set that we modify. \n",
    "\n",
    "Also, it is necessary to create a function that automatically does the imputation in the matrix for us. \n",
    "\n",
    "The function made requires 5 arguments: the true reponse (y element) for training set and testing set; the prediction of the response that the different models have made and the name of the model. "
   ]
  },
  {
   "cell_type": "code",
   "execution_count": 9,
   "metadata": {},
   "outputs": [],
   "source": [
    "# creating a metrics matrix in order to visualize the different results\n",
    "df_metricas=pd.DataFrame(columns=['train_R2', 'test_R2', 'train_MAXerror', 'test_MAXerror',\n",
    "                                 'train_mae', 'test_mae', 'train_mse', 'test_mse', \n",
    "                                  'train_rmse', 'test_rmse'], \n",
    "                         index=['RF_1','GB_1','SVM_1',  # 1 means 10 components after dimension reduction\n",
    "                                'RF_2','GB_2','SVM_2',  # 2 means 15 components after dimension reduction\n",
    "                                'RF_3','GB_3','SVM_3']) # 3 means 20 components after dimension reduction"
   ]
  },
  {
   "cell_type": "code",
   "execution_count": 10,
   "metadata": {},
   "outputs": [],
   "source": [
    "# Metrics for evaluating\n",
    "def metrics(y_train, pred_train, y_test, pred_test, model):\n",
    "    # Varianza explicada\n",
    "    ve_train = explained_variance_score(y_train, pred_train)\n",
    "    ve_test = explained_variance_score(y_test, pred_test)\n",
    "    print('explained variance of training set:',(ve_train))\n",
    "    print('explained variance of testing set:',(ve_test))\n",
    "    df_metricas.loc[model, 'train_R2']=ve_train\n",
    "    df_metricas.loc[model, 'test_R2']=ve_test\n",
    "    # Maximum error\n",
    "    me_train = max_error(pred_train, y_train)\n",
    "    me_test = max_error(pred_test, y_test)\n",
    "    print('maximum error of training set:',(me_train))\n",
    "    print('maximum error of testing set:',(me_test))\n",
    "    df_metricas.loc[model, 'train_MAXerror']=me_train\n",
    "    df_metricas.loc[model, 'test_MAXerror']=me_test\n",
    "    # mean absolute error: datos mal predichos, no al cuadrado, menor peso\n",
    "    mae_train = mean_absolute_error(pred_train, y_train)\n",
    "    mae_test = mean_absolute_error(pred_test, y_test)\n",
    "    print('mae of training set:',(mae_train))\n",
    "    print('mae of testing set:',(mae_test))\n",
    "    df_metricas.loc[model, 'train_mae']=mae_train\n",
    "    df_metricas.loc[model, 'test_mae']=mae_test\n",
    "    # mean squared error: al cuadrado \n",
    "    # raiz de mse\n",
    "    mse_train = mean_squared_error(pred_train, y_train)\n",
    "    mse_test = mean_squared_error(pred_test, y_test)\n",
    "    print('mse of training set:',(mse_train))\n",
    "    print('mse of testing set:',(mse_test))\n",
    "    df_metricas.loc[model, 'train_mse']=mse_train\n",
    "    df_metricas.loc[model, 'test_mse']=mse_test\n",
    "    rmse_train = np.sqrt(mse_train)\n",
    "    rmse_test = np.sqrt(mse_test)\n",
    "    print('rmse of training set:',(rmse_train))\n",
    "    print('rmse of testing set:',(rmse_test))\n",
    "    df_metricas.loc[model, 'train_rmse']=rmse_train\n",
    "    df_metricas.loc[model, 'test_rmse']=rmse_test"
   ]
  },
  {
   "cell_type": "markdown",
   "metadata": {},
   "source": [
    "### ALL VARIABLES"
   ]
  },
  {
   "cell_type": "code",
   "execution_count": 11,
   "metadata": {},
   "outputs": [],
   "source": [
    "def optimise_pls_cv(X, y, n_comp):\n",
    "    # Defining PLS object\n",
    "    pls = PLSRegression(n_components=n_comp)\n",
    "\n",
    "    # Cross validation prediction\n",
    "    y_cv = cross_val_predict(pls, X, y, cv=10)\n",
    "\n",
    "    # Calculate metrics\n",
    "    r2 = r2_score(y, y_cv)\n",
    "    mse = mean_squared_error(y, y_cv)\n",
    "    rpd = y.std()/np.sqrt(mse)\n",
    "    mae = mean_absolute_error(y, y_cv)\n",
    "\n",
    "    return (y_cv, r2, mse, rpd, mae)"
   ]
  },
  {
   "cell_type": "code",
   "execution_count": 12,
   "metadata": {
    "scrolled": false
   },
   "outputs": [],
   "source": [
    "# test with 30 components\n",
    "r2s = []\n",
    "mses = []\n",
    "rpds = []\n",
    "maes = []\n",
    "\n",
    "xticks = np.arange(1, 30)\n",
    "for n_comp in xticks:\n",
    "    y_cv, r2, mse, rpd, mae = optimise_pls_cv(x_train, y_train, n_comp)\n",
    "    r2s.append(r2)\n",
    "    mses.append(mse)\n",
    "    rpds.append(rpd)\n",
    "    maes.append(mae)"
   ]
  },
  {
   "cell_type": "code",
   "execution_count": 13,
   "metadata": {},
   "outputs": [],
   "source": [
    "# Plot the metrics\n",
    "def plot_metrics(vals, ylabel, objective):\n",
    "    with plt.style.context('ggplot'):\n",
    "        plt.plot(xticks, np.array(vals), '-v', color='blue', mfc='blue')\n",
    "        if objective=='min':\n",
    "            idx = np.argmin(vals)\n",
    "        else:\n",
    "            idx = np.argmax(vals)\n",
    "        plt.plot(xticks[idx], np.array(vals)[idx], 'P', ms=10, mfc='red')\n",
    "\n",
    "        plt.xlabel('Number of PLS components')\n",
    "        plt.xticks = xticks\n",
    "        plt.ylabel(ylabel)\n",
    "        plt.title('PLS')\n",
    "\n",
    "    plt.show()"
   ]
  },
  {
   "cell_type": "markdown",
   "metadata": {},
   "source": [
    "We can observe from the following plots that, with 21 components it gets to the optimal values for the metrics: highest R2 and lowest MSE. "
   ]
  },
  {
   "cell_type": "code",
   "execution_count": 14,
   "metadata": {},
   "outputs": [
    {
     "data": {
      "image/png": "[encoded data removed]",
      "text/plain": [
       "<Figure size 432x288 with 1 Axes>"
      ]
     },
     "metadata": {},
     "output_type": "display_data"
    }
   ],
   "source": [
    "plot_metrics(mses, 'MSE', 'min')"
   ]
  },
  {
   "cell_type": "code",
   "execution_count": 15,
   "metadata": {},
   "outputs": [
    {
     "data": {
      "image/png": "[encoded data removed]",
      "text/plain": [
       "<Figure size 432x288 with 1 Axes>"
      ]
     },
     "metadata": {},
     "output_type": "display_data"
    }
   ],
   "source": [
    "plot_metrics(rpds, 'RPD', 'max')"
   ]
  },
  {
   "cell_type": "code",
   "execution_count": 16,
   "metadata": {},
   "outputs": [
    {
     "data": {
      "image/png": "[encoded data removed]",
      "text/plain": [
       "<Figure size 432x288 with 1 Axes>"
      ]
     },
     "metadata": {},
     "output_type": "display_data"
    }
   ],
   "source": [
    "plot_metrics(r2s, 'R2', 'max')"
   ]
  },
  {
   "cell_type": "code",
   "execution_count": 17,
   "metadata": {
    "scrolled": true
   },
   "outputs": [
    {
     "data": {
      "image/png": "[encoded data removed]",
      "text/plain": [
       "<Figure size 432x288 with 1 Axes>"
      ]
     },
     "metadata": {},
     "output_type": "display_data"
    }
   ],
   "source": [
    "plot_metrics(maes, 'MAE', 'min')"
   ]
  },
  {
   "cell_type": "markdown",
   "metadata": {},
   "source": [
    "But in order to aviod overfitting with the training set, we will try to use 3 values of components to see if smaller values will work better. "
   ]
  },
  {
   "cell_type": "code",
   "execution_count": 18,
   "metadata": {},
   "outputs": [],
   "source": [
    "pls1 = PLSRegression(n_components=10).fit(x_train, y_train)\n",
    "x_train_1 = pls1.transform(x_train)\n",
    "x_test_1 = pls1.transform(x_test)"
   ]
  },
  {
   "cell_type": "code",
   "execution_count": 19,
   "metadata": {},
   "outputs": [],
   "source": [
    "pls2 = PLSRegression(n_components=15).fit(x_train, y_train)\n",
    "x_train_2 = pls2.transform(x_train)\n",
    "x_test_2 = pls2.transform(x_test)"
   ]
  },
  {
   "cell_type": "code",
   "execution_count": 20,
   "metadata": {},
   "outputs": [],
   "source": [
    "pls3 = PLSRegression(n_components=20).fit(x_train, y_train)\n",
    "x_train_3 = pls3.transform(x_train)\n",
    "x_test_3 = pls3.transform(x_test)"
   ]
  },
  {
   "cell_type": "markdown",
   "metadata": {},
   "source": [
    "#### 1. Random forest"
   ]
  },
  {
   "cell_type": "code",
   "execution_count": 21,
   "metadata": {},
   "outputs": [
    {
     "data": {
      "text/plain": [
       "RandomForestRegressor(bootstrap=True, ccp_alpha=0.0, criterion='mse',\n",
       "                      max_depth=4, max_features='auto', max_leaf_nodes=None,\n",
       "                      max_samples=None, min_impurity_decrease=0.0,\n",
       "                      min_impurity_split=None, min_samples_leaf=23,\n",
       "                      min_samples_split=2, min_weight_fraction_leaf=0.0,\n",
       "                      n_estimators=260, n_jobs=None, oob_score=False,\n",
       "                      random_state=10, verbose=0, warm_start=False)"
      ]
     },
     "execution_count": 21,
     "metadata": {},
     "output_type": "execute_result"
    }
   ],
   "source": [
    "params_rf1 = {'max_depth': sp_randint(2, 5), \n",
    "             'min_samples_leaf': sp_randint(10, 25),\n",
    "             'n_estimators': sp_randint(150, 280)}\n",
    "\n",
    "rf1 = optimize_rf(x_train_1, y_train, params_rf1)\n",
    "rf1"
   ]
  },
  {
   "cell_type": "code",
   "execution_count": 22,
   "metadata": {},
   "outputs": [
    {
     "name": "stdout",
     "output_type": "stream",
     "text": [
      "explained variance of training set: 0.8804440335058753\n",
      "explained variance of testing set: 0.8425648007507948\n",
      "maximum error of training set: 2021.916597090995\n",
      "maximum error of testing set: 1964.9858883609654\n",
      "mae of training set: 252.60132410401764\n",
      "mae of testing set: 257.0780499921427\n",
      "mse of training set: 121415.6475997765\n",
      "mse of testing set: 133623.35296166368\n",
      "rmse of training set: 348.44748183876504\n",
      "rmse of testing set: 365.5452816843129\n"
     ]
    }
   ],
   "source": [
    "rf1_pred_train = rf1.predict(x_train_1)\n",
    "rf1_pred_test = rf1.predict(x_test_1)\n",
    "\n",
    "metrics(y_train, rf1_pred_train, y_test, rf1_pred_test, 'RF_1')"
   ]
  },
  {
   "cell_type": "code",
   "execution_count": 23,
   "metadata": {},
   "outputs": [
    {
     "data": {
      "text/plain": [
       "RandomForestRegressor(bootstrap=True, ccp_alpha=0.0, criterion='mse',\n",
       "                      max_depth=4, max_features='auto', max_leaf_nodes=None,\n",
       "                      max_samples=None, min_impurity_decrease=0.0,\n",
       "                      min_impurity_split=None, min_samples_leaf=24,\n",
       "                      min_samples_split=2, min_weight_fraction_leaf=0.0,\n",
       "                      n_estimators=180, n_jobs=None, oob_score=False,\n",
       "                      random_state=10, verbose=0, warm_start=False)"
      ]
     },
     "execution_count": 23,
     "metadata": {},
     "output_type": "execute_result"
    }
   ],
   "source": [
    "params_rf2 = {'max_depth': sp_randint(2, 5), \n",
    "             'min_samples_leaf': sp_randint(10, 25),\n",
    "             'n_estimators': sp_randint(150, 280)}\n",
    "\n",
    "rf2 = optimize_rf(x_train_2, y_train, params_rf2)\n",
    "rf2"
   ]
  },
  {
   "cell_type": "code",
   "execution_count": 24,
   "metadata": {},
   "outputs": [
    {
     "name": "stdout",
     "output_type": "stream",
     "text": [
      "explained variance of training set: 0.8811043346510912\n",
      "explained variance of testing set: 0.8425122090296971\n",
      "maximum error of training set: 2005.268795331529\n",
      "maximum error of testing set: 1968.721513645287\n",
      "mae of training set: 251.92039021694728\n",
      "mae of testing set: 257.00712781160803\n",
      "mse of training set: 120745.06763950066\n",
      "mse of testing set: 133627.31183240475\n",
      "rmse of training set: 347.48390990015736\n",
      "rmse of testing set: 365.55069666518864\n"
     ]
    }
   ],
   "source": [
    "rf2_pred_train = rf2.predict(x_train_2)\n",
    "rf2_pred_test = rf2.predict(x_test_2)\n",
    "\n",
    "metrics(y_train, rf2_pred_train, y_test, rf2_pred_test, 'RF_2')"
   ]
  },
  {
   "cell_type": "code",
   "execution_count": 25,
   "metadata": {},
   "outputs": [
    {
     "data": {
      "text/plain": [
       "RandomForestRegressor(bootstrap=True, ccp_alpha=0.0, criterion='mse',\n",
       "                      max_depth=4, max_features='auto', max_leaf_nodes=None,\n",
       "                      max_samples=None, min_impurity_decrease=0.0,\n",
       "                      min_impurity_split=None, min_samples_leaf=24,\n",
       "                      min_samples_split=2, min_weight_fraction_leaf=0.0,\n",
       "                      n_estimators=263, n_jobs=None, oob_score=False,\n",
       "                      random_state=10, verbose=0, warm_start=False)"
      ]
     },
     "execution_count": 25,
     "metadata": {},
     "output_type": "execute_result"
    }
   ],
   "source": [
    "params_rf3 = {'max_depth': sp_randint(2, 5), \n",
    "             'min_samples_leaf': sp_randint(10, 25),\n",
    "             'n_estimators': sp_randint(150, 280)}\n",
    "\n",
    "rf3 = optimize_rf(x_train_3, y_train, params_rf3)\n",
    "rf3"
   ]
  },
  {
   "cell_type": "code",
   "execution_count": 26,
   "metadata": {},
   "outputs": [
    {
     "name": "stdout",
     "output_type": "stream",
     "text": [
      "explained variance of training set: 0.8819012792633988\n",
      "explained variance of testing set: 0.8404475881868968\n",
      "maximum error of training set: 2022.6254365191794\n",
      "maximum error of testing set: 1965.080909169981\n",
      "mae of training set: 251.14027099184932\n",
      "mae of testing set: 257.7807294581849\n",
      "mse of training set: 119935.75328892595\n",
      "mse of testing set: 135288.82169843436\n",
      "rmse of training set: 346.31741695867095\n",
      "rmse of testing set: 367.81628797326846\n"
     ]
    }
   ],
   "source": [
    "rf3_pred_train = rf3.predict(x_train_3)\n",
    "rf3_pred_test = rf3.predict(x_test_3)\n",
    "\n",
    "metrics(y_train, rf3_pred_train, y_test, rf3_pred_test, 'RF_3')"
   ]
  },
  {
   "cell_type": "markdown",
   "metadata": {},
   "source": [
    "#### 2 Gradient Boosting"
   ]
  },
  {
   "cell_type": "code",
   "execution_count": 27,
   "metadata": {},
   "outputs": [
    {
     "data": {
      "text/plain": [
       "GradientBoostingRegressor(alpha=0.9, ccp_alpha=0.0, criterion='friedman_mse',\n",
       "                          init=None, learning_rate=0.031711858436887556,\n",
       "                          loss='ls', max_depth=4, max_features=None,\n",
       "                          max_leaf_nodes=None, min_impurity_decrease=0.0,\n",
       "                          min_impurity_split=None, min_samples_leaf=23,\n",
       "                          min_samples_split=2, min_weight_fraction_leaf=0.0,\n",
       "                          n_estimators=254, n_iter_no_change=None,\n",
       "                          presort='deprecated', random_state=10, subsample=1.0,\n",
       "                          tol=0.0001, validation_fraction=0.1, verbose=0,\n",
       "                          warm_start=False)"
      ]
     },
     "execution_count": 27,
     "metadata": {},
     "output_type": "execute_result"
    }
   ],
   "source": [
    "params_gb1 = {'learning_rate': loguniform(0.0001, 0.3),\n",
    "             'max_depth': sp_randint(2, 5), \n",
    "             'min_samples_leaf': sp_randint(10, 25),\n",
    "             'n_estimators': sp_randint(180, 280)}\n",
    "\n",
    "gb1 = optimize_gb(x_train_1, y_train, params_gb1)\n",
    "gb1"
   ]
  },
  {
   "cell_type": "code",
   "execution_count": 28,
   "metadata": {},
   "outputs": [
    {
     "name": "stdout",
     "output_type": "stream",
     "text": [
      "explained variance of training set: 0.9432264654824059\n",
      "explained variance of testing set: 0.9006478529374544\n",
      "maximum error of training set: 1354.996405725516\n",
      "maximum error of testing set: 1560.2560514553825\n",
      "mae of training set: 169.39885638512158\n",
      "mae of testing set: 198.0114881654344\n",
      "mse of training set: 57656.63699953231\n",
      "mse of testing set: 83922.80137725736\n",
      "rmse of training set: 240.11796475801702\n",
      "rmse of testing set: 289.6943240335533\n"
     ]
    }
   ],
   "source": [
    "gb1_pred_train = gb1.predict(x_train_1)\n",
    "gb1_pred_test = gb1.predict(x_test_1)\n",
    "\n",
    "metrics(y_train, gb1_pred_train, y_test, gb1_pred_test, 'GB_1')"
   ]
  },
  {
   "cell_type": "code",
   "execution_count": 29,
   "metadata": {},
   "outputs": [
    {
     "data": {
      "text/plain": [
       "GradientBoostingRegressor(alpha=0.9, ccp_alpha=0.0, criterion='friedman_mse',\n",
       "                          init=None, learning_rate=0.0793386643732572,\n",
       "                          loss='ls', max_depth=4, max_features=None,\n",
       "                          max_leaf_nodes=None, min_impurity_decrease=0.0,\n",
       "                          min_impurity_split=None, min_samples_leaf=24,\n",
       "                          min_samples_split=2, min_weight_fraction_leaf=0.0,\n",
       "                          n_estimators=273, n_iter_no_change=None,\n",
       "                          presort='deprecated', random_state=10, subsample=1.0,\n",
       "                          tol=0.0001, validation_fraction=0.1, verbose=0,\n",
       "                          warm_start=False)"
      ]
     },
     "execution_count": 29,
     "metadata": {},
     "output_type": "execute_result"
    }
   ],
   "source": [
    "params_gb2 = {'learning_rate': loguniform(0.0001, 0.3),\n",
    "             'max_depth': sp_randint(2, 5), \n",
    "             'min_samples_leaf': sp_randint(10, 25),\n",
    "             'n_estimators': sp_randint(180, 280)}\n",
    "\n",
    "gb2 = optimize_gb(x_train_2, y_train, params_gb2)\n",
    "gb2"
   ]
  },
  {
   "cell_type": "code",
   "execution_count": 30,
   "metadata": {},
   "outputs": [
    {
     "name": "stdout",
     "output_type": "stream",
     "text": [
      "explained variance of training set: 0.9579665118435983\n",
      "explained variance of testing set: 0.9036384089363498\n",
      "maximum error of training set: 1184.9369753629765\n",
      "maximum error of testing set: 1622.7921092800866\n",
      "mae of training set: 146.15563839860977\n",
      "mae of testing set: 193.01800456161916\n",
      "mse of training set: 42687.31177388201\n",
      "mse of testing set: 81400.41446590342\n",
      "rmse of training set: 206.60907960174936\n",
      "rmse of testing set: 285.3075787039374\n"
     ]
    }
   ],
   "source": [
    "gb2_pred_train = gb2.predict(x_train_2)\n",
    "gb2_pred_test = gb2.predict(x_test_2)\n",
    "\n",
    "metrics(y_train, gb2_pred_train, y_test, gb2_pred_test, 'GB_2')"
   ]
  },
  {
   "cell_type": "code",
   "execution_count": 31,
   "metadata": {},
   "outputs": [
    {
     "data": {
      "text/plain": [
       "GradientBoostingRegressor(alpha=0.9, ccp_alpha=0.0, criterion='friedman_mse',\n",
       "                          init=None, learning_rate=0.0757677153761669,\n",
       "                          loss='ls', max_depth=4, max_features=None,\n",
       "                          max_leaf_nodes=None, min_impurity_decrease=0.0,\n",
       "                          min_impurity_split=None, min_samples_leaf=21,\n",
       "                          min_samples_split=2, min_weight_fraction_leaf=0.0,\n",
       "                          n_estimators=210, n_iter_no_change=None,\n",
       "                          presort='deprecated', random_state=10, subsample=1.0,\n",
       "                          tol=0.0001, validation_fraction=0.1, verbose=0,\n",
       "                          warm_start=False)"
      ]
     },
     "execution_count": 31,
     "metadata": {},
     "output_type": "execute_result"
    }
   ],
   "source": [
    "params_gb3 = {'learning_rate': loguniform(0.0001, 0.3),\n",
    "              'max_depth': sp_randint(2, 5), \n",
    "              'min_samples_leaf': sp_randint(10, 25),\n",
    "              'n_estimators': sp_randint(180, 280)}\n",
    "\n",
    "gb3 = optimize_gb(x_train_3, y_train, params_gb3)\n",
    "gb3"
   ]
  },
  {
   "cell_type": "code",
   "execution_count": 32,
   "metadata": {
    "scrolled": true
   },
   "outputs": [
    {
     "name": "stdout",
     "output_type": "stream",
     "text": [
      "explained variance of training set: 0.9568803756884567\n",
      "explained variance of testing set: 0.9046966579281026\n",
      "maximum error of training set: 1330.7312462588636\n",
      "maximum error of testing set: 1530.3936181797021\n",
      "mae of training set: 147.87581820635612\n",
      "mae of testing set: 191.9709188700382\n",
      "mse of training set: 43790.342588524385\n",
      "mse of testing set: 80505.49304098873\n",
      "rmse of training set: 209.26142164413483\n",
      "rmse of testing set: 283.7348992298775\n"
     ]
    }
   ],
   "source": [
    "gb3_pred_train = gb3.predict(x_train_3)\n",
    "gb3_pred_test = gb3.predict(x_test_3)\n",
    "\n",
    "metrics(y_train, gb3_pred_train, y_test, gb3_pred_test, 'GB_3') "
   ]
  },
  {
   "cell_type": "markdown",
   "metadata": {},
   "source": [
    "#### 1.3 Support Vector Machine"
   ]
  },
  {
   "cell_type": "code",
   "execution_count": 33,
   "metadata": {
    "scrolled": true
   },
   "outputs": [
    {
     "data": {
      "text/plain": [
       "SVR(C=63031.439053831324, cache_size=200, coef0=0.0, degree=3, epsilon=0.1,\n",
       "    gamma=0.0042494652986947105, kernel='rbf', max_iter=-1, shrinking=True,\n",
       "    tol=0.001, verbose=False)"
      ]
     },
     "execution_count": 33,
     "metadata": {},
     "output_type": "execute_result"
    }
   ],
   "source": [
    "params_svm1 = {'C': loguniform(10e-4, 10e+4),\n",
    "               'gamma': loguniform(10e-4, 10e+1),\n",
    "               'kernel': ['rbf']}\n",
    "\n",
    "svm1 = optimize_svm(x_train_1, y_train, params_svm1)\n",
    "svm1"
   ]
  },
  {
   "cell_type": "code",
   "execution_count": 34,
   "metadata": {},
   "outputs": [
    {
     "name": "stdout",
     "output_type": "stream",
     "text": [
      "explained variance of training set: 0.9450985349316079\n",
      "explained variance of testing set: 0.9022297123803548\n",
      "maximum error of training set: 1553.2079146180986\n",
      "maximum error of testing set: 1707.416115723103\n",
      "mae of training set: 154.303133003033\n",
      "mae of testing set: 187.83054775298842\n",
      "mse of training set: 55906.004023769725\n",
      "mse of testing set: 82794.38378227595\n",
      "rmse of training set: 236.4445051672162\n",
      "rmse of testing set: 287.74013238037537\n"
     ]
    }
   ],
   "source": [
    "svm1_pred_train = svm1.predict(x_train_1)\n",
    "svm1_pred_test = svm1.predict(x_test_1)\n",
    "\n",
    "metrics(y_train, svm1_pred_train, y_test, svm1_pred_test, 'SVM_1')"
   ]
  },
  {
   "cell_type": "code",
   "execution_count": 35,
   "metadata": {},
   "outputs": [
    {
     "data": {
      "text/plain": [
       "SVR(C=29036.847160558627, cache_size=200, coef0=0.0, degree=3, epsilon=0.1,\n",
       "    gamma=0.0010093562528404197, kernel='rbf', max_iter=-1, shrinking=True,\n",
       "    tol=0.001, verbose=False)"
      ]
     },
     "execution_count": 35,
     "metadata": {},
     "output_type": "execute_result"
    }
   ],
   "source": [
    "params_svm2 = {'C': loguniform(10e-4, 10e+4),\n",
    "               'gamma': loguniform(10e-4, 10e+1),\n",
    "               'kernel': ['rbf']}\n",
    "\n",
    "svm2 = optimize_svm(x_train_2, y_train, params_svm2)\n",
    "svm2"
   ]
  },
  {
   "cell_type": "code",
   "execution_count": 36,
   "metadata": {},
   "outputs": [
    {
     "name": "stdout",
     "output_type": "stream",
     "text": [
      "explained variance of training set: 0.9365056986455171\n",
      "explained variance of testing set: 0.9087103527632782\n",
      "maximum error of training set: 1938.78730803917\n",
      "maximum error of testing set: 1542.106699776445\n",
      "mae of training set: 171.99466713860667\n",
      "mae of testing set: 184.67369517218341\n",
      "mse of training set: 64632.27363800431\n",
      "mse of testing set: 77447.720639183\n",
      "rmse of training set: 254.22878208024423\n",
      "rmse of testing set: 278.29430579726744\n"
     ]
    }
   ],
   "source": [
    "svm2_pred_train = svm2.predict(x_train_2)\n",
    "svm2_pred_test = svm2.predict(x_test_2)\n",
    "\n",
    "metrics(y_train, svm2_pred_train, y_test, svm2_pred_test, 'SVM_2')"
   ]
  },
  {
   "cell_type": "code",
   "execution_count": 37,
   "metadata": {},
   "outputs": [
    {
     "data": {
      "text/plain": [
       "SVR(C=3712.0447770228097, cache_size=200, coef0=0.0, degree=3, epsilon=0.1,\n",
       "    gamma=0.002452140569206562, kernel='rbf', max_iter=-1, shrinking=True,\n",
       "    tol=0.001, verbose=False)"
      ]
     },
     "execution_count": 37,
     "metadata": {},
     "output_type": "execute_result"
    }
   ],
   "source": [
    "params_svm3 = {'C': loguniform(10e-4, 10e+4),\n",
    "               'gamma': loguniform(10e-4, 10e+1),\n",
    "               'kernel': ['rbf']}\n",
    "\n",
    "svm3 = optimize_svm(x_train_3, y_train, params_svm3)\n",
    "svm3"
   ]
  },
  {
   "cell_type": "code",
   "execution_count": 38,
   "metadata": {},
   "outputs": [
    {
     "name": "stdout",
     "output_type": "stream",
     "text": [
      "explained variance of training set: 0.9395378217583087\n",
      "explained variance of testing set: 0.9119841803681928\n",
      "maximum error of training set: 1824.3701519967394\n",
      "maximum error of testing set: 1565.8070435430916\n",
      "mae of training set: 166.38381204240278\n",
      "mae of testing set: 179.85094728441436\n",
      "mse of training set: 61525.47448044364\n",
      "mse of testing set: 74791.52359437026\n",
      "rmse of training set: 248.043291544931\n",
      "rmse of testing set: 273.48038978027336\n"
     ]
    }
   ],
   "source": [
    "svm3_pred_train = svm3.predict(x_train_3)\n",
    "svm3_pred_test = svm3.predict(x_test_3)\n",
    "\n",
    "metrics(y_train, svm3_pred_train, y_test, svm3_pred_test, 'SVM_3') # best metric up to now"
   ]
  },
  {
   "cell_type": "code",
   "execution_count": 39,
   "metadata": {
    "scrolled": false
   },
   "outputs": [
    {
     "data": {
      "text/html": [
       "<div>\n",
       "<style scoped>\n",
       "    .dataframe tbody tr th:only-of-type {\n",
       "        vertical-align: middle;\n",
       "    }\n",
       "\n",
       "    .dataframe tbody tr th {\n",
       "        vertical-align: top;\n",
       "    }\n",
       "\n",
       "    .dataframe thead th {\n",
       "        text-align: right;\n",
       "    }\n",
       "</style>\n",
       "<table border=\"1\" class=\"dataframe\">\n",
       "  <thead>\n",
       "    <tr style=\"text-align: right;\">\n",
       "      <th></th>\n",
       "      <th>train_R2</th>\n",
       "      <th>test_R2</th>\n",
       "      <th>train_MAXerror</th>\n",
       "      <th>test_MAXerror</th>\n",
       "      <th>train_mae</th>\n",
       "      <th>test_mae</th>\n",
       "      <th>train_mse</th>\n",
       "      <th>test_mse</th>\n",
       "      <th>train_rmse</th>\n",
       "      <th>test_rmse</th>\n",
       "    </tr>\n",
       "  </thead>\n",
       "  <tbody>\n",
       "    <tr>\n",
       "      <th>RF_1</th>\n",
       "      <td>0.880444</td>\n",
       "      <td>0.842565</td>\n",
       "      <td>2021.92</td>\n",
       "      <td>1964.99</td>\n",
       "      <td>252.601</td>\n",
       "      <td>257.078</td>\n",
       "      <td>121416</td>\n",
       "      <td>133623</td>\n",
       "      <td>348.447</td>\n",
       "      <td>365.545</td>\n",
       "    </tr>\n",
       "    <tr>\n",
       "      <th>GB_1</th>\n",
       "      <td>0.943226</td>\n",
       "      <td>0.900648</td>\n",
       "      <td>1355</td>\n",
       "      <td>1560.26</td>\n",
       "      <td>169.399</td>\n",
       "      <td>198.011</td>\n",
       "      <td>57656.6</td>\n",
       "      <td>83922.8</td>\n",
       "      <td>240.118</td>\n",
       "      <td>289.694</td>\n",
       "    </tr>\n",
       "    <tr>\n",
       "      <th>SVM_1</th>\n",
       "      <td>0.945099</td>\n",
       "      <td>0.90223</td>\n",
       "      <td>1553.21</td>\n",
       "      <td>1707.42</td>\n",
       "      <td>154.303</td>\n",
       "      <td>187.831</td>\n",
       "      <td>55906</td>\n",
       "      <td>82794.4</td>\n",
       "      <td>236.445</td>\n",
       "      <td>287.74</td>\n",
       "    </tr>\n",
       "    <tr>\n",
       "      <th>RF_2</th>\n",
       "      <td>0.881104</td>\n",
       "      <td>0.842512</td>\n",
       "      <td>2005.27</td>\n",
       "      <td>1968.72</td>\n",
       "      <td>251.92</td>\n",
       "      <td>257.007</td>\n",
       "      <td>120745</td>\n",
       "      <td>133627</td>\n",
       "      <td>347.484</td>\n",
       "      <td>365.551</td>\n",
       "    </tr>\n",
       "    <tr>\n",
       "      <th>GB_2</th>\n",
       "      <td>0.957967</td>\n",
       "      <td>0.903638</td>\n",
       "      <td>1184.94</td>\n",
       "      <td>1622.79</td>\n",
       "      <td>146.156</td>\n",
       "      <td>193.018</td>\n",
       "      <td>42687.3</td>\n",
       "      <td>81400.4</td>\n",
       "      <td>206.609</td>\n",
       "      <td>285.308</td>\n",
       "    </tr>\n",
       "    <tr>\n",
       "      <th>SVM_2</th>\n",
       "      <td>0.936506</td>\n",
       "      <td>0.90871</td>\n",
       "      <td>1938.79</td>\n",
       "      <td>1542.11</td>\n",
       "      <td>171.995</td>\n",
       "      <td>184.674</td>\n",
       "      <td>64632.3</td>\n",
       "      <td>77447.7</td>\n",
       "      <td>254.229</td>\n",
       "      <td>278.294</td>\n",
       "    </tr>\n",
       "    <tr>\n",
       "      <th>RF_3</th>\n",
       "      <td>0.881901</td>\n",
       "      <td>0.840448</td>\n",
       "      <td>2022.63</td>\n",
       "      <td>1965.08</td>\n",
       "      <td>251.14</td>\n",
       "      <td>257.781</td>\n",
       "      <td>119936</td>\n",
       "      <td>135289</td>\n",
       "      <td>346.317</td>\n",
       "      <td>367.816</td>\n",
       "    </tr>\n",
       "    <tr>\n",
       "      <th>GB_3</th>\n",
       "      <td>0.95688</td>\n",
       "      <td>0.904697</td>\n",
       "      <td>1330.73</td>\n",
       "      <td>1530.39</td>\n",
       "      <td>147.876</td>\n",
       "      <td>191.971</td>\n",
       "      <td>43790.3</td>\n",
       "      <td>80505.5</td>\n",
       "      <td>209.261</td>\n",
       "      <td>283.735</td>\n",
       "    </tr>\n",
       "    <tr>\n",
       "      <th>SVM_3</th>\n",
       "      <td>0.939538</td>\n",
       "      <td>0.911984</td>\n",
       "      <td>1824.37</td>\n",
       "      <td>1565.81</td>\n",
       "      <td>166.384</td>\n",
       "      <td>179.851</td>\n",
       "      <td>61525.5</td>\n",
       "      <td>74791.5</td>\n",
       "      <td>248.043</td>\n",
       "      <td>273.48</td>\n",
       "    </tr>\n",
       "  </tbody>\n",
       "</table>\n",
       "</div>"
      ],
      "text/plain": [
       "       train_R2   test_R2 train_MAXerror test_MAXerror train_mae test_mae  \\\n",
       "RF_1   0.880444  0.842565        2021.92       1964.99   252.601  257.078   \n",
       "GB_1   0.943226  0.900648           1355       1560.26   169.399  198.011   \n",
       "SVM_1  0.945099   0.90223        1553.21       1707.42   154.303  187.831   \n",
       "RF_2   0.881104  0.842512        2005.27       1968.72    251.92  257.007   \n",
       "GB_2   0.957967  0.903638        1184.94       1622.79   146.156  193.018   \n",
       "SVM_2  0.936506   0.90871        1938.79       1542.11   171.995  184.674   \n",
       "RF_3   0.881901  0.840448        2022.63       1965.08    251.14  257.781   \n",
       "GB_3    0.95688  0.904697        1330.73       1530.39   147.876  191.971   \n",
       "SVM_3  0.939538  0.911984        1824.37       1565.81   166.384  179.851   \n",
       "\n",
       "      train_mse test_mse train_rmse test_rmse  \n",
       "RF_1     121416   133623    348.447   365.545  \n",
       "GB_1    57656.6  83922.8    240.118   289.694  \n",
       "SVM_1     55906  82794.4    236.445    287.74  \n",
       "RF_2     120745   133627    347.484   365.551  \n",
       "GB_2    42687.3  81400.4    206.609   285.308  \n",
       "SVM_2   64632.3  77447.7    254.229   278.294  \n",
       "RF_3     119936   135289    346.317   367.816  \n",
       "GB_3    43790.3  80505.5    209.261   283.735  \n",
       "SVM_3   61525.5  74791.5    248.043    273.48  "
      ]
     },
     "execution_count": 39,
     "metadata": {},
     "output_type": "execute_result"
    }
   ],
   "source": [
    "df_metricas # SVM_3"
   ]
  }
 ],
 "metadata": {
  "kernelspec": {
   "display_name": "Python 3",
   "language": "python",
   "name": "python3"
  },
  "language_info": {
   "codemirror_mode": {
    "name": "ipython",
    "version": 3
   },
   "file_extension": ".py",
   "mimetype": "text/x-python",
   "name": "python",
   "nbconvert_exporter": "python",
   "pygments_lexer": "ipython3",
   "version": "3.7.6"
  }
 },
 "nbformat": 4,
 "nbformat_minor": 4
}
