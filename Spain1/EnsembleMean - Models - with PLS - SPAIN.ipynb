{
 "cells": [
  {
   "cell_type": "code",
   "execution_count": 1,
   "metadata": {},
   "outputs": [],
   "source": [
    "# libraries used\n",
    "import numpy as np\n",
    "import pandas as pd\n",
    "\n",
    "from sklearn.ensemble import RandomForestRegressor\n",
    "from sklearn.ensemble import GradientBoostingRegressor\n",
    "from sklearn.svm import SVR\n",
    "\n",
    "from scipy.stats import randint as sp_randint\n",
    "from scipy.stats import uniform\n",
    "from scipy.stats import loguniform\n",
    "from sklearn.model_selection import RandomizedSearchCV\n",
    "\n",
    "from sklearn.metrics import explained_variance_score\n",
    "from sklearn.metrics import max_error\n",
    "from sklearn.metrics import mean_absolute_error\n",
    "from sklearn.metrics import mean_squared_error\n",
    "\n",
    "# PLS\n",
    "from sklearn.cross_decomposition import PLSRegression\n",
    "from sklearn.pipeline import Pipeline\n",
    "from sklearn.pipeline import make_pipeline\n",
    "\n",
    "from sklearn.model_selection import cross_val_predict\n",
    "from sklearn.metrics import mean_squared_error, r2_score, mean_absolute_error\n",
    "import matplotlib.pyplot as plt"
   ]
  },
  {
   "cell_type": "code",
   "execution_count": 2,
   "metadata": {},
   "outputs": [],
   "source": [
    "# importing the merged dataset\n",
    "data = pd.read_csv('ensembleMean_Spain.csv')"
   ]
  },
  {
   "cell_type": "markdown",
   "metadata": {},
   "source": [
    "First of all, we split the data set into training and testing in order to get a higher precision of metrics. \n",
    "\n",
    "The training part includes the electricity data before year 2018 while the testing set includes the electricity data after 2018. "
   ]
  },
  {
   "cell_type": "code",
   "execution_count": 3,
   "metadata": {},
   "outputs": [],
   "source": [
    "# splitting data set into training set and testing set (OUTER)\n",
    "\n",
    "train = data[data['time']<'2018-01-01 00:00:00']  # trainig set are data from dates before 2018\n",
    "test = data[data['time']>='2018-01-01 00:00:00']  # testing set are data from dates after 2018"
   ]
  },
  {
   "cell_type": "code",
   "execution_count": 4,
   "metadata": {},
   "outputs": [],
   "source": [
    "# splitting the sets into variables and response\n",
    "y_train = train['response'].values\n",
    "x_train = train[[x for x in train.columns if (x != 'response') & (x != 'time')]].values\n",
    "\n",
    "y_test = test['response'].values\n",
    "x_test = test[[x for x in test.columns if (x != 'response') & (x != 'time')]].values"
   ]
  },
  {
   "cell_type": "code",
   "execution_count": 5,
   "metadata": {},
   "outputs": [
    {
     "data": {
      "text/html": [
       "<div>\n",
       "<style scoped>\n",
       "    .dataframe tbody tr th:only-of-type {\n",
       "        vertical-align: middle;\n",
       "    }\n",
       "\n",
       "    .dataframe tbody tr th {\n",
       "        vertical-align: top;\n",
       "    }\n",
       "\n",
       "    .dataframe thead th {\n",
       "        text-align: right;\n",
       "    }\n",
       "</style>\n",
       "<table border=\"1\" class=\"dataframe\">\n",
       "  <thead>\n",
       "    <tr style=\"text-align: right;\">\n",
       "      <th></th>\n",
       "      <th>time</th>\n",
       "      <th>norma_10_36.0_-0.5</th>\n",
       "      <th>norma_10_36.0_-1.0</th>\n",
       "      <th>norma_10_36.0_-1.5</th>\n",
       "      <th>norma_10_36.0_-2.0</th>\n",
       "      <th>norma_10_36.0_-2.5</th>\n",
       "      <th>norma_10_36.0_-3.0</th>\n",
       "      <th>norma_10_36.0_-3.5</th>\n",
       "      <th>norma_10_36.0_-4.0</th>\n",
       "      <th>norma_10_36.0_-4.5</th>\n",
       "      <th>...</th>\n",
       "      <th>v100_44.0_-9.0</th>\n",
       "      <th>v100_44.0_-9.5</th>\n",
       "      <th>v100_44.0_0.0</th>\n",
       "      <th>v100_44.0_0.5</th>\n",
       "      <th>v100_44.0_1.0</th>\n",
       "      <th>v100_44.0_1.5</th>\n",
       "      <th>v100_44.0_2.0</th>\n",
       "      <th>v100_44.0_2.5</th>\n",
       "      <th>v100_44.0_3.0</th>\n",
       "      <th>response</th>\n",
       "    </tr>\n",
       "  </thead>\n",
       "  <tbody>\n",
       "    <tr>\n",
       "      <th>5848</th>\n",
       "      <td>2017-01-01 00:00:00</td>\n",
       "      <td>1.906174</td>\n",
       "      <td>2.611856</td>\n",
       "      <td>3.791657</td>\n",
       "      <td>4.621365</td>\n",
       "      <td>5.310724</td>\n",
       "      <td>6.139571</td>\n",
       "      <td>7.04824</td>\n",
       "      <td>7.666611</td>\n",
       "      <td>7.167265</td>\n",
       "      <td>...</td>\n",
       "      <td>-0.622075</td>\n",
       "      <td>-0.645622</td>\n",
       "      <td>0.578852</td>\n",
       "      <td>0.635822</td>\n",
       "      <td>0.834078</td>\n",
       "      <td>1.299713</td>\n",
       "      <td>1.548102</td>\n",
       "      <td>1.428845</td>\n",
       "      <td>0.800656</td>\n",
       "      <td>111150.249</td>\n",
       "    </tr>\n",
       "  </tbody>\n",
       "</table>\n",
       "<p>1 rows × 3538 columns</p>\n",
       "</div>"
      ],
      "text/plain": [
       "                     time  norma_10_36.0_-0.5  norma_10_36.0_-1.0  \\\n",
       "5848  2017-01-01 00:00:00            1.906174            2.611856   \n",
       "\n",
       "      norma_10_36.0_-1.5  norma_10_36.0_-2.0  norma_10_36.0_-2.5  \\\n",
       "5848            3.791657            4.621365            5.310724   \n",
       "\n",
       "      norma_10_36.0_-3.0  norma_10_36.0_-3.5  norma_10_36.0_-4.0  \\\n",
       "5848            6.139571             7.04824            7.666611   \n",
       "\n",
       "      norma_10_36.0_-4.5  ...  v100_44.0_-9.0  v100_44.0_-9.5  v100_44.0_0.0  \\\n",
       "5848            7.167265  ...       -0.622075       -0.645622       0.578852   \n",
       "\n",
       "      v100_44.0_0.5  v100_44.0_1.0  v100_44.0_1.5  v100_44.0_2.0  \\\n",
       "5848       0.635822       0.834078       1.299713       1.548102   \n",
       "\n",
       "      v100_44.0_2.5  v100_44.0_3.0    response  \n",
       "5848       1.428845       0.800656  111150.249  \n",
       "\n",
       "[1 rows x 3538 columns]"
      ]
     },
     "execution_count": 5,
     "metadata": {},
     "output_type": "execute_result"
    }
   ],
   "source": [
    "train[train['time']=='2017-01-01 00:00:00'] # checking the first day of 2017 in order to split training from validation(INNER)"
   ]
  },
  {
   "cell_type": "code",
   "execution_count": 6,
   "metadata": {},
   "outputs": [],
   "source": [
    "# Splitting indeces to create a custom cv \n",
    "\n",
    "train_indices = list(range(0,5848))             # dates before 2017 to train\n",
    "test_indices = list(range(5848, len(train)))    # dates from 2017 to 2018 to validate (INNER)\n",
    "custom_cv = [(train_indices, test_indices)]"
   ]
  },
  {
   "cell_type": "markdown",
   "metadata": {},
   "source": [
    "Creating functions in order to facilitate the procedures afterwards"
   ]
  },
  {
   "cell_type": "code",
   "execution_count": 7,
   "metadata": {},
   "outputs": [],
   "source": [
    "def optimize_svm(x_train, y_train, params_svm):   \n",
    "    svm = SVR()\n",
    "    svm_search = RandomizedSearchCV(svm, params_svm, cv=custom_cv, n_iter = 30)\n",
    "    svm_search.fit(x_train, y_train)\n",
    "    return svm_search.best_estimator_"
   ]
  },
  {
   "cell_type": "markdown",
   "metadata": {},
   "source": [
    "### ALL VARIABLES"
   ]
  },
  {
   "cell_type": "code",
   "execution_count": 8,
   "metadata": {},
   "outputs": [],
   "source": [
    "def optimise_pls_cv(X, y, n_comp):\n",
    "    # Defining PLS object\n",
    "    pls = PLSRegression(n_components=n_comp)\n",
    "\n",
    "    # Cross validation prediction\n",
    "    y_cv = cross_val_predict(pls, X, y, cv=10)\n",
    "\n",
    "    # Calculate metrics\n",
    "    r2 = r2_score(y, y_cv)\n",
    "    mse = mean_squared_error(y, y_cv)\n",
    "    rpd = y.std()/np.sqrt(mse)\n",
    "    mae = mean_absolute_error(y, y_cv)\n",
    "\n",
    "    return (y_cv, r2, mse, rpd, mae)"
   ]
  },
  {
   "cell_type": "code",
   "execution_count": 9,
   "metadata": {
    "scrolled": false
   },
   "outputs": [],
   "source": [
    "# test with 50 components\n",
    "r2s = []\n",
    "mses = []\n",
    "rpds = []\n",
    "maes = []\n",
    "\n",
    "xticks = np.arange(1, 50)\n",
    "for n_comp in xticks:\n",
    "    y_cv, r2, mse, rpd, mae = optimise_pls_cv(x_train, y_train, n_comp)\n",
    "    r2s.append(r2)\n",
    "    mses.append(mse)\n",
    "    rpds.append(rpd)\n",
    "    maes.append(mae)"
   ]
  },
  {
   "cell_type": "code",
   "execution_count": 10,
   "metadata": {},
   "outputs": [],
   "source": [
    "# Plot the metrics\n",
    "def plot_metrics(vals, ylabel, objective):\n",
    "    with plt.style.context('ggplot'):\n",
    "        plt.plot(xticks, np.array(vals), '-v', color='blue', mfc='blue')\n",
    "        if objective=='min':\n",
    "            idx = np.argmin(vals)\n",
    "        else:\n",
    "            idx = np.argmax(vals)\n",
    "        plt.plot(xticks[idx], np.array(vals)[idx], 'P', ms=10, mfc='red')\n",
    "\n",
    "        plt.xlabel('Number of PLS components')\n",
    "        plt.xticks = xticks\n",
    "        plt.ylabel(ylabel)\n",
    "        plt.title('PLS')\n",
    "\n",
    "    plt.show()"
   ]
  },
  {
   "cell_type": "markdown",
   "metadata": {},
   "source": [
    "We can observe from the following plots that, with 21 components it gets to the optimal values for the metrics: highest R2 and lowest MSE. "
   ]
  },
  {
   "cell_type": "code",
   "execution_count": 11,
   "metadata": {},
   "outputs": [
    {
     "data": {
      "image/png": "[encoded data removed]",
      "text/plain": [
       "<Figure size 432x288 with 1 Axes>"
      ]
     },
     "metadata": {},
     "output_type": "display_data"
    }
   ],
   "source": [
    "plot_metrics(mses, 'MSE', 'min')"
   ]
  },
  {
   "cell_type": "code",
   "execution_count": 12,
   "metadata": {},
   "outputs": [
    {
     "data": {
      "image/png": "[encoded data removed]",
      "text/plain": [
       "<Figure size 432x288 with 1 Axes>"
      ]
     },
     "metadata": {},
     "output_type": "display_data"
    }
   ],
   "source": [
    "plot_metrics(rpds, 'RPD', 'max')"
   ]
  },
  {
   "cell_type": "code",
   "execution_count": 13,
   "metadata": {},
   "outputs": [
    {
     "data": {
      "image/png": "[encoded data removed]",
      "text/plain": [
       "<Figure size 432x288 with 1 Axes>"
      ]
     },
     "metadata": {},
     "output_type": "display_data"
    }
   ],
   "source": [
    "plot_metrics(r2s, 'R2', 'max')"
   ]
  },
  {
   "cell_type": "code",
   "execution_count": 14,
   "metadata": {
    "scrolled": true
   },
   "outputs": [
    {
     "data": {
      "image/png": "[encoded data removed]",
      "text/plain": [
       "<Figure size 432x288 with 1 Axes>"
      ]
     },
     "metadata": {},
     "output_type": "display_data"
    }
   ],
   "source": [
    "plot_metrics(maes, 'MAE', 'min')"
   ]
  },
  {
   "cell_type": "markdown",
   "metadata": {},
   "source": [
    "But in order to aviod overfitting with the training set, we will try to use 3 values of components to see if smaller values will work better. "
   ]
  },
  {
   "cell_type": "code",
   "execution_count": 15,
   "metadata": {},
   "outputs": [],
   "source": [
    "pls1 = PLSRegression(n_components=20).fit(x_train, y_train)\n",
    "x_train_1 = pls1.transform(x_train)\n",
    "x_test_1 = pls1.transform(x_test)"
   ]
  },
  {
   "cell_type": "code",
   "execution_count": 16,
   "metadata": {},
   "outputs": [],
   "source": [
    "pls2 = PLSRegression(n_components=30).fit(x_train, y_train)\n",
    "x_train_2 = pls2.transform(x_train)\n",
    "x_test_2 = pls2.transform(x_test)"
   ]
  },
  {
   "cell_type": "code",
   "execution_count": 17,
   "metadata": {},
   "outputs": [],
   "source": [
    "pls3 = PLSRegression(n_components=39).fit(x_train, y_train)\n",
    "x_train_3 = pls3.transform(x_train)\n",
    "x_test_3 = pls3.transform(x_test)"
   ]
  },
  {
   "cell_type": "markdown",
   "metadata": {},
   "source": [
    "#### Support Vector Machine"
   ]
  },
  {
   "cell_type": "code",
   "execution_count": 18,
   "metadata": {},
   "outputs": [],
   "source": [
    "# creating a metrics matrix in order to visualize the different results\n",
    "df_metricas=pd.DataFrame(columns=['train_R2', 'test_R2', 'train_MAXerror', 'test_MAXerror',\n",
    "                                 'train_mae', 'test_mae', 'train_mse', 'test_mse', \n",
    "                                  'train_rmse', 'test_rmse'], \n",
    "                         index=['SVM_1',  # 1 means 20 components after dimension reduction\n",
    "                                'SVM_2',  # 2 means 30 components after dimension reduction\n",
    "                                'SVM_3']) # 3 means 39 components after dimension reduction"
   ]
  },
  {
   "cell_type": "code",
   "execution_count": 19,
   "metadata": {},
   "outputs": [],
   "source": [
    "# Metrics for evaluating\n",
    "def metrics(y_train, pred_train, y_test, pred_test, model):\n",
    "    # Varianza explicada\n",
    "    ve_train = explained_variance_score(y_train, pred_train)\n",
    "    ve_test = explained_variance_score(y_test, pred_test)\n",
    "    print('explained variance of training set:',(ve_train))\n",
    "    print('explained variance of testing set:',(ve_test))\n",
    "    df_metricas.loc[model, 'train_R2']=ve_train\n",
    "    df_metricas.loc[model, 'test_R2']=ve_test\n",
    "    # Maximum error\n",
    "    me_train = max_error(pred_train, y_train)\n",
    "    me_test = max_error(pred_test, y_test)\n",
    "    print('maximum error of training set:',(me_train))\n",
    "    print('maximum error of testing set:',(me_test))\n",
    "    df_metricas.loc[model, 'train_MAXerror']=me_train\n",
    "    df_metricas.loc[model, 'test_MAXerror']=me_test\n",
    "    # mean absolute error: datos mal predichos, no al cuadrado, menor peso\n",
    "    mae_train = mean_absolute_error(pred_train, y_train)\n",
    "    mae_test = mean_absolute_error(pred_test, y_test)\n",
    "    print('mae of training set:',(mae_train))\n",
    "    print('mae of testing set:',(mae_test))\n",
    "    df_metricas.loc[model, 'train_mae']=mae_train\n",
    "    df_metricas.loc[model, 'test_mae']=mae_test\n",
    "    # mean squared error: al cuadrado \n",
    "    # raiz de mse\n",
    "    mse_train = mean_squared_error(pred_train, y_train)\n",
    "    mse_test = mean_squared_error(pred_test, y_test)\n",
    "    print('mse of training set:',(mse_train))\n",
    "    print('mse of testing set:',(mse_test))\n",
    "    df_metricas.loc[model, 'train_mse']=mse_train\n",
    "    df_metricas.loc[model, 'test_mse']=mse_test\n",
    "    rmse_train = np.sqrt(mse_train)\n",
    "    rmse_test = np.sqrt(mse_test)\n",
    "    print('rmse of training set:',(rmse_train))\n",
    "    print('rmse of testing set:',(rmse_test))\n",
    "    df_metricas.loc[model, 'train_rmse']=rmse_train\n",
    "    df_metricas.loc[model, 'test_rmse']=rmse_test"
   ]
  },
  {
   "cell_type": "code",
   "execution_count": 32,
   "metadata": {
    "scrolled": true
   },
   "outputs": [
    {
     "data": {
      "text/plain": [
       "SVR(C=233007.13692358672, cache_size=200, coef0=0.0, degree=3, epsilon=0.1,\n",
       "    gamma=0.0001666016871705327, kernel='rbf', max_iter=-1, shrinking=True,\n",
       "    tol=0.001, verbose=False)"
      ]
     },
     "execution_count": 32,
     "metadata": {},
     "output_type": "execute_result"
    }
   ],
   "source": [
    "params_svm1 = {'C': loguniform(10e-5, 10e+5),\n",
    "               'gamma': loguniform(10e-5, 10e+1),\n",
    "               'kernel': ['rbf']}\n",
    "\n",
    "svm1 = optimize_svm(x_train_1, y_train, params_svm1)\n",
    "svm1"
   ]
  },
  {
   "cell_type": "code",
   "execution_count": 33,
   "metadata": {
    "scrolled": true
   },
   "outputs": [
    {
     "name": "stdout",
     "output_type": "stream",
     "text": [
      "explained variance of training set: 0.9726371390558515\n",
      "explained variance of testing set: 0.9586398888602016\n",
      "maximum error of training set: 296944.1189330247\n",
      "maximum error of testing set: 371452.91032253875\n",
      "mae of training set: 24353.313888776436\n",
      "mae of testing set: 31495.76223810685\n",
      "mse of training set: 1101829991.5835176\n",
      "mse of testing set: 1800790488.0114117\n",
      "rmse of training set: 33193.824600119784\n",
      "rmse of testing set: 42435.72183917002\n"
     ]
    }
   ],
   "source": [
    "svm1_pred_train = svm1.predict(x_train_1)\n",
    "svm1_pred_test = svm1.predict(x_test_1)\n",
    "\n",
    "metrics(y_train, svm1_pred_train, y_test, svm1_pred_test, 'SVM_1')"
   ]
  },
  {
   "cell_type": "code",
   "execution_count": 34,
   "metadata": {},
   "outputs": [
    {
     "data": {
      "text/plain": [
       "SVR(C=220108.58881302745, cache_size=200, coef0=0.0, degree=3, epsilon=0.1,\n",
       "    gamma=0.0006992669762335396, kernel='rbf', max_iter=-1, shrinking=True,\n",
       "    tol=0.001, verbose=False)"
      ]
     },
     "execution_count": 34,
     "metadata": {},
     "output_type": "execute_result"
    }
   ],
   "source": [
    "params_svm2 = {'C': loguniform(10e-5, 10e+5),\n",
    "               'gamma': loguniform(10e-5, 10e+1),\n",
    "               'kernel': ['rbf']}\n",
    "\n",
    "svm2 = optimize_svm(x_train_2, y_train, params_svm2)\n",
    "svm2"
   ]
  },
  {
   "cell_type": "code",
   "execution_count": 35,
   "metadata": {},
   "outputs": [
    {
     "name": "stdout",
     "output_type": "stream",
     "text": [
      "explained variance of training set: 0.9915025454963666\n",
      "explained variance of testing set: 0.9479538635702939\n",
      "maximum error of training set: 201229.93585255183\n",
      "maximum error of testing set: 380258.1993800573\n",
      "mae of training set: 10708.161795139737\n",
      "mae of testing set: 34383.52915315194\n",
      "mse of training set: 342517242.11499524\n",
      "mse of testing set: 2269969739.8542433\n",
      "rmse of training set: 18507.221350461965\n",
      "rmse of testing set: 47644.19943554769\n"
     ]
    }
   ],
   "source": [
    "svm2_pred_train = svm2.predict(x_train_2)\n",
    "svm2_pred_test = svm2.predict(x_test_2)\n",
    "\n",
    "metrics(y_train, svm2_pred_train, y_test, svm2_pred_test, 'SVM_2')"
   ]
  },
  {
   "cell_type": "code",
   "execution_count": 36,
   "metadata": {},
   "outputs": [
    {
     "data": {
      "text/plain": [
       "SVR(C=539002.1234904168, cache_size=200, coef0=0.0, degree=3, epsilon=0.1,\n",
       "    gamma=0.0010122400450617694, kernel='rbf', max_iter=-1, shrinking=True,\n",
       "    tol=0.001, verbose=False)"
      ]
     },
     "execution_count": 36,
     "metadata": {},
     "output_type": "execute_result"
    }
   ],
   "source": [
    "params_svm3 = {'C': loguniform(10e-5, 10e+5),\n",
    "               'gamma': loguniform(10e-5, 10e+1),\n",
    "               'kernel': ['rbf']}\n",
    "\n",
    "svm3 = optimize_svm(x_train_3, y_train, params_svm3)\n",
    "svm3"
   ]
  },
  {
   "cell_type": "code",
   "execution_count": 37,
   "metadata": {},
   "outputs": [
    {
     "name": "stdout",
     "output_type": "stream",
     "text": [
      "explained variance of training set: 0.998997882715469\n",
      "explained variance of testing set: 0.9341886211703215\n",
      "maximum error of training set: 152171.11526741408\n",
      "maximum error of testing set: 445553.6992665534\n",
      "mae of training set: 1798.9078625409556\n",
      "mae of testing set: 37950.09946489518\n",
      "mse of training set: 40368663.21202559\n",
      "mse of testing set: 2865141961.534558\n",
      "rmse of training set: 6353.633858826427\n",
      "rmse of testing set: 53527.020854280294\n"
     ]
    }
   ],
   "source": [
    "svm3_pred_train = svm3.predict(x_train_3)\n",
    "svm3_pred_test = svm3.predict(x_test_3)\n",
    "\n",
    "metrics(y_train, svm3_pred_train, y_test, svm3_pred_test, 'SVM_3') # best metric up to now"
   ]
  },
  {
   "cell_type": "code",
   "execution_count": 38,
   "metadata": {
    "scrolled": true
   },
   "outputs": [
    {
     "data": {
      "text/html": [
       "<div>\n",
       "<style scoped>\n",
       "    .dataframe tbody tr th:only-of-type {\n",
       "        vertical-align: middle;\n",
       "    }\n",
       "\n",
       "    .dataframe tbody tr th {\n",
       "        vertical-align: top;\n",
       "    }\n",
       "\n",
       "    .dataframe thead th {\n",
       "        text-align: right;\n",
       "    }\n",
       "</style>\n",
       "<table border=\"1\" class=\"dataframe\">\n",
       "  <thead>\n",
       "    <tr style=\"text-align: right;\">\n",
       "      <th></th>\n",
       "      <th>train_R2</th>\n",
       "      <th>test_R2</th>\n",
       "      <th>train_MAXerror</th>\n",
       "      <th>test_MAXerror</th>\n",
       "      <th>train_mae</th>\n",
       "      <th>test_mae</th>\n",
       "      <th>train_mse</th>\n",
       "      <th>test_mse</th>\n",
       "      <th>train_rmse</th>\n",
       "      <th>test_rmse</th>\n",
       "    </tr>\n",
       "  </thead>\n",
       "  <tbody>\n",
       "    <tr>\n",
       "      <th>SVM_1</th>\n",
       "      <td>0.972637</td>\n",
       "      <td>0.95864</td>\n",
       "      <td>296944</td>\n",
       "      <td>371453</td>\n",
       "      <td>24353.3</td>\n",
       "      <td>31495.8</td>\n",
       "      <td>1.10183e+09</td>\n",
       "      <td>1.80079e+09</td>\n",
       "      <td>33193.8</td>\n",
       "      <td>42435.7</td>\n",
       "    </tr>\n",
       "    <tr>\n",
       "      <th>SVM_2</th>\n",
       "      <td>0.991503</td>\n",
       "      <td>0.947954</td>\n",
       "      <td>201230</td>\n",
       "      <td>380258</td>\n",
       "      <td>10708.2</td>\n",
       "      <td>34383.5</td>\n",
       "      <td>3.42517e+08</td>\n",
       "      <td>2.26997e+09</td>\n",
       "      <td>18507.2</td>\n",
       "      <td>47644.2</td>\n",
       "    </tr>\n",
       "    <tr>\n",
       "      <th>SVM_3</th>\n",
       "      <td>0.998998</td>\n",
       "      <td>0.934189</td>\n",
       "      <td>152171</td>\n",
       "      <td>445554</td>\n",
       "      <td>1798.91</td>\n",
       "      <td>37950.1</td>\n",
       "      <td>4.03687e+07</td>\n",
       "      <td>2.86514e+09</td>\n",
       "      <td>6353.63</td>\n",
       "      <td>53527</td>\n",
       "    </tr>\n",
       "  </tbody>\n",
       "</table>\n",
       "</div>"
      ],
      "text/plain": [
       "       train_R2   test_R2 train_MAXerror test_MAXerror train_mae test_mae  \\\n",
       "SVM_1  0.972637   0.95864         296944        371453   24353.3  31495.8   \n",
       "SVM_2  0.991503  0.947954         201230        380258   10708.2  34383.5   \n",
       "SVM_3  0.998998  0.934189         152171        445554   1798.91  37950.1   \n",
       "\n",
       "         train_mse     test_mse train_rmse test_rmse  \n",
       "SVM_1  1.10183e+09  1.80079e+09    33193.8   42435.7  \n",
       "SVM_2  3.42517e+08  2.26997e+09    18507.2   47644.2  \n",
       "SVM_3  4.03687e+07  2.86514e+09    6353.63     53527  "
      ]
     },
     "execution_count": 38,
     "metadata": {},
     "output_type": "execute_result"
    }
   ],
   "source": [
    "df_metricas"
   ]
  },
  {
   "cell_type": "code",
   "execution_count": 42,
   "metadata": {},
   "outputs": [
    {
     "data": {
      "text/plain": [
       "0.1205499001562852"
      ]
     },
     "execution_count": 42,
     "metadata": {},
     "output_type": "execute_result"
    }
   ],
   "source": [
    "# Best model for Spanish electricity production\n",
    "42435.7/np.mean(test['response'])"
   ]
  },
  {
   "cell_type": "code",
   "execution_count": 43,
   "metadata": {
    "scrolled": true
   },
   "outputs": [
    {
     "data": {
      "text/plain": [
       "0.8794500998437148"
      ]
     },
     "execution_count": 43,
     "metadata": {},
     "output_type": "execute_result"
    }
   ],
   "source": [
    "# precision\n",
    "1-42435.7/np.mean(test['response']) "
   ]
  },
  {
   "cell_type": "markdown",
   "metadata": {},
   "source": [
    "#### Baseline model: Linear Regression"
   ]
  },
  {
   "cell_type": "code",
   "execution_count": 39,
   "metadata": {},
   "outputs": [
    {
     "data": {
      "text/plain": [
       "LinearRegression(copy_X=True, fit_intercept=True, n_jobs=None, normalize=False)"
      ]
     },
     "execution_count": 39,
     "metadata": {},
     "output_type": "execute_result"
    }
   ],
   "source": [
    "from sklearn import linear_model\n",
    "\n",
    "lm = linear_model.LinearRegression()\n",
    "lm.fit(x_train, y_train)"
   ]
  },
  {
   "cell_type": "code",
   "execution_count": 40,
   "metadata": {},
   "outputs": [],
   "source": [
    "lm_pred_train = lm.predict(x_train)\n",
    "lm_pred_test = lm.predict(x_test)"
   ]
  },
  {
   "cell_type": "code",
   "execution_count": 41,
   "metadata": {},
   "outputs": [
    {
     "name": "stdout",
     "output_type": "stream",
     "text": [
      "explained variance of training set: 0.9803943000970675\n",
      "explained variance of testing set: 0.9250961994990482\n",
      "maximum error of training set: 184837.2621007465\n",
      "maximum error of testing set: 396570.13765289314\n",
      "mae of training set: 21766.850759637444\n",
      "mae of testing set: 44624.01357955864\n",
      "mse of training set: 789469611.1508766\n",
      "mse of testing set: 3325849568.3987036\n",
      "rmse of training set: 28097.501866729657\n",
      "rmse of testing set: 57670.17919513259\n"
     ]
    }
   ],
   "source": [
    "ve_train = explained_variance_score(y_train, lm_pred_train)\n",
    "ve_test = explained_variance_score(y_test, lm_pred_test)\n",
    "print('explained variance of training set:',(ve_train))\n",
    "print('explained variance of testing set:',(ve_test))\n",
    "# Maximum error\n",
    "me_train = max_error(lm_pred_train, y_train)\n",
    "me_test = max_error(lm_pred_test, y_test)\n",
    "print('maximum error of training set:',(me_train))\n",
    "print('maximum error of testing set:',(me_test))\n",
    "# mean absolute error: datos mal predichos, no al cuadrado, menor peso\n",
    "mae_train = mean_absolute_error(lm_pred_train, y_train)\n",
    "mae_test = mean_absolute_error(lm_pred_test, y_test)\n",
    "print('mae of training set:',(mae_train))\n",
    "print('mae of testing set:',(mae_test))\n",
    "# mean squared error: al cuadrado \n",
    "# raiz de mse\n",
    "mse_train = mean_squared_error(lm_pred_train, y_train)\n",
    "mse_test = mean_squared_error(lm_pred_test, y_test)\n",
    "print('mse of training set:',(mse_train))\n",
    "print('mse of testing set:',(mse_test))\n",
    "rmse_train = np.sqrt(mse_train)\n",
    "rmse_test = np.sqrt(mse_test)\n",
    "print('rmse of training set:',(rmse_train))\n",
    "print('rmse of testing set:',(rmse_test))"
   ]
  },
  {
   "cell_type": "markdown",
   "metadata": {},
   "source": [
    "#### Fraction of variance in X explained by each latent vector after PLS regression"
   ]
  },
  {
   "cell_type": "code",
   "execution_count": 44,
   "metadata": {},
   "outputs": [],
   "source": [
    "# X is a numpy ndarray with samples in rows and predictor variables in columns\n",
    "# y is one-dimensional ndarray containing the response variable\n",
    "\n",
    "total_variance_in_x = np.var(x_train, axis = 0)\n",
    "\n",
    "pls1 = PLSRegression(n_components = 20)\n",
    "pls1.fit(x_train, y_train) \n",
    "\n",
    "# variance in transformed X data for each latent vector:\n",
    "variance_in_x = np.var(pls1.x_scores_, axis = 0) \n",
    "\n",
    "# normalize variance by total variance:\n",
    "fractions_of_explained_variance = variance_in_x / sum(total_variance_in_x)"
   ]
  },
  {
   "cell_type": "code",
   "execution_count": 45,
   "metadata": {},
   "outputs": [
    {
     "data": {
      "text/plain": [
       "array([3.90408030e-06, 1.52009838e-06, 2.15529123e-06, 6.17924609e-07,\n",
       "       8.59330299e-07, 9.57639519e-07, 6.49827746e-07, 1.69845763e-07,\n",
       "       1.72031874e-07, 1.91742500e-07, 1.72444903e-07, 9.47594885e-08,\n",
       "       1.85592633e-07, 1.16103585e-07, 8.21928159e-08, 1.15159125e-07,\n",
       "       5.18649326e-08, 8.72193434e-08, 7.16043771e-08, 5.47698783e-08])"
      ]
     },
     "execution_count": 45,
     "metadata": {},
     "output_type": "execute_result"
    }
   ],
   "source": [
    "fractions_of_explained_variance"
   ]
  },
  {
   "cell_type": "code",
   "execution_count": 46,
   "metadata": {
    "scrolled": true
   },
   "outputs": [
    {
     "data": {
      "text/plain": [
       "[<matplotlib.lines.Line2D at 0x1ebbdb6a5c8>]"
      ]
     },
     "execution_count": 46,
     "metadata": {},
     "output_type": "execute_result"
    },
    {
     "data": {
      "image/png": "[encoded data removed]",
      "text/plain": [
       "<Figure size 432x288 with 1 Axes>"
      ]
     },
     "metadata": {
      "needs_background": "light"
     },
     "output_type": "display_data"
    }
   ],
   "source": [
    "# explained variance per each component \n",
    "plt.plot(fractions_of_explained_variance)"
   ]
  },
  {
   "cell_type": "code",
   "execution_count": 47,
   "metadata": {},
   "outputs": [
    {
     "data": {
      "text/plain": [
       "array([3.90408030e-06, 5.42417868e-06, 7.57946991e-06, 8.19739452e-06,\n",
       "       9.05672482e-06, 1.00143643e-05, 1.06641921e-05, 1.08340378e-05,\n",
       "       1.10060697e-05, 1.11978122e-05, 1.13702571e-05, 1.14650166e-05,\n",
       "       1.16506092e-05, 1.17667128e-05, 1.18489056e-05, 1.19640648e-05,\n",
       "       1.20159297e-05, 1.21031490e-05, 1.21747534e-05, 1.22295233e-05])"
      ]
     },
     "execution_count": 47,
     "metadata": {},
     "output_type": "execute_result"
    }
   ],
   "source": [
    "cumulative_ex_variance = np.cumsum(fractions_of_explained_variance)\n",
    "cumulative_ex_variance"
   ]
  },
  {
   "cell_type": "code",
   "execution_count": 49,
   "metadata": {
    "scrolled": true
   },
   "outputs": [
    {
     "data": {
      "text/plain": [
       "[<matplotlib.lines.Line2D at 0x1ebbd961bc8>]"
      ]
     },
     "execution_count": 49,
     "metadata": {},
     "output_type": "execute_result"
    },
    {
     "data": {
      "image/png": "[encoded data removed]",
      "text/plain": [
       "<Figure size 432x288 with 1 Axes>"
      ]
     },
     "metadata": {
      "needs_background": "light"
     },
     "output_type": "display_data"
    }
   ],
   "source": [
    "# cumulative explained variance per component \n",
    "plt.plot(cumulative_ex_variance)"
   ]
  },
  {
   "cell_type": "markdown",
   "metadata": {},
   "source": [
    "### baseline model"
   ]
  },
  {
   "cell_type": "code",
   "execution_count": 7,
   "metadata": {},
   "outputs": [],
   "source": [
    "pls1 = PLSRegression(n_components=20).fit(x_train, y_train)\n",
    "\n",
    "pred_train_pls = pls1.predict(x_train)\n",
    "pred_test_pls = pls1.predict(x_test)"
   ]
  },
  {
   "cell_type": "code",
   "execution_count": 8,
   "metadata": {},
   "outputs": [
    {
     "name": "stdout",
     "output_type": "stream",
     "text": [
      "explained variance of training set: 0.9514657584915945\n",
      "explained variance of testing set: 0.9459657418929653\n",
      "maximum error of training set: 476889.42592628184\n",
      "maximum error of testing set: 393823.9071132399\n",
      "mae of training set: 32704.334611506853\n",
      "mae of testing set: 36731.367979465234\n",
      "mse of training set: 1954345366.9518096\n",
      "mse of testing set: 2369177961.20581\n",
      "rmse of training set: 44207.97854405706\n",
      "rmse of testing set: 48674.2022143744\n"
     ]
    }
   ],
   "source": [
    "ve_train = explained_variance_score(y_train, pred_train_pls)\n",
    "ve_test = explained_variance_score(y_test, pred_test_pls)\n",
    "print('explained variance of training set:',(ve_train))\n",
    "print('explained variance of testing set:',(ve_test))\n",
    "# Maximum error\n",
    "me_train = max_error(pred_train_pls, y_train)\n",
    "me_test = max_error(pred_test_pls, y_test)\n",
    "print('maximum error of training set:',(me_train))\n",
    "print('maximum error of testing set:',(me_test))\n",
    "# mean absolute error: datos mal predichos, no al cuadrado, menor peso\n",
    "mae_train = mean_absolute_error(pred_train_pls, y_train)\n",
    "mae_test = mean_absolute_error(pred_test_pls, y_test)\n",
    "print('mae of training set:',(mae_train))\n",
    "print('mae of testing set:',(mae_test))\n",
    "# mean squared error: al cuadrado \n",
    "# raiz de mse\n",
    "mse_train = mean_squared_error(pred_train_pls, y_train)\n",
    "mse_test = mean_squared_error(pred_test_pls, y_test)\n",
    "print('mse of training set:',(mse_train))\n",
    "print('mse of testing set:',(mse_test))\n",
    "rmse_train = np.sqrt(mse_train)\n",
    "rmse_test = np.sqrt(mse_test)\n",
    "print('rmse of training set:',(rmse_train))\n",
    "print('rmse of testing set:',(rmse_test))"
   ]
  },
  {
   "cell_type": "code",
   "execution_count": null,
   "metadata": {},
   "outputs": [],
   "source": []
  }
 ],
 "metadata": {
  "kernelspec": {
   "display_name": "Python 3",
   "language": "python",
   "name": "python3"
  },
  "language_info": {
   "codemirror_mode": {
    "name": "ipython",
    "version": 3
   },
   "file_extension": ".py",
   "mimetype": "text/x-python",
   "name": "python",
   "nbconvert_exporter": "python",
   "pygments_lexer": "ipython3",
   "version": "3.7.6"
  }
 },
 "nbformat": 4,
 "nbformat_minor": 4
}
